{
 "cells": [
  {
   "cell_type": "markdown",
   "metadata": {},
   "source": [
    "# Scrape IDEO Journal"
   ]
  },
  {
   "cell_type": "code",
   "execution_count": null,
   "metadata": {
    "ExecuteTime": {
     "end_time": "2020-11-16T20:19:56.491986Z",
     "start_time": "2020-11-16T20:19:55.755515Z"
    }
   },
   "outputs": [],
   "source": [
    "# Jupyter magic\n",
    "%load_ext autoreload\n",
    "%autoreload 2\n",
    "%matplotlib inline"
   ]
  },
  {
   "cell_type": "code",
   "execution_count": null,
   "metadata": {
    "ExecuteTime": {
     "end_time": "2020-11-16T20:32:31.887524Z",
     "start_time": "2020-11-16T20:32:31.491105Z"
    }
   },
   "outputs": [],
   "source": [
    "# imports\n",
    "import requests\n",
    "from bs4 import BeautifulSoup\n",
    "import re\n",
    "import time\n",
    "import random\n",
    "import pandas as pd\n",
    "# from seleniumrequests import Chrome\n",
    "import pathlib"
   ]
  },
  {
   "cell_type": "code",
   "execution_count": null,
   "metadata": {
    "ExecuteTime": {
     "end_time": "2020-11-16T20:33:01.823878Z",
     "start_time": "2020-11-16T20:33:01.779861Z"
    }
   },
   "outputs": [],
   "source": [
    "save_dir = \"../1_data/IDEO_journal\"\n",
    "pathlib.Path(save_dir).exists()"
   ]
  },
  {
   "cell_type": "markdown",
   "metadata": {},
   "source": [
    "## Create index of URLs for journal posts"
   ]
  },
  {
   "cell_type": "code",
   "execution_count": null,
   "metadata": {
    "ExecuteTime": {
     "end_time": "2020-11-16T20:24:50.864712Z",
     "start_time": "2020-11-16T20:24:50.725334Z"
    }
   },
   "outputs": [],
   "source": [
    "url = \"https://www.ideo.com/journal\"\n",
    "\n",
    "\n",
    "response = requests.get(url)\n",
    "print(response)\n",
    "soup = BeautifulSoup(response.text, 'html.parser')\n",
    "links1 = [a.get('href') for a in soup.find_all('a')]\n",
    "len(links1)"
   ]
  },
  {
   "cell_type": "code",
   "execution_count": null,
   "metadata": {
    "ExecuteTime": {
     "end_time": "2020-11-16T20:24:53.250462Z",
     "start_time": "2020-11-16T20:24:53.094764Z"
    }
   },
   "outputs": [],
   "source": [
    "url = \"https://www.ideo.com/journal/archive/2\"\n",
    "\n",
    "response = requests.get(url)\n",
    "print(response)\n",
    "soup = BeautifulSoup(response.text, 'html.parser')\n",
    "links2 = [a.get('href') for a in soup.find_all('a')]\n",
    "len(links2)"
   ]
  },
  {
   "cell_type": "code",
   "execution_count": null,
   "metadata": {
    "ExecuteTime": {
     "end_time": "2020-11-16T20:24:54.121947Z",
     "start_time": "2020-11-16T20:24:54.079813Z"
    }
   },
   "outputs": [],
   "source": [
    "unique_links = links1 + links2\n",
    "print(f'before dedupe: {len(unique_links)}')\n",
    "unique_links = list(set(unique_links))\n",
    "len(unique_links)"
   ]
  },
  {
   "cell_type": "code",
   "execution_count": null,
   "metadata": {
    "ExecuteTime": {
     "end_time": "2020-11-16T20:38:06.821871Z",
     "start_time": "2020-11-16T20:38:06.747399Z"
    }
   },
   "outputs": [],
   "source": [
    "article_links = [l for l in unique_links if '/journal/' in l]\n",
    "article_links.remove('/journal/archive')\n",
    "\n",
    "full_urls = ['https://www.ideo.com' + link for link in article_links]\n",
    "\n",
    "\n",
    "len(full_urls)"
   ]
  },
  {
   "cell_type": "code",
   "execution_count": null,
   "metadata": {
    "ExecuteTime": {
     "end_time": "2020-11-16T20:38:12.930311Z",
     "start_time": "2020-11-16T20:38:12.892053Z"
    }
   },
   "outputs": [],
   "source": [
    "# Save them as backup\n",
    "with open(f'{save_dir}/index.txt', 'w') as f:\n",
    "    f.writelines(full_urls)"
   ]
  },
  {
   "cell_type": "markdown",
   "metadata": {
    "ExecuteTime": {
     "end_time": "2020-11-16T18:18:17.667458Z",
     "start_time": "2020-11-16T18:18:04.637136Z"
    },
    "scrolled": false
   },
   "source": [
    "## Grab the text for each post"
   ]
  },
  {
   "cell_type": "markdown",
   "metadata": {
    "ExecuteTime": {
     "end_time": "2020-11-16T18:26:54.601299Z",
     "start_time": "2020-11-16T18:26:54.546918Z"
    }
   },
   "source": []
  },
  {
   "cell_type": "code",
   "execution_count": null,
   "metadata": {
    "ExecuteTime": {
     "end_time": "2020-11-16T20:38:27.059612Z",
     "start_time": "2020-11-16T20:38:27.003316Z"
    }
   },
   "outputs": [],
   "source": [
    "full_urls[0]"
   ]
  },
  {
   "cell_type": "code",
   "execution_count": null,
   "metadata": {
    "ExecuteTime": {
     "end_time": "2020-11-16T20:38:22.784853Z",
     "start_time": "2020-11-16T20:38:22.556551Z"
    }
   },
   "outputs": [],
   "source": [
    "article_url = full_urls[0]\n",
    "response = requests.get(full_url)\n",
    "print(response)\n",
    "soup = BeautifulSoup(response.text, 'html.parser')\n"
   ]
  },
  {
   "cell_type": "code",
   "execution_count": null,
   "metadata": {
    "ExecuteTime": {
     "end_time": "2020-11-16T20:37:28.624835Z",
     "start_time": "2020-11-16T20:37:28.560110Z"
    }
   },
   "outputs": [],
   "source": [
    "full_url"
   ]
  },
  {
   "cell_type": "code",
   "execution_count": null,
   "metadata": {
    "ExecuteTime": {
     "end_time": "2020-11-16T20:36:26.576405Z",
     "start_time": "2020-11-16T20:36:26.542050Z"
    }
   },
   "outputs": [],
   "source": [
    "title = soup.find('h1').text\n"
   ]
  },
  {
   "cell_type": "code",
   "execution_count": null,
   "metadata": {
    "ExecuteTime": {
     "end_time": "2020-11-16T21:48:22.724912Z",
     "start_time": "2020-11-16T21:48:21.724830Z"
    },
    "scrolled": false
   },
   "outputs": [],
   "source": [
    "junk = [\n",
    "'Send this to a friend:',\n",
    " 'Related Posts',\n",
    " 'Send this to a friend:',\n",
    " 'Say Hello.',\n",
    " 'Come work with us! We are always looking for great talent to join our global teams.',\n",
    "'Send this to a friend:',\n",
    "]\n",
    "\n",
    "def get_article(article_url):\n",
    "    response = requests.get(article_url)\n",
    "    print(response)\n",
    "    soup = BeautifulSoup(response.text, 'html.parser')\n",
    "    title = soup.find('h1').text\n",
    "    text = [t.text for t in soup.find_all(['p', 'h2'])]\n",
    "    \n",
    "    for j in junk:\n",
    "        text.remove(j)\n",
    "    \n",
    "    \n",
    "\n",
    "    \n",
    "    return title, text\n",
    "\n",
    "title, text = get_article(full_url)\n"
   ]
  },
  {
   "cell_type": "code",
   "execution_count": null,
   "metadata": {
    "ExecuteTime": {
     "end_time": "2020-11-16T22:18:36.753555Z",
     "start_time": "2020-11-16T22:18:27.618486Z"
    }
   },
   "outputs": [],
   "source": [
    "for article_url in full_urls:\n",
    "    title, text = get_article(article_url)\n",
    "\n",
    "    print(title)\n",
    "    print(len(text), 'lines')\n",
    "    \n",
    "    fname = f\"{save_dir}/{title}.txt\"\n",
    "    print(fname)\n",
    "    with open(fname, 'w') as f:\n",
    "        f.writelines(text)"
   ]
  },
  {
   "cell_type": "code",
   "execution_count": null,
   "metadata": {
    "ExecuteTime": {
     "end_time": "2020-11-16T22:17:37.010068Z",
     "start_time": "2020-11-16T22:17:36.945712Z"
    }
   },
   "outputs": [],
   "source": []
  },
  {
   "cell_type": "code",
   "execution_count": null,
   "metadata": {},
   "outputs": [],
   "source": []
  }
 ],
 "metadata": {
  "kernelspec": {
   "display_name": "Python 3",
   "language": "python",
   "name": "python3"
  },
  "language_info": {
   "codemirror_mode": {
    "name": "ipython",
    "version": 3
   },
   "file_extension": ".py",
   "mimetype": "text/x-python",
   "name": "python",
   "nbconvert_exporter": "python",
   "pygments_lexer": "ipython3",
   "version": "3.7.4"
  }
 },
 "nbformat": 4,
 "nbformat_minor": 4
}
