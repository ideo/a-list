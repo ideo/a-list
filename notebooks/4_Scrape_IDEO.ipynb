{
 "cells": [
  {
   "cell_type": "markdown",
   "metadata": {},
   "source": [
    "# Scrape IDEO Journal"
   ]
  },
  {
   "cell_type": "code",
   "execution_count": 1,
   "metadata": {
    "ExecuteTime": {
     "end_time": "2020-11-16T20:19:56.491986Z",
     "start_time": "2020-11-16T20:19:55.755515Z"
    }
   },
   "outputs": [],
   "source": [
    "# Jupyter magic\n",
    "%load_ext autoreload\n",
    "%autoreload 2\n",
    "%matplotlib inline"
   ]
  },
  {
   "cell_type": "code",
   "execution_count": 31,
   "metadata": {
    "ExecuteTime": {
     "end_time": "2020-11-16T20:32:31.887524Z",
     "start_time": "2020-11-16T20:32:31.491105Z"
    }
   },
   "outputs": [],
   "source": [
    "# imports\n",
    "import requests\n",
    "from bs4 import BeautifulSoup\n",
    "import re\n",
    "import time\n",
    "import random\n",
    "import pandas as pd\n",
    "# from seleniumrequests import Chrome\n",
    "import pathlib"
   ]
  },
  {
   "cell_type": "code",
   "execution_count": 33,
   "metadata": {
    "ExecuteTime": {
     "end_time": "2020-11-16T20:33:01.823878Z",
     "start_time": "2020-11-16T20:33:01.779861Z"
    }
   },
   "outputs": [
    {
     "data": {
      "text/plain": [
       "True"
      ]
     },
     "execution_count": 33,
     "metadata": {},
     "output_type": "execute_result"
    }
   ],
   "source": [
    "save_dir = \"../1_data/IDEO_journal\"\n",
    "pathlib.Path(save_dir).exists()"
   ]
  },
  {
   "cell_type": "markdown",
   "metadata": {},
   "source": [
    "## Create index of URLs for journal posts"
   ]
  },
  {
   "cell_type": "code",
   "execution_count": 17,
   "metadata": {
    "ExecuteTime": {
     "end_time": "2020-11-16T20:24:50.864712Z",
     "start_time": "2020-11-16T20:24:50.725334Z"
    }
   },
   "outputs": [
    {
     "name": "stdout",
     "output_type": "stream",
     "text": [
      "<Response [200]>\n"
     ]
    },
    {
     "data": {
      "text/plain": [
       "79"
      ]
     },
     "execution_count": 17,
     "metadata": {},
     "output_type": "execute_result"
    }
   ],
   "source": [
    "url = \"https://www.ideo.com/journal\"\n",
    "\n",
    "\n",
    "response = requests.get(url)\n",
    "print(response)\n",
    "soup = BeautifulSoup(response.text, 'html.parser')\n",
    "links1 = [a.get('href') for a in soup.find_all('a')]\n",
    "len(links1)"
   ]
  },
  {
   "cell_type": "code",
   "execution_count": 18,
   "metadata": {
    "ExecuteTime": {
     "end_time": "2020-11-16T20:24:53.250462Z",
     "start_time": "2020-11-16T20:24:53.094764Z"
    }
   },
   "outputs": [
    {
     "name": "stdout",
     "output_type": "stream",
     "text": [
      "<Response [200]>\n"
     ]
    },
    {
     "data": {
      "text/plain": [
       "109"
      ]
     },
     "execution_count": 18,
     "metadata": {},
     "output_type": "execute_result"
    }
   ],
   "source": [
    "url = \"https://www.ideo.com/journal/archive/2\"\n",
    "\n",
    "response = requests.get(url)\n",
    "print(response)\n",
    "soup = BeautifulSoup(response.text, 'html.parser')\n",
    "links2 = [a.get('href') for a in soup.find_all('a')]\n",
    "len(links2)"
   ]
  },
  {
   "cell_type": "code",
   "execution_count": 19,
   "metadata": {
    "ExecuteTime": {
     "end_time": "2020-11-16T20:24:54.121947Z",
     "start_time": "2020-11-16T20:24:54.079813Z"
    }
   },
   "outputs": [
    {
     "name": "stdout",
     "output_type": "stream",
     "text": [
      "before dedupe: 188\n"
     ]
    },
    {
     "data": {
      "text/plain": [
       "72"
      ]
     },
     "execution_count": 19,
     "metadata": {},
     "output_type": "execute_result"
    }
   ],
   "source": [
    "unique_links = links1 + links2\n",
    "print(f'before dedupe: {len(unique_links)}')\n",
    "unique_links = list(set(unique_links))\n",
    "len(unique_links)"
   ]
  },
  {
   "cell_type": "code",
   "execution_count": 46,
   "metadata": {
    "ExecuteTime": {
     "end_time": "2020-11-16T20:38:06.821871Z",
     "start_time": "2020-11-16T20:38:06.747399Z"
    }
   },
   "outputs": [
    {
     "data": {
      "text/plain": [
       "35"
      ]
     },
     "execution_count": 46,
     "metadata": {},
     "output_type": "execute_result"
    }
   ],
   "source": [
    "article_links = [l for l in unique_links if '/journal/' in l]\n",
    "article_links.remove('/journal/archive')\n",
    "\n",
    "full_urls = ['https://www.ideo.com' + link for link in article_links]\n",
    "\n",
    "\n",
    "len(full_urls)"
   ]
  },
  {
   "cell_type": "code",
   "execution_count": 47,
   "metadata": {
    "ExecuteTime": {
     "end_time": "2020-11-16T20:38:12.930311Z",
     "start_time": "2020-11-16T20:38:12.892053Z"
    }
   },
   "outputs": [],
   "source": [
    "# Save them as backup\n",
    "with open(f'{save_dir}/index.txt', 'w') as f:\n",
    "    f.writelines(full_urls)"
   ]
  },
  {
   "cell_type": "markdown",
   "metadata": {
    "ExecuteTime": {
     "end_time": "2020-11-16T18:18:17.667458Z",
     "start_time": "2020-11-16T18:18:04.637136Z"
    },
    "scrolled": false
   },
   "source": [
    "## Grab the text for each post"
   ]
  },
  {
   "cell_type": "markdown",
   "metadata": {
    "ExecuteTime": {
     "end_time": "2020-11-16T18:26:54.601299Z",
     "start_time": "2020-11-16T18:26:54.546918Z"
    }
   },
   "source": []
  },
  {
   "cell_type": "code",
   "execution_count": 50,
   "metadata": {
    "ExecuteTime": {
     "end_time": "2020-11-16T20:38:27.059612Z",
     "start_time": "2020-11-16T20:38:27.003316Z"
    }
   },
   "outputs": [
    {
     "data": {
      "text/plain": [
       "'https://www.ideo.com/journal/the-best-business-breakthroughs-come-from-moments-of-doubt'"
      ]
     },
     "execution_count": 50,
     "metadata": {},
     "output_type": "execute_result"
    }
   ],
   "source": [
    "full_urls[0]"
   ]
  },
  {
   "cell_type": "code",
   "execution_count": 49,
   "metadata": {
    "ExecuteTime": {
     "end_time": "2020-11-16T20:38:22.784853Z",
     "start_time": "2020-11-16T20:38:22.556551Z"
    }
   },
   "outputs": [
    {
     "name": "stdout",
     "output_type": "stream",
     "text": [
      "<Response [200]>\n"
     ]
    }
   ],
   "source": [
    "article_url = full_urls[0]\n",
    "response = requests.get(full_url)\n",
    "print(response)\n",
    "soup = BeautifulSoup(response.text, 'html.parser')\n"
   ]
  },
  {
   "cell_type": "code",
   "execution_count": 45,
   "metadata": {
    "ExecuteTime": {
     "end_time": "2020-11-16T20:37:28.624835Z",
     "start_time": "2020-11-16T20:37:28.560110Z"
    }
   },
   "outputs": [
    {
     "data": {
      "text/plain": [
       "'https://www.ideo.com/journal/the-best-business-breakthroughs-come-from-moments-of-doubt'"
      ]
     },
     "execution_count": 45,
     "metadata": {},
     "output_type": "execute_result"
    }
   ],
   "source": [
    "full_url"
   ]
  },
  {
   "cell_type": "code",
   "execution_count": 42,
   "metadata": {
    "ExecuteTime": {
     "end_time": "2020-11-16T20:36:26.576405Z",
     "start_time": "2020-11-16T20:36:26.542050Z"
    }
   },
   "outputs": [
    {
     "data": {
      "text/plain": [
       "'The Best Business Breakthroughs Come From Moments of Doubt'"
      ]
     },
     "execution_count": 42,
     "metadata": {},
     "output_type": "execute_result"
    }
   ],
   "source": [
    "title = soup.find('h1').text\n"
   ]
  },
  {
   "cell_type": "code",
   "execution_count": 60,
   "metadata": {
    "ExecuteTime": {
     "end_time": "2020-11-16T21:48:22.724912Z",
     "start_time": "2020-11-16T21:48:21.724830Z"
    },
    "scrolled": false
   },
   "outputs": [
    {
     "name": "stdout",
     "output_type": "stream",
     "text": [
      "<Response [200]>\n"
     ]
    }
   ],
   "source": [
    "junk = [\n",
    "'Send this to a friend:',\n",
    " 'Related Posts',\n",
    " 'Send this to a friend:',\n",
    " 'Say Hello.',\n",
    " 'Come work with us! We are always looking for great talent to join our global teams.',\n",
    "'Send this to a friend:',\n",
    "]\n",
    "\n",
    "def get_article(article_url):\n",
    "    response = requests.get(article_url)\n",
    "    print(response)\n",
    "    soup = BeautifulSoup(response.text, 'html.parser')\n",
    "    title = soup.find('h1').text\n",
    "    text = [t.text for t in soup.find_all(['p', 'h2'])]\n",
    "    \n",
    "    for j in junk:\n",
    "        text.remove(j)\n",
    "    \n",
    "    \n",
    "\n",
    "    \n",
    "    return title, text\n",
    "\n",
    "title, text = get_article(full_url)\n"
   ]
  },
  {
   "cell_type": "code",
   "execution_count": 62,
   "metadata": {
    "ExecuteTime": {
     "end_time": "2020-11-16T21:49:32.718008Z",
     "start_time": "2020-11-16T21:49:22.183776Z"
    }
   },
   "outputs": [
    {
     "name": "stdout",
     "output_type": "stream",
     "text": [
      "<Response [200]>\n",
      "The Best Business Breakthroughs Come From Moments of Doubt\n",
      "34 lines\n",
      "../1_data/IDEO_journal/The Best Business Breakthroughs Come From Moments of Doubt.txt'\n",
      "<Response [200]>\n",
      "5 Leaders Reflect on How the Pandemic Has Reshaped Their Thinking\n",
      "32 lines\n",
      "../1_data/IDEO_journal/5 Leaders Reflect on How the Pandemic Has Reshaped Their Thinking.txt'\n",
      "<Response [200]>\n",
      "Innovation Thrives Under These 5 Evidence-Backed Conditions\n",
      "16 lines\n",
      "../1_data/IDEO_journal/Innovation Thrives Under These 5 Evidence-Backed Conditions.txt'\n",
      "<Response [200]>\n",
      "Prototype the Future of Your Business With This 4-Step Design Exercise\n",
      "27 lines\n",
      "../1_data/IDEO_journal/Prototype the Future of Your Business With This 4-Step Design Exercise.txt'\n",
      "<Response [200]>\n",
      "Company Say, Company Do: How Your Words Define Your Business\n",
      "5 lines\n",
      "../1_data/IDEO_journal/Company Say, Company Do: How Your Words Define Your Business.txt'\n",
      "<Response [200]>\n",
      "Resilience in Uncertain Times: Insights From Global Leaders\n",
      "23 lines\n",
      "../1_data/IDEO_journal/Resilience in Uncertain Times: Insights From Global Leaders.txt'\n",
      "<Response [200]>\n",
      "The Three Qualities Leaders Need in an Uncertain Future\n",
      "25 lines\n",
      "../1_data/IDEO_journal/The Three Qualities Leaders Need in an Uncertain Future.txt'\n",
      "<Response [200]>\n",
      "The Radical Power of Listening in Times of Crisis\n",
      "28 lines\n",
      "../1_data/IDEO_journal/The Radical Power of Listening in Times of Crisis.txt'\n",
      "<Response [200]>\n",
      "Your Competitors Aren’t Who You Think They Are\n",
      "15 lines\n",
      "../1_data/IDEO_journal/Your Competitors Aren’t Who You Think They Are.txt'\n",
      "<Response [200]>\n",
      "What Comes After Open Offices? It Doesn’t Matter, As Long As Culture Comes First\n",
      "15 lines\n",
      "../1_data/IDEO_journal/What Comes After Open Offices? It Doesn’t Matter, As Long As Culture Comes First.txt'\n",
      "<Response [200]>\n",
      "From Fail Never to Fail Fast\n",
      "31 lines\n",
      "../1_data/IDEO_journal/From Fail Never to Fail Fast.txt'\n",
      "<Response [200]>\n",
      "How to Think About Long-Term Strategy When You Can Barely See Past Tomorrow\n",
      "19 lines\n",
      "../1_data/IDEO_journal/How to Think About Long-Term Strategy When You Can Barely See Past Tomorrow.txt'\n",
      "<Response [200]>\n",
      "Your Data Could Do More for You If You Learn How to Use It\n",
      "17 lines\n",
      "../1_data/IDEO_journal/Your Data Could Do More for You If You Learn How to Use It.txt'\n",
      "<Response [200]>\n",
      "In Turbulent Times, Companies Can Look to Cities For Survival Strategies\n",
      "22 lines\n",
      "../1_data/IDEO_journal/In Turbulent Times, Companies Can Look to Cities For Survival Strategies.txt'\n",
      "<Response [200]>\n",
      "The 5-Year Collaboration to Turn Canada’s Busiest Airport Into Its Best\n",
      "43 lines\n",
      "../1_data/IDEO_journal/The 5-Year Collaboration to Turn Canada’s Busiest Airport Into Its Best.txt'\n",
      "<Response [200]>\n",
      "To Transform Your Industry, Look at Someone Else’s\n",
      "12 lines\n",
      "../1_data/IDEO_journal/To Transform Your Industry, Look at Someone Else’s.txt'\n",
      "<Response [200]>\n",
      "How Design is Driving Ford to Reimagine What a Car Company Can Be\n",
      "25 lines\n",
      "../1_data/IDEO_journal/How Design is Driving Ford to Reimagine What a Car Company Can Be.txt'\n",
      "<Response [200]>\n",
      "It’s Taken Decades for Social Innovation to Become Mainstream. We Can’t Take Decades More to Act.\n",
      "32 lines\n",
      "../1_data/IDEO_journal/It’s Taken Decades for Social Innovation to Become Mainstream. We Can’t Take Decades More to Act..txt'\n",
      "<Response [200]>\n",
      "How to Craft a Purpose Statement That Unifies a Family of Brands\n",
      "32 lines\n",
      "../1_data/IDEO_journal/How to Craft a Purpose Statement That Unifies a Family of Brands.txt'\n",
      "<Response [200]>\n",
      "6 Ways to Design Value into Your Membership Model\n",
      "37 lines\n",
      "../1_data/IDEO_journal/6 Ways to Design Value into Your Membership Model.txt'\n",
      "<Response [200]>\n",
      "Capitalism Needs a Redesign, but Where Do We Start?\n",
      "29 lines\n",
      "../1_data/IDEO_journal/Capitalism Needs a Redesign, but Where Do We Start?.txt'\n",
      "<Response [200]>\n",
      "Busting the Myth That Regulations Impede Innovation\n",
      "33 lines\n",
      "../1_data/IDEO_journal/Busting the Myth That Regulations Impede Innovation.txt'\n",
      "<Response [200]>\n",
      "The Learning Program That Aims to Make American Cities More Economically Resilient\n",
      "46 lines\n",
      "../1_data/IDEO_journal/The Learning Program That Aims to Make American Cities More Economically Resilient.txt'\n",
      "<Response [200]>\n",
      "Welcome to The IDEO Journal\n",
      "10 lines\n",
      "../1_data/IDEO_journal/Welcome to The IDEO Journal.txt'\n",
      "<Response [200]>\n",
      "2020 Didn’t Go as Planned, but 2021 Is Coming Anyway\n",
      "9 lines\n",
      "../1_data/IDEO_journal/2020 Didn’t Go as Planned, but 2021 Is Coming Anyway.txt'\n",
      "<Response [200]>\n",
      "8 Emerging Trends That Can Help Companies Understand Their Future Consumer\n",
      "38 lines\n",
      "../1_data/IDEO_journal/8 Emerging Trends That Can Help Companies Understand Their Future Consumer.txt'\n",
      "<Response [200]>\n",
      "Can Digital Therapeutics Revolutionize Medicine?\n",
      "34 lines\n",
      "../1_data/IDEO_journal/Can Digital Therapeutics Revolutionize Medicine?.txt'\n",
      "<Response [200]>\n",
      "The Food System Can’t Survive This Crisis, but a Better System Can Be Built\n",
      "18 lines\n",
      "../1_data/IDEO_journal/The Food System Can’t Survive This Crisis, but a Better System Can Be Built.txt'\n",
      "<Response [200]>\n",
      "Today’s Leaders Must Learn to Address a New Epidemic: Loneliness\n",
      "13 lines\n",
      "../1_data/IDEO_journal/Today’s Leaders Must Learn to Address a New Epidemic: Loneliness.txt'\n",
      "<Response [200]>\n",
      "4 Strategies to Chart a Path Forward When There is No Map\n",
      "29 lines\n",
      "../1_data/IDEO_journal/4 Strategies to Chart a Path Forward When There is No Map.txt'\n",
      "<Response [200]>\n",
      "From Startup to Grown-up: Helping Digitally-Native Companies Come of Age\n",
      "23 lines\n",
      "../1_data/IDEO_journal/From Startup to Grown-up: Helping Digitally-Native Companies Come of Age.txt'\n",
      "<Response [200]>\n",
      "What Does it Really Mean to “Act Like a Startup”?\n",
      "21 lines\n",
      "../1_data/IDEO_journal/What Does it Really Mean to “Act Like a Startup”?.txt'\n",
      "<Response [200]>\n",
      "When Building a New Venture, Friction Isn’t Just Inevitable—It’s Invaluable\n",
      "14 lines\n",
      "../1_data/IDEO_journal/When Building a New Venture, Friction Isn’t Just Inevitable—It’s Invaluable.txt'\n",
      "<Response [200]>\n",
      "Successful Innovation Labs Have These Four Things in Common\n",
      "59 lines\n",
      "../1_data/IDEO_journal/Successful Innovation Labs Have These Four Things in Common.txt'\n",
      "<Response [200]>\n",
      "Don’t Throw Away Your Innovation Budget\n",
      "17 lines\n",
      "../1_data/IDEO_journal/Don’t Throw Away Your Innovation Budget.txt'\n"
     ]
    }
   ],
   "source": [
    "for article_url in full_urls:\n",
    "    title, text = get_article(article_url)\n",
    "\n",
    "    print(title)\n",
    "    print(len(text), 'lines')\n",
    "    \n",
    "    fname = f\"{save_dir}/{title}.txt\"\n",
    "    print(fname)\n",
    "    with open(fname, 'w') as f:\n",
    "        f.writelines(text)"
   ]
  },
  {
   "cell_type": "code",
   "execution_count": 66,
   "metadata": {
    "ExecuteTime": {
     "end_time": "2020-11-16T22:17:37.010068Z",
     "start_time": "2020-11-16T22:17:36.945712Z"
    }
   },
   "outputs": [],
   "source": [
    "# for n in pathlib.Path(save_dir).glob('*'):\n",
    "#     n.rename(n.name.strip(\"'\"))"
   ]
  },
  {
   "cell_type": "code",
   "execution_count": null,
   "metadata": {},
   "outputs": [],
   "source": []
  }
 ],
 "metadata": {
  "kernelspec": {
   "display_name": "Python 3",
   "language": "python",
   "name": "python3"
  },
  "language_info": {
   "codemirror_mode": {
    "name": "ipython",
    "version": 3
   },
   "file_extension": ".py",
   "mimetype": "text/x-python",
   "name": "python",
   "nbconvert_exporter": "python",
   "pygments_lexer": "ipython3",
   "version": "3.7.4"
  }
 },
 "nbformat": 4,
 "nbformat_minor": 4
}
