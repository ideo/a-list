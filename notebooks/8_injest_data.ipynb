{
 "cells": [
  {
   "cell_type": "markdown",
   "metadata": {},
   "source": [
    "# Injest data & Create local DB\n",
    "\n",
    "\n",
    "- Hold a couple files out (for each score)\n",
    "- also get rid of our stopwords \n",
    "- move Ed Bastian file into Good lead examples - from nyt\n",
    "\n",
    "\n",
    "### TODO: fix up columns to have more standardized data injestion\n",
    "\n",
    "filename\n",
    "- should match the file exactly without\n",
    "group\n",
    "- \n",
    "name\n",
    "- what about multiple people? here's an example for a how I built this episode \"Melanie Perkins and Bill Creelman\"\n",
    "headline\n",
    "\n",
    "title\n",
    "- altair makes this bold in tooltips by default, so I wanted to avoid using this\n",
    "\n",
    "year\n",
    "- integer\n",
    "\n",
    "url\n",
    "\n",
    "job_title\n",
    "- (optional) easy to grab from some NYT articles\n",
    "\n",
    "publication\n",
    "- \n",
    "\n",
    "\n",
    "Delete: source, f2, untitled\n",
    "also rename the group \"1_data\" to be earnings transcripts\n"
   ]
  },
  {
   "cell_type": "code",
   "execution_count": 1,
   "metadata": {
    "ExecuteTime": {
     "end_time": "2020-12-02T23:58:38.075053Z",
     "start_time": "2020-12-02T23:58:38.067550Z"
    }
   },
   "outputs": [
    {
     "name": "stdout",
     "output_type": "stream",
     "text": [
      "/Users/peterwinter/Work/IDEO/highlighter\n"
     ]
    }
   ],
   "source": [
    "cd .."
   ]
  },
  {
   "cell_type": "code",
   "execution_count": 2,
   "metadata": {
    "ExecuteTime": {
     "end_time": "2020-12-02T23:58:38.883308Z",
     "start_time": "2020-12-02T23:58:38.089685Z"
    }
   },
   "outputs": [],
   "source": [
    "# Jupyter magic\n",
    "%load_ext autoreload\n",
    "%autoreload 2\n",
    "%matplotlib inline"
   ]
  },
  {
   "cell_type": "code",
   "execution_count": 3,
   "metadata": {
    "ExecuteTime": {
     "end_time": "2020-12-02T23:58:39.226218Z",
     "start_time": "2020-12-02T23:58:38.885568Z"
    }
   },
   "outputs": [],
   "source": [
    "# imports\n",
    "import pandas as pd\n",
    "from src import load_txt_files\n",
    "from src import db_funcs"
   ]
  },
  {
   "cell_type": "markdown",
   "metadata": {},
   "source": [
    "# Load docs & Create an index \n",
    "It's going to be a dataframe that stores:\n",
    "- additional information about a document - interviewee, title, source, year, etc. \n",
    "- similarity scores\n",
    "- file paths (temporary link)\n",
    "\n",
    "\n",
    "\n",
    "get index to reflect the order of document, text, token lists"
   ]
  },
  {
   "cell_type": "code",
   "execution_count": 6,
   "metadata": {
    "ExecuteTime": {
     "end_time": "2020-12-03T00:00:47.254251Z",
     "start_time": "2020-12-03T00:00:42.008796Z"
    }
   },
   "outputs": [
    {
     "name": "stdout",
     "output_type": "stream",
     "text": [
      "58 docs found in ./1_data/how_i_built_this/\n",
      "218 docs found in ./1_data/NYT_corner_office/\n",
      "34 docs found in ./1_data/good_lead_articles/\n",
      "13 docs found in ./1_data/current_transformational_client_articles/\n",
      "501 docs found in ./1_data/Seeking_Alpha/\n",
      "./1_data/how_i_built_this/ 61\n",
      "./1_data/NYT_corner_office/ 218\n",
      "./1_data/good_lead_articles/ 35\n",
      "./1_data/current_transformational_client_articles/ 13\n",
      "./1_data/Seeking_Alpha/ 53899\n",
      "4 filenames with overlapping index\n",
      "nan: 53400 references\n",
      "conine_hibt_2020: 2 references\n",
      "zimmer_hibt_2020: 2 references\n",
      "john_hibt_2020: 2 references\n",
      "\n",
      "removing duplicates from index\n"
     ]
    },
    {
     "data": {
      "text/plain": [
       "((824, 11), (824, 3), (824, 10))"
      ]
     },
     "execution_count": 6,
     "metadata": {},
     "output_type": "execute_result"
    }
   ],
   "source": [
    "# grab all the files from these directories and make some tokens\n",
    "input_paths = [\n",
    "        \"./1_data/how_i_built_this/\",\n",
    "#         \"../1_data/example_articles/\",\n",
    "        \"./1_data/NYT_corner_office/\",\n",
    "        \"./1_data/good_lead_articles/\",\n",
    "        \"./1_data/current_transformational_client_articles/\",\n",
    "        \"./1_data/Seeking_Alpha/\",\n",
    "    \n",
    "        ]\n",
    "\n",
    "files, docs, paths = load_txt_files.add_files_from_dir(input_paths)\n",
    "df_index_a = load_txt_files.assemble_index_files(input_paths)\n",
    "df_index_b = pd.DataFrame([files, paths, docs], index=['filename', 'group', 'text']).T\n",
    "\n",
    "\n",
    "a = df_index_a.set_index('filename')\n",
    "b = df_index_b.set_index(\"filename\")\n",
    "\n",
    "df_index = b.join(a, how='left')\n",
    "df_index.shape, df_index_b.shape, df_index_a.shape"
   ]
  },
  {
   "cell_type": "markdown",
   "metadata": {},
   "source": [
    "## save everything to local database"
   ]
  },
  {
   "cell_type": "code",
   "execution_count": 7,
   "metadata": {
    "ExecuteTime": {
     "end_time": "2020-12-03T00:00:54.677881Z",
     "start_time": "2020-12-03T00:00:54.650686Z"
    }
   },
   "outputs": [],
   "source": [
    "# fname = './1_data/Seeking_Alpha/index.csv'\n",
    "\n",
    "# d = pd.read_csv(fname, index_col=0)\n",
    "# d.to_csv('sa_index.csv')\n",
    "# d = d.drop(columns=['Unnamed: 0.1', 'Unnamed: 0.1.1', 'Unnamed: 0.1.1.1', 'f2'])\n",
    "# d['publication'] = 'earnings call'\n",
    "# d = d.set_index('filename')\n",
    "# d.index = [str(i).split('.txt')[0] for i in d.index]\n",
    "# d.index.name = 'filename'\n",
    "# d.to_csv(fname)\n",
    "# print(len(d))\n",
    "# d"
   ]
  },
  {
   "cell_type": "code",
   "execution_count": 70,
   "metadata": {
    "ExecuteTime": {
     "end_time": "2020-12-02T23:56:19.511909Z",
     "start_time": "2020-12-02T23:56:19.479491Z"
    }
   },
   "outputs": [
    {
     "data": {
      "text/plain": [
       "53899"
      ]
     },
     "execution_count": 70,
     "metadata": {},
     "output_type": "execute_result"
    }
   ],
   "source": []
  },
  {
   "cell_type": "code",
   "execution_count": 12,
   "metadata": {
    "ExecuteTime": {
     "end_time": "2020-12-03T00:01:45.183120Z",
     "start_time": "2020-12-03T00:01:44.562231Z"
    }
   },
   "outputs": [],
   "source": [
    "db_filename = 'docs.db'\n",
    "con = db_funcs.create_connection(db_filename)\n",
    "df_index.to_sql('docs', con=con)"
   ]
  },
  {
   "cell_type": "markdown",
   "metadata": {},
   "source": [
    "### Check overlap between actual files and index.csv contents"
   ]
  },
  {
   "cell_type": "code",
   "execution_count": 11,
   "metadata": {
    "ExecuteTime": {
     "end_time": "2020-12-03T00:01:27.235229Z",
     "start_time": "2020-12-03T00:01:27.205306Z"
    }
   },
   "outputs": [],
   "source": [
    "# len(df_index_a), len(df_index_b)\n",
    "# files_not_in_indexed\n",
    "# index_without_files"
   ]
  },
  {
   "cell_type": "code",
   "execution_count": 8,
   "metadata": {
    "ExecuteTime": {
     "end_time": "2020-12-03T00:01:07.180122Z",
     "start_time": "2020-12-03T00:01:07.141776Z"
    }
   },
   "outputs": [
    {
     "name": "stdout",
     "output_type": "stream",
     "text": [
      "1 files not referenced by an index.csv\n",
      "1 indexes missing a file\n",
      "\n",
      "825 overlaps\n"
     ]
    }
   ],
   "source": [
    "files_not_in_indexed = list(set(df_index_b['filename']) - set(df_index_a['filename']))\n",
    "index_without_files = list( set(df_index_a['filename']) - set(df_index_b['filename']))\n",
    "overlap = list( set(df_index_a['filename']) | set(df_index_b['filename']))\n",
    "\n",
    "print(f'{len(files_not_in_indexed)} files not referenced by an index.csv')\n",
    "print(f'{len(index_without_files)} indexes missing a file')\n",
    "print()\n",
    "print(f'{len(overlap)} overlaps')"
   ]
  },
  {
   "cell_type": "markdown",
   "metadata": {},
   "source": [
    "# Check if order accurate"
   ]
  },
  {
   "cell_type": "code",
   "execution_count": 13,
   "metadata": {
    "ExecuteTime": {
     "end_time": "2020-12-03T00:02:04.487878Z",
     "start_time": "2020-12-03T00:02:04.455400Z"
    }
   },
   "outputs": [],
   "source": [
    "index_order = df_index.index.to_list()\n",
    "file_order = df_index_b['filename'].to_list()\n",
    "for i in range(len(df_index)):\n",
    "    filename1 = index_order[i]\n",
    "    filename2 = file_order[i]\n",
    "    if filename1 != filename2:\n",
    "        print('ERROR', i, filename1, filename2)"
   ]
  },
  {
   "cell_type": "code",
   "execution_count": 14,
   "metadata": {
    "ExecuteTime": {
     "end_time": "2020-12-03T00:02:07.057389Z",
     "start_time": "2020-12-03T00:02:07.020779Z"
    },
    "collapsed": true
   },
   "outputs": [
    {
     "name": "stdout",
     "output_type": "stream",
     "text": [
      "515 JOYY-Inc_Tue-Nov-17-2-24-AM\n",
      "nan\n",
      "---\n",
      " JOYY Inc. (NASDAQ:YY) Q3 2020 Earnings Conference Call November 16, 2020  9:00 PM ET Company Participants Jane Xie – Senior Manager-Investor Relations David Xueling Li – Chairman and Chief Executive Officer Bing Jin – Chief Financial Officer Conference Call Participants Jialong Shi – Nomura Alex Poon – Morgan Stanley Yiwen Zhang – Citi Daniel Chen – JPMorgan Lei Zhang – BofA Tian Hou – TH Capital Operator Ladies and gentlemen, thank you for standing by, and welcome to the JOYY Inc.’s Third Quarter 2020 Earnings Call. At this time, all participants are in a listen-only mode. After the management’s prepared remarks, we will have a question-and-answer session. Please note this event is being recorded. I’d now like to hand the conference over to your speaker host today, Ms. Jane Xie, the company’s Senior Investor Relations Manager. Please go ahead, ma’am. Jane Xie Thank you, operator. Good morning and good evening, everyone. Welcome to JOYY’s third quarter 2020 earnings conference call. Joining us today are Mr. David Xueling Li, Chairman and CEO of JOYY; CFO, Mr. Bing Jin; and COO, Ms. Ting Li. For today’s call, management will first provide a review of the quarter, and then we will conduct a Q&A section. The third quarter 2020 financial results and webcast of this conference call are available at ir.yy.com. A replay of this call will also be available on our website in a few hours. Before we continue, I refer you to our Safe Harbor statement in our earnings press release, which apply to this call as we will make forward-looking statements. Finally, please note that unless otherwise stated, all figures mentioned during this conference call are in renminbi. I will now turn the call over to our Chairman and CEO, Mr. David Xueling Li. Please go ahead, sir. David Xueling Li [Foreign Language] Hello everyone. Welcome to our third quarter of 2020 earnings call today. [Foreign Language] Before updating everyone on our business progress for this quarter, I would like to take a moment to elaborate on the recent development in our domestic business. As disclosed in the press release, we issued earlier on November 16, we have entered into a definitive binding agreement with Baidu, pursuant to which Baidu will acquire JOYY’s video-based entertainment live streaming business in China, YY Live. The closing of this transaction is subject to certain conditions and is currently expected to occur in the first half of 2021. [Foreign Language] As pioneered in China’s live streaming industry, JOYY has been deeply engaged in the live streaming industry for many years. As a result of our years of hard work and experiences, we have built YY Live into what is now a leading video-based entertainment live streaming platform in China. Today, YY Live possesses not only a comprehensive system of operational procedures, but also domain expertise related to the development of live streaming ecosystem and innovation of live streaming technologies, content operations, monetization features as well as host incubation and host development systems. As a leading integrated information and knowledge-focused internet service provider in China, Baidu has built an extensive mobile internet ecosystem covering over one billion monthly active users, including over 200 million daily active mobile users on its Baidu app alone. As a result of this transaction, YY Live will be able to access Baidu’s massive user traffic, boost its business growth, and enhance its ecosystem’s monetization capabilities to unleash greater value in Baidu’s massive business ecosystem. [Foreign Language] As a true win-win arrangement this deal will also bolster our own growth prospects. Going forward, we plan to leverage the resources of paying through this transaction to further accelerate our global dual-engine growth strategy, establish a foothold in the industrial AI internet sector, and explore new business opportunities in e-commerce as well as other areas. Beyond investing into our operations, we will also actively focus on exploring other ways to return value to our shareholders and delivering maximum shareholder value, including, but not limited to the potential additional disbursement of dividends for example. [Foreign Language] Now, turning to our business updates for the third quarter. 2020 has been a year of challenges and opportunities. as a COVID-19 pandemic, we emerged and regional geopolitical risks drive uncertainty throughout the global economy. Video, as one of the most effective tools for communication, has become a crucial medium for consumer entertainment and social networking. As such video is occupying an increasingly significant portion of users’ time. During the third quarter of 2020, our platforms continue to gain user attraction, usage and engagement. Despite Indian government’s measures to block certain Chinese-owned apps in its local market and other geopolitical risks, we achieved rapid growth in other regions and our global MAUs remained relatively stable sliding only slightly by 4% year-over-year to 390.1 million. Such accomplishment is a result of our unwavering commitment towards globalization, proactive penetration into multiple overseas markets and reduced reliance on any single market. By overcoming geopolitical challenges, we have not only validated our business models resilience, but also laid a solid foundation for the continued implementation of our global dual-engine growth strategy, driven by live streaming and short-form video. [Foreign Language] Bigo Live maintained its robust growth trajectory during the third quarter 2020, at its MAUs outside of India grew to 26.5 million representing an increase of 58% year-over-year and 16% quarter-over-quarter. [Foreign Language] Bigo Live also remained focus on its business development efforts in several key markets during the quarter, including North America, Europe, the Middle East and regions of the Eastern Pacific, further diversifying its geographic coverage and thus reducing its reliance on any single market. Consequently Bigo’s live streaming revenues increased by 131% year-over-year to RMB3.28 billion, which is US$483 million. More specifically on a year-over-year basis, Bigo’s live streaming revenues from developed markets grew by 272%. European markets grew by 270% and Eastern Pacific regions grew by 231% year-over-year. [Foreign Language] Our long-term commitment to localizing our overseas operations and team building has been instrumental to the success of Bigo Live as the pandemic situation continued to evolve directly [ph] around the world. Our internationally-distributed team and extensive experience in multicultural and multilingual cross regional operations enable us to quickly adapt to the changes in market dynamics and user needs. These efforts also allowed us to further strengthen Bigo Live’s geographic expansion, and launch highly-localized campaigns during the pandemic. In Turkey, for example, Bigo Live introduced a large number of local KOLs, key opinion leaders on which platform during the stay at home period and reaching its content invigorating the interactions between Turkish users and their favorite KOLs doing live streaming sessions and significantly, pasting social engagement on its platform. As a result, Bigo Live’s user base in Turkey expanded significantly within a very short period of time. [Foreign Language] Secondly, we implemented a series of product upgrades and marketing tactics to boost our user engagement continuously. During the third quarter, for example, we released a number of product upgrades and optimization designed to satisfy user’s needs for online social networking, significantly boosting the number of users hosting live streaming sessions or posting content. Additionally, we continue to see high levels of user engagement across the platform with a percentage of total users, who actively posted content consistently exceeding 10% in the period and the number of user interactions as measured by likes and comments achieving high single-digit growth on a sequential basis. [Foreign Language] Our short-form video platform, Likee also accelerated its global user base expansion in the third quarter, despite Indian government’s measures to block certain Chinese own apps in its local market and the resulting short-term impact on our operations. Likee maintained it solid user growth at this MAUs outside of India grew to 97 million representing an increase of 147% year-over-year and 15.5% quarter-over-quarter. More specifically, Likee’s MAUs in the Middle East, North America and Europe all achieved significant growth in the third quarter, further diversifying an optimizing the platforms global user base structure and laying a solid foundation for its future growth on the monetization front. [Foreign Language] As the world starts to recover from the pandemic, we have also noticed that many of the more traditional offline entertainment industries are actively taking measures to bring their services online. Helping to better cultivate consumers’ entertainment habits, and increase the amount of time consumers spend using online entertainment services. In line with this trend, we forged partnerships with many of these offline entertainment businesses, helping us to further expand our user base and enhance our brand influence in turn. In September, for example, we launched the Likee Music Billboard in Russia, wherein we organized the exclusive debut of new songs on top of musical celebrities. As part of this initiative, we also introduced new product features, which entrust more fans to cheer for and interact with their favorite Russian musicians, and thus attracted a significant number of new fans to the platform. Our persistence in localizing Likee’s content and improving its product functionality to innovation over the long run has been the driving force behind the platforms achievement in Russia. Such efforts have also resulted in this continuous diversification of our core user demographics, which will help to accelerate both our live streaming business in Russia, as well as our short-form video monetization capabilities across a broader range of international markets. [Foreign Language] Beyond increasing its global market share and advancing its regional localization, Likee also introduced new product features to better meet the diverse needs of its users. During the third quarter, to further empower content creators, Likee upgraded multiple functions for its video production tools and developed an innovative optimizer function, enabling its users to easily create and ship animated videos with their friends. In addition, Likee also continued to augment the social nature of this platform introducing a slew of novel social features with dynamic community and thematic functionalities, such as matchmaking friends and direct dialogues. Consequently, the daily average number of Likee users outside of India that hosted live streaming sessions increased by more than 90% quarter-over-quarter with the platforms percentage of monthly content creators reaching approximately 18% in the third quarter of 2020. [Foreign Language] As for HAGO during the third quarter, we quickly adjusted HAGO’s expansion plans in the period entering into a number of emerging markets, including the Middle East and South America. As a result, HAGO groups MAUs by 20% year-over-year when excluding India. HAGO also make good progress in terms of monetization with its live streaming revenues increasing by 42.4% year-over-year. Looking ahead, we currently expect HAGO to achieve breakeven for a single month in the fourth quarter of 2020. [Foreign Language] In summary, our global business delivered strong results in the third quarter of 2020. Going forward, we will continue to upgrade our platform functionality, strengthen our localization capabilities, enhance our platform social nature and execute our dual-engine growth strategy. Despite the uncertainties caused by the research of this COVID-19 and geopolitical uncertainties, we believe that our global market coverage will help to steadily bolster both the flexibility and resilience of our business model. In addition, we remain competent that the combination of our technological advantages and stable user base will keep us on the right close trajectory. Looking ahead, we remain focused on perfecting our ecosystem for live streaming and short-form videos as well as establishing and solidifying our foothold in core regional markets around the world. With our innovators’ vision and our pioneers’ foresight, we plan to continually expanding across the entire globe, bridging communications between individuals from all corners of the world and delivering joyful and useful experiences to all people. Bing Jin That concludes David’s prepared remarks. Now, as JOYY’s CFO, I will talk about the financial results. Please be noted that the financial information and non-GAAP financial information disclosed in our third quarter earnings press release is presented on a continuing operational basis unless otherwise specifically stated. After the deconsolidation of Huya, the company accounts for our investment in Huya as an equity method investment and applied the equity method of accounting one quarter in the arrears to enable us to provide financial disclosures independent of the reporting schedule of Huya. During the third quarter of 2020, we maintain our strong momentum and deliver robust financial and operating results. Our total net revenues for the third quarter increased by 36.1% year-over-year to RMB6.29 billion exceeding both the high end of our previous guidance range and Street consensus. In particular, our live streaming revenues for the third quarter increased by 40.1% year-over-year to RMB6.05 billion, driven by live steaming revenues growth from Bigo segment. Other revenues in the third quarter decreased by 20.8% to RMB237.3 million, primarily due to the decrease in other revenues in YY segment. Cost of revenues for the third quarter increased by 38.8% year-over-year to RMB3.96 billion. Revenue sharing fees and content costs increased to RMB2.84 billion in the third quarter from RMB1.95 billion in the same period of 2019, which was in line with the increase in live streaming revenues. Bandwidth costs decreased to RMB236.9 million from RMB286.3 million in the same period of 2019, primarily related to the termination of service and assessed to users in India after government’s measures took to block certain Chinese own apps in late June. Gross profit for the third quarter increased by 31.9% year-over-year to RMB2.32 billion. Gross margin in the third quarter of 2020 decreased to 37% from 38.2% in the same period of 2019. The gross margin contraction was primarily caused by the fact that Bigo segment had lower gross margin, but contributed significantly greater portion of net revenues in the third quarter of 2020, compared to the corresponding period of 2019. Operating expenses for the third quarter increased to RMB2 billion from RMB1.81 billion in the same period of 2019. Sales and marketing expenses increased to RMB1.08 billion in the period from RMB957.3 million in the same period of 2019, primarily due to the company’s increased average in sales and marketing initiatives in overseas markets. Our R&D expenses for the third quarter increased to RMB636 million from RMB538 million in the same period of 2019, mostly due to the increase in headcount and investments in talent recruitment as part of the company’s efforts to enhance its research and development capabilities. Our GAAP operating income for the third quarter was RMB466.6 million, compared to RMB96.4 million in the same period of 2019. Operating margin for the second quarter increased to 7.4% from 2.1% in the prior-year period, primarily due to narrowing operation loss of Bigo segment. Our non-GAAP operating income for the third quarter, which excludes share-based compensation expenses, amortization of intangible assets from business acquisitions, as well as impairment of goodwill and investments, and gain on disposal of subsidiaries and business, increased by 77.8% to RMB825.8 million from RMB464.4 million in the same period of 2019. Our non-GAAP operating margin for the third quarter was 13.1% compared to 10.1% in the same period of 2019. GAAP net income from continuing operations attributable to controlling interest of JOYY Inc. for the third quarter of 2020 was RMB2.3 billion compared to RMB61.8 million in the same period of 2019. Net margin was 36.6% in the third quarter of 2020, compared to 1.3% in the corresponding period of 2019, mainly due to the gain from partial disposal of investment in Huya. Non-GAAP net income from continuing operations attributable to controlling interest of JOYY Inc. increased by 64% to RMB809.4 million from RMB493.4 million in the same period of 2019. Non-GAAP net margin increased to 12.9% in the third quarter of 2020 from 10.7% in the same period of 2019. Diluted net income from continuing operations per ADS in the third quarter of 2020 was RMB25.92 compared to RMB0.56 in the same period of 2019. Non-GAAP diluted net income from continuing operations per ADS increased by 58.8% to RMB8.89 from RMB5.6 in the same period of 2019. In addition, in accordance with our quarterly dividend plan approved on August 11, 2020, we will be distributing a dividend of US$0.31 per ADS for the third quarter of 2020, which is expected to be paid on December 23, 2022, to shareholders of record as of the close of business on December 11, 2020. As we remain in an abundant cash position after recent transaction with Baidu, we will continue to invest in business development efforts to further expand our global market reach, and cultivate new business to enhance our service offerings. We will also actively explore other ways to return value to our shareholders to maximize shareholder value. Due to the above mentioned transaction, the company will not provide any revenue guidance for the fourth quarter of 2020. That concludes our prepared remarks. Operator, we would now like to open up the call to questions. Question-and-Answer Session Operator Thank you. [Operator Instructions] The first question comes from the line of Jialong Shi of Nomura. Please ask your question. Jialong Shi Congratulations. Good morning, management. congratulations on a very solid quarter. [Foreign Language] Yes. I have two questions. So, first question is just about Bigo and just wonder, what is the latest market split by revenue for Bigo Live business in the third quarter? And we saw Bigo achieved very strong revenue growth, and also trend profitable in Q3, and just wonder how we should look at the trend for Bigo’s revenue, and a margin in Q4 as well as next year. And the second question is about the investment and I think management mentioned in the earlier remarks, JOYY will continue to explore opportunities in China’s internet industries such as the AI related industry and after the sale of the YY Live business. So, just wondering if management can elaborate a little bit, what are the areas JOYY will likely look to enter or invest in China in the future? Thank you. Bing Jin Thank you, Jialong. I’ll answer the first question and David Xueling can ask the second one. For the Bigo Live’s gross trajectory, things we cannot provide specific numbers, I’ll just give you some colors. In the third quarter, you can see on a year-on-year basis and also sequential basis, Bigo Live continue to give a very strong result, the main regional composition are developed markets Middle East, and Southeast Asia. If you look at the composition from developed markets, it’s already well over 40%. Under the key components in developed markets are North America, European countries and also Japan, Korea, New Zealand, Australia. So, these three sub regions on the developed markets continue to drive a lot of the growth for Bigo Live. Middle East is still around a one third of the total revenue for Bigo Live. And again, that is a very established market with our clear leading position. So, we expect we will continue to drive additional revenue from Middle East. Southeast Asia and other parts of the world accounts for roughly, I would say 25% to 30% of the total revenue for Bigo Live. We still think that we will continue to establish our leading position in Southeast Asia and also explore other emerging markets as well. So, I think in general, for the third quarter – for the fourth quarter of 2020, and also going forward to 2021, the main driver for Bigo Live will come from the developed markets with higher paying amounts and also higher ARPU – paying region higher ARPU. So, I would say that’s the – that’s the answer to your question. David Xueling Li [Foreign Language] Thank you for the question. First of all, this transaction does not mean that JOYY will abandon our domestic business. Actually, we will continue to explore new businesses in China and continue to execute or implement our long-term strategy, which is to continue to bring those areas that Chinese companies have competitive advantages and to replicate these experiences and competitive advantages across the globe. So, we have seen that on Chinese companies have technology resources over overseas companies, and we have witnessed the successful replication of business models in overseas markets. And also, you will also notice that China has a lot of industrial chain advantages, especially in the manufacturing side. Historically speaking, Chinese companies have advantages as a manufacturing company on taking the OEM mode, which is without our brand or our own channel, simply taking orders to manufacture other brands products. In the future, we believe that more Chinese companies will be able to establish their own brand, establish their own channel, and so build up a new innovative business model. And this is the future trend and opportunity that JOYY foresee. So, actually since last year, JOYY has actually begun to explore starting new businesses in terms of oversees e-commerce. Going forward, we’ll continue to be focused in our long-term strategy, that’s continuously bringing the successful experiences, technology advantages and business models in China, replicate these experiences to generate more growth across the globe. Bing Jin Jialong, I think you also asked about the margin trends. Let me also give you some color. Jialong Shi Yes. Thanks. Bing Jin If you look at margin profile for Bigo in the third quarter on the non-GAAP operating margin level is already breakeven, is already positive that is – thanks to the – it has helped the gross margin for us with the saving of the bandwidth costs and also with the leverage of economy, we have also reduced the percentage I was spending on the sales marketing as potential revenue. So, that results in a positive non-GAAP operating margin. I think that trend will continue in the fourth quarter and also next year, even though if you ask me about the balance between user growth and margin, if you want to continue to invest in our business to attract more users around the world, because we do think that global wise, the short-form video and live streaming have massive potential. but again, as we have demonstrated our capability to generate positive margin, I think that will give a lot of confidence for investors as well. Jialong Shi [Foreign Language] Operator Your next question comes from the line of Alex Poon of Morgan Stanley. Please ask your question. Alex Poon [Foreign Language] My question is related to Likee, could management please help to share with us some of the monetization progress and monetization user growth and investments target for next year and in terms of monetization, for example, for live streaming, how is it compared with the engagement metrics with Bigo Live and short videos in China and apart from live streaming, are we seeing any progress on advertising, maybe even e-commerce? thank you very much. Bing Jin I think, Alex, let me address that question. For the monetization of the Likee business, as I cannot disclose this numbers in general, it’s going very well. As I explained in the first half of this year, it’s still in a relatively, I would say early stage, but we have freed up the monetization ever from the third quarter and continues with the fourth quarter. So, we are confident to achieve the level of production monetization for Likee as we communicate with invested before. I think overseas, as I mentioned, users tend to have more social interactions and as I explained in the prepared remarks, we have incubated more functionalities to allow more users to create content and upload to Likee’s ecosystem, and to share and comment on each other’s content. So, the engagement and interaction between users within Likee is very healthy. Even though we have encountered the Indian government’s ban of Chinese app that resolved in quarter-by-quarter MAU decline, but if you axe India, you can see likee’s user base on year-on-year basis and on a year-on-year and on a sequential basis or achieve very high user growth. So, we are confident that the addition to users from other parts of the world will provide the additional traffic funnel to monetization. in terms of the different formats of monetization, I think overseas marketing has still revenue early compared with China. So – but everything happening in China will be replicated global as well, it just met up time. So, in the initial days, as I said this year and next year, we will be focusing on converting user traffic funnel to live streaming, because live streaming is a perfect twin brother with a short-form video, because they all share similar characteristics and we utilize Bigo Live’s backend operation expertise to monetize the user in short-form video Likee ecosystem. So that the paying ratio – will gradually turn up to the similar level of Bigo Live, which would take some time. after we realized the handsome portion of the user conversion to live streaming, then we will continue to explore advertising the e-commerce. As I explained to investors before, advertising is a very natural monetization for short-form video as well, because we kind of explore native ads as a way for user engagement, as well as monetization for Likee. For e-commerce, David has claimed that we have established development e-commerce capabilities for cross-border transactions. So, we also utilized likee’s massive user base to feed into this ecosystem. We utilized Chinese supply chain and then to maximize the user value. But I think advertising and e-commerce at the meaningful revenue contribution will come at a later stage than live streaming. Thanks. Alex Poon Thank you very much. Operator Your next question comes from the line of Yiwen Zhang of Citi. Please ask your question. Yiwen Zhang [Foreign Language] Thanks for taking my question. I asked your view on live streaming model in the future. So, while I pioneered with a future showroom, a decade ago, and it then evolved into mobile showroom and then incubated at again, live streaming, and then it also has exposure industrial video sidebar market in overseas, so what’s your view of the live streaming model in the future? So, apart from this model I mentioned, what are the opportunities if you see, and why do I play in the future? Thank you. Bing Jin Thank you. Let me address that question. I think interestingly, live streaming is not – was a business model per se. It can be integrated with many different business model that’s the beauty of live streaming. For example, our social networking platform can use live streaming for monetization. I’m using app, I use live streaming as a monetization, and that’s the reason why we have so our domestic video-based entertainment live streaming business to Baidu, because Baidu does have a lot of traffic from these different apps, and those traffic can feed into live streaming and have Baidu to build a big ecosystem with better monetization, also help while I’d like to expand its capability of monetization in that big ecosystem. So, I think in China, live streaming will continue to grow. They will further expand to the different categories of industry and different business formats. global live is the same thing, but we think global live, there’ll be more opportunity for live streaming, is not only as a way for monetization with the combination of short-form video, but also the live streaming, as I explained before, has two very unique features overseas. One is that in general, the entry barrier for live streaming is low overseas. That’s why the participation rate from a host in overseas much higher than in China. Secondly, the social interaction between users, among users, among host also more prevalent in overseas market resolving the higher engagement and also high paying amount per users. So in short, that I would say, live streaming has massive potential both in China and overseas and we will make sure that we can really invest in our overseas operation and create more opportunities down the road. Yiwen Zhang Thank you. Operator Your next question comes from the line of Daniel Chen of JPMorgan. Please ask your question. Daniel Chen [Foreign Language] I’ll translate myself. My question – the first question is YY Live China business. this quarter, we see there’s a substantial improvement in the margin. What’s the driver behind? the second line is on Bigo, own market segment, which market do we think has the biggest potential in both user and monetization in the next three to four years. Thank you. Bing Jin Thank you, Daniel. Let me address the question. If you look at the YY Live segment, it has two components; one is YY Live streaming in China domestic, and also the other is HAGO, and other business. in terms of YY Live domestic live stream business, we have achieved better and better operation margin as you can see from the past few quarters. One is on the gross margin side, we tend to do some of the campaigns in the quarter regarding the low, I would say, revenue sharing ratio in the third quarter. in terms of the sales marketing, we have also paid more attention to the YY. So, we have achieved better, I would say, sales and marketing leverage as a percentage of revenue. We have also paid close attention to the R&D and generally personnel spending. So, that’s the reason why we have maintained a healthy and healthier margin profile for YY domestic live streaming business. For other parts under YY Live segment, including HAGO, as I explained in the prepared remarks probably is on the wild track to be the coming breakeven in some of the key regions. So, the better margin profile for HAGO will also help with the enhancement of the or YY Live segment margin expansion. Second question is regarding the biggest potential area for overseas market. I think in general, it would fall under developed markets, as I said, is well over 40% of the revenue contribution for Bigo now. Within developed markets, we think that North America, particularly, the U.S. market will be one of the big markets and also secondly, is the Japan, Korea, New Zealand and Australia, which I called pan-Pacific region or Eastern Pacific regions. Third one is the more on the Western Europe regions. Those regions share several key common characteristics. One is a bigger population base. Second is a high disposable income. Third is very high propensity for social engagement and social interaction resulting in a high paying APU within live streaming scenarios. Thanks. Daniel Chen Thank you. Operator Thank you. Your next question comes from the line of Lei Zhang of BofA. Please ask your question. Lei Zhang [Foreign Language] Thanks management for taking my question and congrats on adherence to your results. My first question is regarding the computation in short video in overseas market, especially after the potential geopolitical change after the U.S. election and second delay about the YY Live deal or curiously, we have some synergy in terms of data and R&D with YY Live domestic business. So, do I continue to share those data or those staffs, while any change we can see after the deal? Thank you. David Xueling Li [Foreign Language] This is David. Let me answer your question. As far as the short-form video competitions Live’s scale overseas, I think our long-term strategy will be consistent. Number one is that we’ll continue to wait for the right time. Secondly, we will make sure that our business stay on a healthy and balanced tracks, and that is what distinguishes us from other competitors as for our data storage and operations ever since the establishment of Bigo in 2014, Bigo’s operation has been fully separated from YY Live, all of our data of overseas and PRC operations separating these stored and operated. Thank you. Lei Zhang Thank you. Operator Our final question is from Tian Hou of TH Capital. please ask your question. Tian Hou Thank you, management, congratulations for the great quarter. So after you sell YY to Baidu, so, I guess the focus is going to be on your overseas business, like the Bigo and the HAGO and other... David Xueling Li [Foreign Language] Tian Hou [Foreign Language] So after sale of YY domestic to Baidu, I guess the company’s focus is going to be your overseas business, including Likee, Bigo, IMO and HAGO. So, I wonder in terms of live streaming, the business operation isn’t going to be the similar to YY domestically, which is a union driven, so that’s number one, also among different apt, so what is the – you must stretch the plan for each of them, which one is the traffic generator, which one is a revenue or profit generator? So what’s your plan? So that’s the first question. The second question is domestic. As the management said that you guys going to get into the new business. Last quarter, I remember Xueling mentioned that you guys going to enter into community fresh produce purchasing program. It is a very high, how to say, momentum area. So, I wonder what company’s new business are going to be and some of the new business you already started, what is the current status? That’s all my question. Thank you. David Xueling Li [Foreign Language] As for our growth in the overseas sector, for Bigo, we’ve been – we’re seeing obvious growth both in our revenue and user base. So, Bigo’s business model has been relatively healthy. as for Likee, at the current stage, mainly – our current focus is mainly on the growth of user base. We have kicked off to start to kick off the monetization of Likee since on the mid-2020, and we foresee and expect to see a more improvement in 2021. As for our domestic business, in terms of community short-form video project business, we did invested in a company focused in this area on – in this trend – but that is an – our investment in the e-commerce sector does not mean that we intend to enter into this sector by ourselves, but it shows our interest in this area. Our long-term focus is to continuously replicate or bring the advantages of Chinese firms in terms of product technology and business model and try to replicate these advantages overseas. Thank you. Tian Hou Okay. Thank you, David. Operator Thank you. At this time, I would now like to hand the call back to the management for short closing remarks. Bing Jin I think that’s the end of the call. We thank everybody for joining the call. We look forward to speaking with everyone next quarter. Thank you. David Xueling Li Thank you very much. Operator Ladies and gentlemen, that does conclude our conference for today. Thank you for your participating and you may now all disconnect. 1\n",
      "          V. Bearish\n",
      "         2\n",
      "          Bearish\n",
      "         3\n",
      "          Neutral\n",
      "         4\n",
      "          Bullish\n",
      "         5\n",
      "          V. Bullish\n",
      "         6 Authors in the Last 90 Days\n"
     ]
    }
   ],
   "source": [
    "## random spotcheck to see if name matches article\n",
    "import random\n",
    "\n",
    "def check_doc_index_match():\n",
    "\n",
    "#     d = 'good_lead_articles'\n",
    "#     subsample = df_index[df_index['group'] == d]\n",
    "    subsample = df_index\n",
    "    random_article = random.sample(list(subsample.index), 1)[0]\n",
    "    i = df_index.index.get_loc(random_article)\n",
    "    print(i, random_article)\n",
    "    print(df_index.loc[random_article, 'name'])\n",
    "    print('---')\n",
    "    print(docs[i])\n",
    "    \n",
    "check_doc_index_match()"
   ]
  },
  {
   "cell_type": "code",
   "execution_count": 10,
   "metadata": {
    "ExecuteTime": {
     "end_time": "2020-11-30T18:58:49.676052Z",
     "start_time": "2020-11-30T18:58:49.638136Z"
    }
   },
   "outputs": [
    {
     "data": {
      "text/html": [
       "<div>\n",
       "<style scoped>\n",
       "    .dataframe tbody tr th:only-of-type {\n",
       "        vertical-align: middle;\n",
       "    }\n",
       "\n",
       "    .dataframe tbody tr th {\n",
       "        vertical-align: top;\n",
       "    }\n",
       "\n",
       "    .dataframe thead th {\n",
       "        text-align: right;\n",
       "    }\n",
       "</style>\n",
       "<table border=\"1\" class=\"dataframe\">\n",
       "  <thead>\n",
       "    <tr style=\"text-align: right;\">\n",
       "      <th></th>\n",
       "      <th>filename</th>\n",
       "      <th>group</th>\n",
       "    </tr>\n",
       "  </thead>\n",
       "  <tbody>\n",
       "  </tbody>\n",
       "</table>\n",
       "</div>"
      ],
      "text/plain": [
       "Empty DataFrame\n",
       "Columns: [filename, group]\n",
       "Index: []"
      ]
     },
     "execution_count": 10,
     "metadata": {},
     "output_type": "execute_result"
    }
   ],
   "source": [
    "# check for duplicate filenames\n",
    "df_index_b[df_index_b['filename'].duplicated()]"
   ]
  },
  {
   "cell_type": "markdown",
   "metadata": {
    "ExecuteTime": {
     "end_time": "2020-11-30T18:53:29.738095Z",
     "start_time": "2020-11-30T18:53:25.267147Z"
    }
   },
   "source": [
    "# look at order mistmatches"
   ]
  },
  {
   "cell_type": "code",
   "execution_count": 18,
   "metadata": {
    "ExecuteTime": {
     "end_time": "2020-11-30T18:58:50.046516Z",
     "start_time": "2020-11-30T18:58:49.991018Z"
    }
   },
   "outputs": [
    {
     "data": {
      "text/html": [
       "<div>\n",
       "<style scoped>\n",
       "    .dataframe tbody tr th:only-of-type {\n",
       "        vertical-align: middle;\n",
       "    }\n",
       "\n",
       "    .dataframe tbody tr th {\n",
       "        vertical-align: top;\n",
       "    }\n",
       "\n",
       "    .dataframe thead th {\n",
       "        text-align: right;\n",
       "    }\n",
       "</style>\n",
       "<table border=\"1\" class=\"dataframe\">\n",
       "  <thead>\n",
       "    <tr style=\"text-align: right;\">\n",
       "      <th></th>\n",
       "      <th>group</th>\n",
       "    </tr>\n",
       "    <tr>\n",
       "      <th>filename</th>\n",
       "      <th></th>\n",
       "    </tr>\n",
       "  </thead>\n",
       "  <tbody>\n",
       "  </tbody>\n",
       "</table>\n",
       "</div>"
      ],
      "text/plain": [
       "Empty DataFrame\n",
       "Columns: [group]\n",
       "Index: []"
      ]
     },
     "execution_count": 18,
     "metadata": {},
     "output_type": "execute_result"
    }
   ],
   "source": [
    "missing_index = df_index_b.set_index('filename').loc[files_not_in_indexed].sort_values(by='group')\n",
    "# missing_index[missing_index['dir'] == \"current_transformational_client_articles\"]\n",
    "missing_index"
   ]
  },
  {
   "cell_type": "code",
   "execution_count": 19,
   "metadata": {
    "ExecuteTime": {
     "end_time": "2020-11-30T18:58:50.110064Z",
     "start_time": "2020-11-30T18:58:50.052241Z"
    }
   },
   "outputs": [
    {
     "data": {
      "text/html": [
       "<div>\n",
       "<style scoped>\n",
       "    .dataframe tbody tr th:only-of-type {\n",
       "        vertical-align: middle;\n",
       "    }\n",
       "\n",
       "    .dataframe tbody tr th {\n",
       "        vertical-align: top;\n",
       "    }\n",
       "\n",
       "    .dataframe thead th {\n",
       "        text-align: right;\n",
       "    }\n",
       "</style>\n",
       "<table border=\"1\" class=\"dataframe\">\n",
       "  <thead>\n",
       "    <tr style=\"text-align: right;\">\n",
       "      <th></th>\n",
       "      <th>name</th>\n",
       "      <th>org</th>\n",
       "      <th>headline</th>\n",
       "      <th>year</th>\n",
       "      <th>source</th>\n",
       "      <th>url</th>\n",
       "      <th>job_title</th>\n",
       "      <th>publication</th>\n",
       "      <th>Unnamed: 0.1</th>\n",
       "      <th>date</th>\n",
       "      <th>f2</th>\n",
       "      <th>title</th>\n",
       "    </tr>\n",
       "    <tr>\n",
       "      <th>filename</th>\n",
       "      <th></th>\n",
       "      <th></th>\n",
       "      <th></th>\n",
       "      <th></th>\n",
       "      <th></th>\n",
       "      <th></th>\n",
       "      <th></th>\n",
       "      <th></th>\n",
       "      <th></th>\n",
       "      <th></th>\n",
       "      <th></th>\n",
       "      <th></th>\n",
       "    </tr>\n",
       "  </thead>\n",
       "  <tbody>\n",
       "    <tr>\n",
       "      <th>nan</th>\n",
       "      <td>NaN</td>\n",
       "      <td>MyoKardia, Inc.</td>\n",
       "      <td>MyoKardia's (MYOK) CEO Tassos Gianakakos on Q3...</td>\n",
       "      <td>0</td>\n",
       "      <td>NaN</td>\n",
       "      <td>https://seekingalpha.com/article/4119876-myoka...</td>\n",
       "      <td>NaN</td>\n",
       "      <td>NaN</td>\n",
       "      <td>53898.0</td>\n",
       "      <td>Nov.  2, 2017,  8:44 PM</td>\n",
       "      <td>MyoKardia-Inc_Nov-2-2017-8-44-PM</td>\n",
       "      <td>nan (0)</td>\n",
       "    </tr>\n",
       "  </tbody>\n",
       "</table>\n",
       "</div>"
      ],
      "text/plain": [
       "         name              org  \\\n",
       "filename                         \n",
       "nan       NaN  MyoKardia, Inc.   \n",
       "\n",
       "                                                   headline  year source  \\\n",
       "filename                                                                   \n",
       "nan       MyoKardia's (MYOK) CEO Tassos Gianakakos on Q3...     0    NaN   \n",
       "\n",
       "                                                        url job_title  \\\n",
       "filename                                                                \n",
       "nan       https://seekingalpha.com/article/4119876-myoka...       NaN   \n",
       "\n",
       "         publication  Unnamed: 0.1                     date  \\\n",
       "filename                                                      \n",
       "nan              NaN       53898.0  Nov.  2, 2017,  8:44 PM   \n",
       "\n",
       "                                        f2    title  \n",
       "filename                                             \n",
       "nan       MyoKardia-Inc_Nov-2-2017-8-44-PM  nan (0)  "
      ]
     },
     "execution_count": 19,
     "metadata": {},
     "output_type": "execute_result"
    }
   ],
   "source": [
    "df_index_a.set_index('filename').loc[index_without_files]"
   ]
  }
 ],
 "metadata": {
  "kernelspec": {
   "display_name": "Python 3",
   "language": "python",
   "name": "python3"
  },
  "language_info": {
   "codemirror_mode": {
    "name": "ipython",
    "version": 3
   },
   "file_extension": ".py",
   "mimetype": "text/x-python",
   "name": "python",
   "nbconvert_exporter": "python",
   "pygments_lexer": "ipython3",
   "version": "3.7.4"
  }
 },
 "nbformat": 4,
 "nbformat_minor": 4
}
