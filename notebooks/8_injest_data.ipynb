{
 "cells": [
  {
   "cell_type": "markdown",
   "metadata": {},
   "source": [
    "# Injest data & Create local DB\n",
    "\n",
    "\n",
    "- Hold a couple files out (for each score)\n",
    "- also get rid of our stopwords \n",
    "- move Ed Bastian file into Good lead examples - from nyt\n"
   ]
  },
  {
   "cell_type": "code",
   "execution_count": 1,
   "metadata": {
    "ExecuteTime": {
     "end_time": "2020-11-30T19:22:06.551369Z",
     "start_time": "2020-11-30T19:22:06.539035Z"
    }
   },
   "outputs": [
    {
     "name": "stdout",
     "output_type": "stream",
     "text": [
      "/Users/peterwinter/Work/IDEO/highlighter\n"
     ]
    }
   ],
   "source": [
    "cd .."
   ]
  },
  {
   "cell_type": "code",
   "execution_count": 2,
   "metadata": {
    "ExecuteTime": {
     "end_time": "2020-11-30T19:22:07.585642Z",
     "start_time": "2020-11-30T19:22:06.563052Z"
    }
   },
   "outputs": [],
   "source": [
    "# Jupyter magic\n",
    "%load_ext autoreload\n",
    "%autoreload 2\n",
    "%matplotlib inline"
   ]
  },
  {
   "cell_type": "code",
   "execution_count": 3,
   "metadata": {
    "ExecuteTime": {
     "end_time": "2020-11-30T19:22:08.427945Z",
     "start_time": "2020-11-30T19:22:07.590678Z"
    }
   },
   "outputs": [],
   "source": [
    "# imports\n",
    "import pandas as pd\n",
    "from src import load_txt_files\n",
    "from src import db_funcs"
   ]
  },
  {
   "cell_type": "markdown",
   "metadata": {},
   "source": [
    "# Load docs & Create an index \n",
    "It's going to be a dataframe that stores:\n",
    "- additional information about a document - interviewee, title, source, year, etc. \n",
    "- similarity scores\n",
    "- file paths (temporary link)\n",
    "\n",
    "\n",
    "\n",
    "get index to reflect the order of document, text, token lists"
   ]
  },
  {
   "cell_type": "code",
   "execution_count": 4,
   "metadata": {
    "ExecuteTime": {
     "end_time": "2020-11-30T19:22:14.201617Z",
     "start_time": "2020-11-30T19:22:08.430585Z"
    }
   },
   "outputs": [
    {
     "name": "stdout",
     "output_type": "stream",
     "text": [
      "58 docs found in ./1_data/how_i_built_this/\n",
      "218 docs found in ./1_data/NYT_corner_office/\n",
      "34 docs found in ./1_data/good_lead_articles/\n",
      "13 docs found in ./1_data/current_transformational_client_articles/\n",
      "40 docs found in ./1_data/Seeking_Alpha\n",
      "./1_data/how_i_built_this/ 61\n",
      "./1_data/NYT_corner_office/ 218\n",
      "./1_data/good_lead_articles/ 35\n",
      "./1_data/current_transformational_client_articles/ 13\n",
      "./1_data/Seeking_Alpha 53899\n",
      "4 filenames with overlapping index\n",
      "nan: 53860 references\n",
      "john_hibt_2020: 2 references\n",
      "zimmer_hibt_2020: 2 references\n",
      "conine_hibt_2020: 2 references\n",
      "\n",
      "removing duplicates from index\n"
     ]
    },
    {
     "data": {
      "text/plain": [
       "((363, 14), (363, 3), (364, 13))"
      ]
     },
     "execution_count": 4,
     "metadata": {},
     "output_type": "execute_result"
    }
   ],
   "source": [
    "\n",
    "\n",
    "\n",
    "# grab all the files from these directories and make some tokens\n",
    "input_paths = [\n",
    "        \"./1_data/how_i_built_this/\",\n",
    "#         \"../1_data/example_articles/\",\n",
    "        \"./1_data/NYT_corner_office/\",\n",
    "        \"./1_data/good_lead_articles/\",\n",
    "        \"./1_data/current_transformational_client_articles/\",\n",
    "        \"./1_data/Seeking_Alpha\"\n",
    "    \n",
    "        ]\n",
    "\n",
    "files, docs, paths = load_txt_files.add_files_from_dir(input_paths)\n",
    "df_index_a = load_txt_files.assemble_index_files(input_paths)\n",
    "df_index_b = pd.DataFrame([files, paths, docs], index=['filename', 'group', 'text']).T\n",
    "\n",
    "\n",
    "a = df_index_a.set_index('filename')\n",
    "b = df_index_b.set_index(\"filename\")\n",
    "\n",
    "df_index = b.join(a, how='left')\n",
    "df_index.shape, df_index_b.shape, df_index_a.shape"
   ]
  },
  {
   "cell_type": "markdown",
   "metadata": {},
   "source": [
    "## save everything to local database"
   ]
  },
  {
   "cell_type": "code",
   "execution_count": 6,
   "metadata": {
    "ExecuteTime": {
     "end_time": "2020-11-30T19:22:14.617207Z",
     "start_time": "2020-11-30T19:22:14.269880Z"
    }
   },
   "outputs": [
    {
     "name": "stderr",
     "output_type": "stream",
     "text": [
      "/Users/peterwinter/Work/IDEO/highlighter/.venv/lib/python3.7/site-packages/pandas/core/generic.py:2615: UserWarning: The spaces in these column names will not be changed. In pandas versions < 0.14, spaces were converted to underscores.\n",
      "  method=method,\n"
     ]
    }
   ],
   "source": [
    "db_filename = 'docs.db'\n",
    "con = db_funcs.create_connection(db_filename)\n",
    "df_index.to_sql('docs', con=con)"
   ]
  },
  {
   "cell_type": "markdown",
   "metadata": {},
   "source": [
    "### Check overlap between actual files and index.csv contents"
   ]
  },
  {
   "cell_type": "code",
   "execution_count": 8,
   "metadata": {
    "ExecuteTime": {
     "end_time": "2020-11-30T19:07:04.435094Z",
     "start_time": "2020-11-30T19:07:04.391755Z"
    }
   },
   "outputs": [
    {
     "name": "stdout",
     "output_type": "stream",
     "text": [
      "0 files not referenced by an index.csv\n",
      "1 indexes missing a file\n",
      "\n",
      "364 overlaps\n"
     ]
    }
   ],
   "source": [
    "files_not_in_indexed = list(set(df_index_b['filename']) - set(df_index_a['filename']))\n",
    "index_without_files = list( set(df_index_a['filename']) - set(df_index_b['filename']))\n",
    "overlap = list( set(df_index_a['filename']) | set(df_index_b['filename']))\n",
    "\n",
    "print(f'{len(files_not_in_indexed)} files not referenced by an index.csv')\n",
    "print(f'{len(index_without_files)} indexes missing a file')\n",
    "print()\n",
    "print(f'{len(overlap)} overlaps')"
   ]
  },
  {
   "cell_type": "markdown",
   "metadata": {},
   "source": [
    "# Check if order accurate"
   ]
  },
  {
   "cell_type": "code",
   "execution_count": 7,
   "metadata": {
    "ExecuteTime": {
     "end_time": "2020-11-30T19:23:07.821138Z",
     "start_time": "2020-11-30T19:23:07.770434Z"
    }
   },
   "outputs": [],
   "source": [
    "index_order = df_index.index.to_list()\n",
    "file_order = df_index_b['filename'].to_list()\n",
    "for i in range(len(df_index)):\n",
    "    filename1 = index_order[i]\n",
    "    filename2 = file_order[i]\n",
    "    if filename1 != filename2:\n",
    "        print('ERROR', i, filename1, filename2)\n"
   ]
  },
  {
   "cell_type": "code",
   "execution_count": null,
   "metadata": {},
   "outputs": [],
   "source": [
    "## random spotcheck to see if name matches article\n",
    "import random\n",
    "\n",
    "def check_doc_index_match():\n",
    "\n",
    "#     d = 'good_lead_articles'\n",
    "#     subsample = df_index[df_index['group'] == d]\n",
    "    subsample = df_index\n",
    "    random_article = random.sample(list(subsample.index), 1)[0]\n",
    "    i = df_index.index.get_loc(random_article)\n",
    "    print(i, random_article)\n",
    "    print(df_index.loc[random_article, 'name'])\n",
    "    print('---')\n",
    "    print(docs[i])\n",
    "    \n",
    "check_doc_index_match()"
   ]
  },
  {
   "cell_type": "code",
   "execution_count": 10,
   "metadata": {
    "ExecuteTime": {
     "end_time": "2020-11-30T18:58:49.676052Z",
     "start_time": "2020-11-30T18:58:49.638136Z"
    }
   },
   "outputs": [
    {
     "data": {
      "text/html": [
       "<div>\n",
       "<style scoped>\n",
       "    .dataframe tbody tr th:only-of-type {\n",
       "        vertical-align: middle;\n",
       "    }\n",
       "\n",
       "    .dataframe tbody tr th {\n",
       "        vertical-align: top;\n",
       "    }\n",
       "\n",
       "    .dataframe thead th {\n",
       "        text-align: right;\n",
       "    }\n",
       "</style>\n",
       "<table border=\"1\" class=\"dataframe\">\n",
       "  <thead>\n",
       "    <tr style=\"text-align: right;\">\n",
       "      <th></th>\n",
       "      <th>filename</th>\n",
       "      <th>group</th>\n",
       "    </tr>\n",
       "  </thead>\n",
       "  <tbody>\n",
       "  </tbody>\n",
       "</table>\n",
       "</div>"
      ],
      "text/plain": [
       "Empty DataFrame\n",
       "Columns: [filename, group]\n",
       "Index: []"
      ]
     },
     "execution_count": 10,
     "metadata": {},
     "output_type": "execute_result"
    }
   ],
   "source": [
    "# check for duplicate filenames\n",
    "df_index_b[df_index_b['filename'].duplicated()]"
   ]
  },
  {
   "cell_type": "markdown",
   "metadata": {
    "ExecuteTime": {
     "end_time": "2020-11-30T18:53:29.738095Z",
     "start_time": "2020-11-30T18:53:25.267147Z"
    }
   },
   "source": [
    "# look at order mistmatches"
   ]
  },
  {
   "cell_type": "code",
   "execution_count": 18,
   "metadata": {
    "ExecuteTime": {
     "end_time": "2020-11-30T18:58:50.046516Z",
     "start_time": "2020-11-30T18:58:49.991018Z"
    }
   },
   "outputs": [
    {
     "data": {
      "text/html": [
       "<div>\n",
       "<style scoped>\n",
       "    .dataframe tbody tr th:only-of-type {\n",
       "        vertical-align: middle;\n",
       "    }\n",
       "\n",
       "    .dataframe tbody tr th {\n",
       "        vertical-align: top;\n",
       "    }\n",
       "\n",
       "    .dataframe thead th {\n",
       "        text-align: right;\n",
       "    }\n",
       "</style>\n",
       "<table border=\"1\" class=\"dataframe\">\n",
       "  <thead>\n",
       "    <tr style=\"text-align: right;\">\n",
       "      <th></th>\n",
       "      <th>group</th>\n",
       "    </tr>\n",
       "    <tr>\n",
       "      <th>filename</th>\n",
       "      <th></th>\n",
       "    </tr>\n",
       "  </thead>\n",
       "  <tbody>\n",
       "  </tbody>\n",
       "</table>\n",
       "</div>"
      ],
      "text/plain": [
       "Empty DataFrame\n",
       "Columns: [group]\n",
       "Index: []"
      ]
     },
     "execution_count": 18,
     "metadata": {},
     "output_type": "execute_result"
    }
   ],
   "source": [
    "missing_index = df_index_b.set_index('filename').loc[files_not_in_indexed].sort_values(by='group')\n",
    "# missing_index[missing_index['dir'] == \"current_transformational_client_articles\"]\n",
    "missing_index"
   ]
  },
  {
   "cell_type": "code",
   "execution_count": 19,
   "metadata": {
    "ExecuteTime": {
     "end_time": "2020-11-30T18:58:50.110064Z",
     "start_time": "2020-11-30T18:58:50.052241Z"
    }
   },
   "outputs": [
    {
     "data": {
      "text/html": [
       "<div>\n",
       "<style scoped>\n",
       "    .dataframe tbody tr th:only-of-type {\n",
       "        vertical-align: middle;\n",
       "    }\n",
       "\n",
       "    .dataframe tbody tr th {\n",
       "        vertical-align: top;\n",
       "    }\n",
       "\n",
       "    .dataframe thead th {\n",
       "        text-align: right;\n",
       "    }\n",
       "</style>\n",
       "<table border=\"1\" class=\"dataframe\">\n",
       "  <thead>\n",
       "    <tr style=\"text-align: right;\">\n",
       "      <th></th>\n",
       "      <th>name</th>\n",
       "      <th>org</th>\n",
       "      <th>headline</th>\n",
       "      <th>year</th>\n",
       "      <th>source</th>\n",
       "      <th>url</th>\n",
       "      <th>job_title</th>\n",
       "      <th>publication</th>\n",
       "      <th>Unnamed: 0.1</th>\n",
       "      <th>date</th>\n",
       "      <th>f2</th>\n",
       "      <th>title</th>\n",
       "    </tr>\n",
       "    <tr>\n",
       "      <th>filename</th>\n",
       "      <th></th>\n",
       "      <th></th>\n",
       "      <th></th>\n",
       "      <th></th>\n",
       "      <th></th>\n",
       "      <th></th>\n",
       "      <th></th>\n",
       "      <th></th>\n",
       "      <th></th>\n",
       "      <th></th>\n",
       "      <th></th>\n",
       "      <th></th>\n",
       "    </tr>\n",
       "  </thead>\n",
       "  <tbody>\n",
       "    <tr>\n",
       "      <th>nan</th>\n",
       "      <td>NaN</td>\n",
       "      <td>MyoKardia, Inc.</td>\n",
       "      <td>MyoKardia's (MYOK) CEO Tassos Gianakakos on Q3...</td>\n",
       "      <td>0</td>\n",
       "      <td>NaN</td>\n",
       "      <td>https://seekingalpha.com/article/4119876-myoka...</td>\n",
       "      <td>NaN</td>\n",
       "      <td>NaN</td>\n",
       "      <td>53898.0</td>\n",
       "      <td>Nov.  2, 2017,  8:44 PM</td>\n",
       "      <td>MyoKardia-Inc_Nov-2-2017-8-44-PM</td>\n",
       "      <td>nan (0)</td>\n",
       "    </tr>\n",
       "  </tbody>\n",
       "</table>\n",
       "</div>"
      ],
      "text/plain": [
       "         name              org  \\\n",
       "filename                         \n",
       "nan       NaN  MyoKardia, Inc.   \n",
       "\n",
       "                                                   headline  year source  \\\n",
       "filename                                                                   \n",
       "nan       MyoKardia's (MYOK) CEO Tassos Gianakakos on Q3...     0    NaN   \n",
       "\n",
       "                                                        url job_title  \\\n",
       "filename                                                                \n",
       "nan       https://seekingalpha.com/article/4119876-myoka...       NaN   \n",
       "\n",
       "         publication  Unnamed: 0.1                     date  \\\n",
       "filename                                                      \n",
       "nan              NaN       53898.0  Nov.  2, 2017,  8:44 PM   \n",
       "\n",
       "                                        f2    title  \n",
       "filename                                             \n",
       "nan       MyoKardia-Inc_Nov-2-2017-8-44-PM  nan (0)  "
      ]
     },
     "execution_count": 19,
     "metadata": {},
     "output_type": "execute_result"
    }
   ],
   "source": [
    "df_index_a.set_index('filename').loc[index_without_files]"
   ]
  }
 ],
 "metadata": {
  "kernelspec": {
   "display_name": "Python 3",
   "language": "python",
   "name": "python3"
  },
  "language_info": {
   "codemirror_mode": {
    "name": "ipython",
    "version": 3
   },
   "file_extension": ".py",
   "mimetype": "text/x-python",
   "name": "python",
   "nbconvert_exporter": "python",
   "pygments_lexer": "ipython3",
   "version": "3.7.4"
  }
 },
 "nbformat": 4,
 "nbformat_minor": 4
}
