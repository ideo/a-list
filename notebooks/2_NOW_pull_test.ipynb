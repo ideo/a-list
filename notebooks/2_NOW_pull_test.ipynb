{
 "cells": [
  {
   "cell_type": "markdown",
   "metadata": {},
   "source": [
    "# Query NOW Corpus for articles\n",
    "\n",
    "\n",
    "link to [now](https://www.english-corpora.org/now/)\n",
    "\n",
    "\n",
    "## Setup"
   ]
  },
  {
   "cell_type": "code",
   "execution_count": null,
   "metadata": {
    "ExecuteTime": {
     "end_time": "2020-11-13T01:35:57.491370Z",
     "start_time": "2020-11-13T01:35:57.475541Z"
    }
   },
   "outputs": [],
   "source": [
    "cd .."
   ]
  },
  {
   "cell_type": "code",
   "execution_count": null,
   "metadata": {
    "ExecuteTime": {
     "end_time": "2020-11-13T01:35:59.020532Z",
     "start_time": "2020-11-13T01:35:58.010544Z"
    }
   },
   "outputs": [],
   "source": [
    "# Jupyter magic\n",
    "%load_ext autoreload\n",
    "%autoreload 2\n",
    "%matplotlib inline"
   ]
  },
  {
   "cell_type": "code",
   "execution_count": null,
   "metadata": {
    "ExecuteTime": {
     "end_time": "2020-11-13T01:35:59.755291Z",
     "start_time": "2020-11-13T01:35:59.024099Z"
    }
   },
   "outputs": [],
   "source": [
    "# python packages\n",
    "import time\n",
    "import random\n",
    "import pandas as pd\n",
    "from seleniumrequests import Chrome"
   ]
  },
  {
   "cell_type": "code",
   "execution_count": null,
   "metadata": {
    "ExecuteTime": {
     "end_time": "2020-11-13T01:36:00.087662Z",
     "start_time": "2020-11-13T01:35:59.758963Z"
    }
   },
   "outputs": [],
   "source": [
    "# local imports\n",
    "from src.scraping import now_query"
   ]
  },
  {
   "cell_type": "markdown",
   "metadata": {
    "ExecuteTime": {
     "end_time": "2020-11-13T01:36:01.126951Z",
     "start_time": "2020-11-13T01:36:00.903655Z"
    }
   },
   "source": [
    "## Search Term Here"
   ]
  },
  {
   "cell_type": "code",
   "execution_count": null,
   "metadata": {
    "ExecuteTime": {
     "end_time": "2020-11-13T01:46:29.627834Z",
     "start_time": "2020-11-13T01:46:29.574565Z"
    }
   },
   "outputs": [],
   "source": [
    "search = \"jim hackett\"\n",
    "search = \"daniel martinez-valle\"\n",
    "search = \"carlos rodriguez pastor\"\n",
    "search = \"kaichi yokoyama\"\n",
    "    \n",
    "\n",
    "csv_name = \"_\".join(search.split()) + \".csv\"\n",
    "f\"creating: {csv_name}\""
   ]
  },
  {
   "cell_type": "markdown",
   "metadata": {
    "ExecuteTime": {
     "end_time": "2020-11-13T01:50:03.054600Z",
     "start_time": "2020-11-13T01:50:02.994293Z"
    }
   },
   "source": [
    "## Setup the Selenium Window for Querying\n",
    "\n",
    "This part requries downloading a driver for selenium. I used Chrome to get this running.\n"
   ]
  },
  {
   "cell_type": "code",
   "execution_count": null,
   "metadata": {
    "ExecuteTime": {
     "end_time": "2020-11-13T16:53:33.890658Z",
     "start_time": "2020-11-13T16:53:29.853609Z"
    },
    "scrolled": false
   },
   "outputs": [],
   "source": [
    "# Change this to where the chromedriver is in your environment\n",
    "path_to_chromedriver = './chromedriver'\n",
    "\n",
    "driver = Chrome(executable_path=path_to_chromedriver)\n",
    "driver.get('https://www.english-corpora.org/now/')\n",
    "r = driver.request('POST', \"https://www.english-corpora.org/now/x2.asp\", data=post_data)\n",
    "r"
   ]
  },
  {
   "cell_type": "markdown",
   "metadata": {},
   "source": [
    "## pull the data and write a csv"
   ]
  },
  {
   "cell_type": "code",
   "execution_count": null,
   "metadata": {
    "ExecuteTime": {
     "end_time": "2020-11-13T02:15:46.539206Z",
     "start_time": "2020-11-13T02:15:46.053020Z"
    }
   },
   "outputs": [],
   "source": [
    "post_data = now_query.make_first_post_data(search = search)\n",
    "initial_query = now_query.make_first_query(search)\n",
    "\n",
    "full_data = []\n",
    "all_pages = []\n",
    "response = now_query.query_request(driver, initial_query)\n",
    "print('response', response)\n",
    "pages, df = now_query.parse_query_response(response)\n",
    "full_data.append(df)\n",
    "all_pages.append(pages)\n",
    "\n",
    "total_pages = pages['last_page']\n",
    "print(f'total_pages: {total_pages}')\n",
    "last_query = initial_query\n",
    "\n",
    "\n",
    "max_pages = 15\n",
    "\n",
    "if total_pages is None:\n",
    "    total_pages = 1\n",
    "\n",
    "if total_pages > max_pages:\n",
    "    print(f\"instead of the full {total_pages}, we are only scraping {max_pages}\")\n",
    "    total_pages = max_pages\n",
    "\n",
    "for i in range(total_pages - 1):\n",
    "    \n",
    "\n",
    "    this_query = \"/now/\" + pages['next_ref']\n",
    "    print('this:', this_query)\n",
    "    print('last:', last_query)\n",
    "\n",
    "    delay = 4 + random.random() * 6\n",
    "    time.sleep(delay)\n",
    "    response = now_query.query_request(driver, this_query, last_query)\n",
    "    pages, df = now_query.parse_query_response(response)\n",
    "\n",
    "    full_data.append(df)\n",
    "    all_pages.append(pages)\n",
    "    \n",
    "    last_query = this_query\n",
    "\n",
    "    print(len(df), 'data rows pulled')\n",
    "    print(len(full_data))\n",
    "    \n",
    "\n",
    "full_df = pd.concat(full_data, axis=0)\n",
    "full_df.to_csv(csv_name)"
   ]
  },
  {
   "cell_type": "markdown",
   "metadata": {
    "ExecuteTime": {
     "end_time": "2020-11-13T01:42:53.502706Z",
     "start_time": "2020-11-13T01:42:53.456689Z"
    }
   },
   "source": [
    "## Check if it worked"
   ]
  },
  {
   "cell_type": "code",
   "execution_count": null,
   "metadata": {
    "ExecuteTime": {
     "end_time": "2020-11-13T02:15:57.118417Z",
     "start_time": "2020-11-13T02:15:57.034052Z"
    }
   },
   "outputs": [],
   "source": [
    "full_df.describe().T"
   ]
  },
  {
   "cell_type": "code",
   "execution_count": null,
   "metadata": {
    "ExecuteTime": {
     "end_time": "2020-11-13T02:16:03.885629Z",
     "start_time": "2020-11-13T02:16:03.795824Z"
    }
   },
   "outputs": [],
   "source": [
    "pd.read_csv(csv_name)"
   ]
  },
  {
   "cell_type": "code",
   "execution_count": null,
   "metadata": {},
   "outputs": [],
   "source": []
  }
 ],
 "metadata": {
  "kernelspec": {
   "display_name": "Python 3",
   "language": "python",
   "name": "python3"
  },
  "language_info": {
   "codemirror_mode": {
    "name": "ipython",
    "version": 3
   },
   "file_extension": ".py",
   "mimetype": "text/x-python",
   "name": "python",
   "nbconvert_exporter": "python",
   "pygments_lexer": "ipython3",
   "version": "3.7.4"
  }
 },
 "nbformat": 4,
 "nbformat_minor": 4
}
