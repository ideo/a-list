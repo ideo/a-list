{
 "cells": [
  {
   "cell_type": "markdown",
   "metadata": {},
   "source": [
    "# Scrape How I Built This (Podcast)"
   ]
  },
  {
   "cell_type": "code",
   "execution_count": 1,
   "metadata": {
    "ExecuteTime": {
     "end_time": "2020-11-16T18:07:30.055568Z",
     "start_time": "2020-11-16T18:07:28.849859Z"
    }
   },
   "outputs": [],
   "source": [
    "# Jupyter magic\n",
    "%load_ext autoreload\n",
    "%autoreload 2\n",
    "%matplotlib inline"
   ]
  },
  {
   "cell_type": "code",
   "execution_count": 13,
   "metadata": {
    "ExecuteTime": {
     "end_time": "2020-11-16T18:17:20.826652Z",
     "start_time": "2020-11-16T18:17:20.644074Z"
    }
   },
   "outputs": [],
   "source": [
    "# imports\n",
    "import requests\n",
    "from bs4 import BeautifulSoup\n",
    "import re\n",
    "import time\n",
    "import random\n",
    "import pandas as pd\n",
    "from seleniumrequests import Chrome"
   ]
  },
  {
   "cell_type": "code",
   "execution_count": 16,
   "metadata": {
    "ExecuteTime": {
     "end_time": "2020-11-16T18:17:44.548423Z",
     "start_time": "2020-11-16T18:17:42.697809Z"
    }
   },
   "outputs": [
    {
     "data": {
      "text/plain": [
       "<Response [200]>"
      ]
     },
     "execution_count": 16,
     "metadata": {},
     "output_type": "execute_result"
    }
   ],
   "source": [
    "save_dir = \"./how_i_built_This\"\n"
   ]
  },
  {
   "cell_type": "code",
   "execution_count": 17,
   "metadata": {
    "ExecuteTime": {
     "end_time": "2020-11-16T18:18:17.667458Z",
     "start_time": "2020-11-16T18:18:04.637136Z"
    },
    "scrolled": false
   },
   "outputs": [],
   "source": [
    "# Change this to where the chromedriver is in your environment\n",
    "path_to_chromedriver = '../chromedriver'\n",
    "\n",
    "driver = Chrome(executable_path=path_to_chromedriver)\n",
    "driver.get(url)"
   ]
  },
  {
   "cell_type": "markdown",
   "metadata": {
    "ExecuteTime": {
     "end_time": "2020-11-16T18:26:54.601299Z",
     "start_time": "2020-11-16T18:26:54.546918Z"
    }
   },
   "source": [
    "### Note: to get all the links, use the selinium window to scroll down repeatedly triggerint the \"load more\" action in the window"
   ]
  },
  {
   "cell_type": "code",
   "execution_count": 34,
   "metadata": {
    "ExecuteTime": {
     "end_time": "2020-11-16T18:25:11.594241Z",
     "start_time": "2020-11-16T18:25:11.489615Z"
    }
   },
   "outputs": [
    {
     "data": {
      "text/plain": [
       "60"
      ]
     },
     "execution_count": 34,
     "metadata": {},
     "output_type": "execute_result"
    }
   ],
   "source": [
    "links = driver.find_elements_by_class_name('hsp-card-episode')\n",
    "len(links)"
   ]
  },
  {
   "cell_type": "code",
   "execution_count": 36,
   "metadata": {
    "ExecuteTime": {
     "end_time": "2020-11-16T18:25:27.084637Z",
     "start_time": "2020-11-16T18:25:26.709914Z"
    }
   },
   "outputs": [
    {
     "data": {
      "text/plain": [
       "['https://www.happyscribe.com/public/how-i-built-this-with-guy-raz/kenneth-cole-kenneth-cole',\n",
       " 'https://www.happyscribe.com/public/how-i-built-this-with-guy-raz/dropbox-drew-houston',\n",
       " 'https://www.happyscribe.com/public/how-i-built-this-with-guy-raz/how-i-built-resilience-varshini-prakash-of-sunrise-movement',\n",
       " 'https://www.happyscribe.com/public/how-i-built-this-with-guy-raz/famous-dave-s-dave-anderson',\n",
       " 'https://www.happyscribe.com/public/how-i-built-this-with-guy-raz/how-i-built-resilience-justin-gold-of-justin-s',\n",
       " 'https://www.happyscribe.com/public/how-i-built-this-with-guy-raz/how-i-built-resilience-cheryl-contee-of-do-big-things',\n",
       " 'https://www.happyscribe.com/public/how-i-built-this-with-guy-raz/mcbride-sisters-wine-part-2-of-2-robin-mcbride-and-andrea-mcbride-john',\n",
       " 'https://www.happyscribe.com/public/how-i-built-this-with-guy-raz/how-i-built-resilience-sonia-gil-of-fluenz',\n",
       " 'https://www.happyscribe.com/public/how-i-built-this-with-guy-raz/mcbride-sisters-wine-part-1-of-2-robin-mcbride-and-andrea-mcbride-john',\n",
       " 'https://www.happyscribe.com/public/how-i-built-this-with-guy-raz/method-adam-lowry-eric-ryan-2018',\n",
       " 'https://www.happyscribe.com/public/how-i-built-this-with-guy-raz/how-i-built-resilience-cynt-marshall-of-dallas-mavericks',\n",
       " 'https://www.happyscribe.com/public/how-i-built-this-with-guy-raz/how-i-built-resilience-aishetu-dozie-of-bossy-cosmetics',\n",
       " 'https://www.happyscribe.com/public/how-i-built-this-with-guy-raz/lush-cosmetics-mark-constantine',\n",
       " 'https://www.happyscribe.com/public/how-i-built-this-with-guy-raz/how-i-built-resilience-jennifer-neundorfer-of-january-ventures',\n",
       " 'https://www.happyscribe.com/public/how-i-built-this-with-guy-raz/how-i-built-resilience-jeremy-stoppelman-of-yelp',\n",
       " 'https://www.happyscribe.com/public/how-i-built-this-with-guy-raz/health-ade-kombucha-daina-trout',\n",
       " 'https://www.happyscribe.com/public/how-i-built-this-with-guy-raz/how-i-built-resilience-john-zimmer-of-lyft',\n",
       " 'https://www.happyscribe.com/public/how-i-built-this-with-guy-raz/khan-academy-sal-khan',\n",
       " 'https://www.happyscribe.com/public/how-i-built-this-with-guy-raz/how-i-built-resilience-whitney-wolfe-herd-of-bumble',\n",
       " 'https://www.happyscribe.com/public/how-i-built-this-with-guy-raz/how-i-built-resilience-bert-and-john-jacobs-of-life-is-good',\n",
       " 'https://www.happyscribe.com/public/how-i-built-this-with-guy-raz/calendly-tope-awotona',\n",
       " 'https://www.happyscribe.com/public/how-i-built-this-with-guy-raz/how-i-built-resilience-special-edition-guy-raz',\n",
       " 'https://www.happyscribe.com/public/how-i-built-this-with-guy-raz/how-i-built-resilience-pokimane',\n",
       " 'https://www.happyscribe.com/public/how-i-built-this-with-guy-raz/rad-power-bikes-mike-radenbaugh',\n",
       " 'https://www.happyscribe.com/public/how-i-built-this-with-guy-raz/how-i-built-resilience-sandra-oh-lin-of-kiwico',\n",
       " 'https://www.happyscribe.com/public/how-i-built-this-with-guy-raz/how-i-built-resilience-luke-holden-and-ben-conniff-of-luke-s-lobster',\n",
       " 'https://www.happyscribe.com/public/how-i-built-this-with-guy-raz/chilewich-sandy-chilewich',\n",
       " 'https://www.happyscribe.com/public/how-i-built-this-with-guy-raz/how-i-built-resilience-niraj-shah-and-steve-conine-of-wayfair',\n",
       " 'https://www.happyscribe.com/public/how-i-built-this-with-guy-raz/how-i-built-resilience-ajay-prakash-and-james-joun-of-rinse',\n",
       " 'https://www.happyscribe.com/public/how-i-built-this-with-guy-raz/wayfair-niraj-shah-steve-conine-2018',\n",
       " 'https://www.happyscribe.com/public/how-i-built-this-with-guy-raz/zocdoc-oliver-kharraz',\n",
       " 'https://www.happyscribe.com/public/how-i-built-this-with-guy-raz/how-i-built-resilience-samantha-bee-of-full-frontal-with-samantha-bee',\n",
       " 'https://www.happyscribe.com/public/how-i-built-this-with-guy-raz/how-i-built-resilience-brian-chesky-of-airbnb',\n",
       " 'https://www.happyscribe.com/public/how-i-built-this-with-guy-raz/briogeo-nancy-twine',\n",
       " 'https://www.happyscribe.com/public/how-i-built-this-with-guy-raz/how-i-built-resilience-jessie-woolley-wilson-of-dreambox-6386b46a-63e2-4b52-b183-e28dee7f091d',\n",
       " 'https://www.happyscribe.com/public/how-i-built-this-with-guy-raz/how-i-built-resilience-alberto-perlman-of-zumba',\n",
       " 'https://www.happyscribe.com/public/how-i-built-this-with-guy-raz/vita-coco-michael-kirban',\n",
       " 'https://www.happyscribe.com/public/how-i-built-this-with-guy-raz/how-i-built-resilience-sarah-harden-and-lauren-neustadter-of-hello-sunshine',\n",
       " 'https://www.happyscribe.com/public/how-i-built-this-with-guy-raz/how-i-built-resilience-taha-bawa-of-goodwall',\n",
       " 'https://www.happyscribe.com/public/how-i-built-this-with-guy-raz/the-laundress-lindsey-boyd',\n",
       " 'https://www.happyscribe.com/public/how-i-built-this-with-guy-raz/how-i-built-resilience-jeremy-zimmer-of-united-talent-agency',\n",
       " 'https://www.happyscribe.com/public/how-i-built-this-with-guy-raz/how-i-built-resilience-songe-laron-of-squire',\n",
       " 'https://www.happyscribe.com/public/how-i-built-this-with-guy-raz/la-colombe-coffee-roasters-todd-carmichael-and-j-p',\n",
       " 'https://www.happyscribe.com/public/how-i-built-this-with-guy-raz/how-i-built-resilience-live-with-john-foley',\n",
       " 'https://www.happyscribe.com/public/how-i-built-this-with-guy-raz/how-i-built-resilience-live-with-julia-hartz',\n",
       " 'https://www.happyscribe.com/public/how-i-built-this-with-guy-raz/tatcha-vicky-tsai',\n",
       " 'https://www.happyscribe.com/public/how-i-built-this-with-guy-raz/how-i-built-resilience-live-with-morgan-debaun',\n",
       " 'https://www.happyscribe.com/public/how-i-built-this-with-guy-raz/how-i-built-resilience-live-with-sharon-chuter',\n",
       " 'https://www.happyscribe.com/public/how-i-built-this-with-guy-raz/tempur-pedic-bobby-trussell-2018',\n",
       " 'https://www.happyscribe.com/public/how-i-built-this-with-guy-raz/classpass-payal-kadakia',\n",
       " 'https://www.happyscribe.com/public/how-i-built-this-with-guy-raz/how-i-built-resilience-live-with-melanie-perkins-and-bill-creelman',\n",
       " 'https://www.happyscribe.com/public/how-i-built-this-with-guy-raz/how-i-built-resilience-live-with-deval-patrick',\n",
       " 'https://www.happyscribe.com/public/how-i-built-this-with-guy-raz/ring-jamie-siminoff',\n",
       " 'https://www.happyscribe.com/public/how-i-built-this-with-guy-raz/how-i-built-resilience-live-with-sadie-lincoln',\n",
       " 'https://www.happyscribe.com/public/how-i-built-this-with-guy-raz/how-i-built-resilience-live-with-cathy-hughes',\n",
       " 'https://www.happyscribe.com/public/how-i-built-this-with-guy-raz/shake-shack-danny-meyer',\n",
       " 'https://www.happyscribe.com/public/how-i-built-this-with-guy-raz/how-i-built-resilience-live-with-y-vonne-hutchinson',\n",
       " 'https://www.happyscribe.com/public/how-i-built-this-with-guy-raz/how-i-built-resilience-live-with-kevin-hart',\n",
       " 'https://www.happyscribe.com/public/how-i-built-this-with-guy-raz/supergoop-holly-thaggard',\n",
       " 'https://www.happyscribe.com/public/how-i-built-this-with-guy-raz/how-i-built-resilience-live-with-troy-carter']"
      ]
     },
     "execution_count": 36,
     "metadata": {},
     "output_type": "execute_result"
    }
   ],
   "source": [
    "episode_urls = []\n",
    "for l in links:\n",
    "    episode_urls.append(l.get_property('href'))\n",
    "    \n",
    "episode_urls"
   ]
  },
  {
   "cell_type": "code",
   "execution_count": 39,
   "metadata": {
    "ExecuteTime": {
     "end_time": "2020-11-16T18:27:09.480996Z",
     "start_time": "2020-11-16T18:27:09.424206Z"
    }
   },
   "outputs": [],
   "source": [
    "# Save them as backup\n",
    "with open(f'{save_dir}/index.txt', 'w') as f:\n",
    "    f.writelines(episode_urls)"
   ]
  },
  {
   "cell_type": "code",
   "execution_count": 60,
   "metadata": {
    "ExecuteTime": {
     "end_time": "2020-11-16T18:45:28.031779Z",
     "start_time": "2020-11-16T18:45:25.834955Z"
    }
   },
   "outputs": [
    {
     "name": "stdout",
     "output_type": "stream",
     "text": [
      "<Response [200]>\n"
     ]
    },
    {
     "data": {
      "text/plain": [
       "'How I Built Resilience: Cheryl Contee of Do Big Things'"
      ]
     },
     "execution_count": 60,
     "metadata": {},
     "output_type": "execute_result"
    }
   ],
   "source": [
    "def get_episode(episode_url):\n",
    "    response = requests.get(episode_url)\n",
    "    print(response)\n",
    "    soup = BeautifulSoup(response.text, 'html.parser')\n",
    "    title = soup.find('h1').text\n",
    "    text = [t.text for t in soup.find('main').find_all('p')]\n",
    "    return title, text\n",
    "\n",
    "title, text = get_episode(episode_urls[5])\n",
    "title"
   ]
  },
  {
   "cell_type": "code",
   "execution_count": 69,
   "metadata": {
    "ExecuteTime": {
     "end_time": "2020-11-16T18:53:03.478828Z",
     "start_time": "2020-11-16T18:50:42.633225Z"
    }
   },
   "outputs": [
    {
     "name": "stdout",
     "output_type": "stream",
     "text": [
      "<Response [200]>\n",
      "Kenneth Cole: Kenneth Cole\n",
      "278 lines\n",
      "./how_i_built_This/Kenneth Cole: Kenneth Cole.txt'\n",
      "<Response [200]>\n",
      "Dropbox: Drew Houston\n",
      "145 lines\n",
      "./how_i_built_This/Dropbox: Drew Houston.txt'\n",
      "<Response [200]>\n",
      "How I Built Resilience: Varshini Prakash of Sunrise Movement\n",
      "63 lines\n",
      "./how_i_built_This/How I Built Resilience: Varshini Prakash of Sunrise Movement.txt'\n",
      "<Response [200]>\n",
      "Famous Dave's: Dave Anderson\n",
      "226 lines\n",
      "./how_i_built_This/Famous Dave's: Dave Anderson.txt'\n",
      "<Response [200]>\n",
      "How I Built Resilience: Justin Gold of Justin's \n",
      "72 lines\n",
      "./how_i_built_This/How I Built Resilience: Justin Gold of Justin's .txt'\n",
      "<Response [200]>\n",
      "How I Built Resilience: Cheryl Contee of Do Big Things\n",
      "67 lines\n",
      "./how_i_built_This/How I Built Resilience: Cheryl Contee of Do Big Things.txt'\n",
      "<Response [200]>\n",
      "McBride Sisters Wine (Part 2 of 2): Robin McBride and Andréa McBride John \n",
      "227 lines\n",
      "./how_i_built_This/McBride Sisters Wine (Part 2 of 2): Robin McBride and Andréa McBride John .txt'\n",
      "<Response [200]>\n",
      "How I Built Resilience: Sonia Gil of Fluenz\n",
      "62 lines\n",
      "./how_i_built_This/How I Built Resilience: Sonia Gil of Fluenz.txt'\n",
      "<Response [200]>\n",
      "McBride Sisters Wine (Part 1 of 2): Robin McBride and Andréa McBride John \n",
      "176 lines\n",
      "./how_i_built_This/McBride Sisters Wine (Part 1 of 2): Robin McBride and Andréa McBride John .txt'\n",
      "<Response [200]>\n",
      "method: Adam Lowry & Eric Ryan (2018)\n",
      "210 lines\n",
      "./how_i_built_This/method: Adam Lowry & Eric Ryan (2018).txt'\n",
      "<Response [200]>\n",
      "How I Built Resilience: Cynt Marshall of Dallas Mavericks\n",
      "73 lines\n",
      "./how_i_built_This/How I Built Resilience: Cynt Marshall of Dallas Mavericks.txt'\n",
      "<Response [200]>\n",
      "How I Built Resilience: Aishetu Dozie of Bossy Cosmetics\n",
      "90 lines\n",
      "./how_i_built_This/How I Built Resilience: Aishetu Dozie of Bossy Cosmetics.txt'\n",
      "<Response [200]>\n",
      "Lush Cosmetics: Mark Constantine\n",
      "329 lines\n",
      "./how_i_built_This/Lush Cosmetics: Mark Constantine.txt'\n",
      "<Response [200]>\n",
      "How I Built Resilience: Jennifer Neundorfer of January Ventures\n",
      "64 lines\n",
      "./how_i_built_This/How I Built Resilience: Jennifer Neundorfer of January Ventures.txt'\n",
      "<Response [200]>\n",
      "How I Built Resilience: Jeremy Stoppelman of Yelp\n",
      "84 lines\n",
      "./how_i_built_This/How I Built Resilience: Jeremy Stoppelman of Yelp.txt'\n",
      "<Response [200]>\n",
      "Health-Ade Kombucha: Daina Trout\n",
      "207 lines\n",
      "./how_i_built_This/Health-Ade Kombucha: Daina Trout.txt'\n",
      "<Response [200]>\n",
      "How I Built Resilience: John Zimmer of Lyft\n",
      "82 lines\n",
      "./how_i_built_This/How I Built Resilience: John Zimmer of Lyft.txt'\n",
      "<Response [200]>\n",
      "Khan Academy: Sal Khan\n",
      "252 lines\n",
      "./how_i_built_This/Khan Academy: Sal Khan.txt'\n",
      "<Response [200]>\n",
      "How I Built Resilience: Whitney Wolfe Herd of Bumble\n",
      "64 lines\n",
      "./how_i_built_This/How I Built Resilience: Whitney Wolfe Herd of Bumble.txt'\n",
      "<Response [200]>\n",
      "How I Built Resilience: Bert and John Jacobs of Life is Good\n",
      "82 lines\n",
      "./how_i_built_This/How I Built Resilience: Bert and John Jacobs of Life is Good.txt'\n",
      "<Response [200]>\n",
      "Calendly: Tope Awotona\n",
      "243 lines\n",
      "./how_i_built_This/Calendly: Tope Awotona.txt'\n",
      "<Response [200]>\n",
      "How I Built Resilience (Special Edition): Guy Raz\n",
      "99 lines\n",
      "./how_i_built_This/How I Built Resilience (Special Edition): Guy Raz.txt'\n",
      "<Response [200]>\n",
      "How I Built Resilience: Pokimane\n",
      "79 lines\n",
      "./how_i_built_This/How I Built Resilience: Pokimane.txt'\n",
      "<Response [200]>\n",
      "Rad Power Bikes: Mike Radenbaugh\n",
      "255 lines\n",
      "./how_i_built_This/Rad Power Bikes: Mike Radenbaugh.txt'\n",
      "<Response [200]>\n",
      "How I Built Resilience: Sandra Oh Lin of KiwiCo\n",
      "56 lines\n",
      "./how_i_built_This/How I Built Resilience: Sandra Oh Lin of KiwiCo.txt'\n",
      "<Response [200]>\n",
      "How I Built Resilience: Luke Holden and Ben Conniff of Luke's Lobster\n",
      "66 lines\n",
      "./how_i_built_This/How I Built Resilience: Luke Holden and Ben Conniff of Luke's Lobster.txt'\n",
      "<Response [200]>\n",
      "Chilewich: Sandy Chilewich\n",
      "166 lines\n",
      "./how_i_built_This/Chilewich: Sandy Chilewich.txt'\n",
      "<Response [200]>\n",
      "How I Built Resilience: Niraj Shah and Steve Conine of Wayfair\n",
      "91 lines\n",
      "./how_i_built_This/How I Built Resilience: Niraj Shah and Steve Conine of Wayfair.txt'\n",
      "<Response [200]>\n",
      "How I Built Resilience: Ajay Prakash and James Joun of Rinse\n",
      "73 lines\n",
      "./how_i_built_This/How I Built Resilience: Ajay Prakash and James Joun of Rinse.txt'\n",
      "<Response [200]>\n",
      "Wayfair: Niraj Shah & Steve Conine (2018)\n",
      "182 lines\n",
      "./how_i_built_This/Wayfair: Niraj Shah & Steve Conine (2018).txt'\n",
      "<Response [200]>\n",
      "Zocdoc: Oliver Kharraz\n",
      "216 lines\n",
      "./how_i_built_This/Zocdoc: Oliver Kharraz.txt'\n",
      "<Response [200]>\n",
      "How I Built Resilience: Samantha Bee of Full Frontal with Samantha Bee\n",
      "74 lines\n",
      "./how_i_built_This/How I Built Resilience: Samantha Bee of Full Frontal with Samantha Bee.txt'\n",
      "<Response [200]>\n",
      "How I Built Resilience: Brian Chesky of Airbnb\n",
      "81 lines\n",
      "./how_i_built_This/How I Built Resilience: Brian Chesky of Airbnb.txt'\n",
      "<Response [200]>\n",
      "Briogeo: Nancy Twine\n",
      "203 lines\n",
      "./how_i_built_This/Briogeo: Nancy Twine.txt'\n",
      "<Response [200]>\n",
      "How I Built Resilience: Jessie Woolley-Wilson of DreamBox\n",
      "61 lines\n",
      "./how_i_built_This/How I Built Resilience: Jessie Woolley-Wilson of DreamBox.txt'\n",
      "<Response [200]>\n",
      "How I Built Resilience: Alberto Perlman of Zumba\n",
      "62 lines\n",
      "./how_i_built_This/How I Built Resilience: Alberto Perlman of Zumba.txt'\n",
      "<Response [200]>\n",
      "Vita Coco: Michael Kirban\n",
      "292 lines\n",
      "./how_i_built_This/Vita Coco: Michael Kirban.txt'\n",
      "<Response [200]>\n",
      "How I Built Resilience: Sarah Harden and Lauren Neustadter of Hello Sunshine\n",
      "55 lines\n",
      "./how_i_built_This/How I Built Resilience: Sarah Harden and Lauren Neustadter of Hello Sunshine.txt'\n",
      "<Response [200]>\n",
      "How I Built Resilience: Taha Bawa of Goodwall\n",
      "59 lines\n",
      "./how_i_built_This/How I Built Resilience: Taha Bawa of Goodwall.txt'\n",
      "<Response [200]>\n",
      "The Laundress: Lindsey Boyd\n",
      "290 lines\n",
      "./how_i_built_This/The Laundress: Lindsey Boyd.txt'\n",
      "<Response [200]>\n",
      "How I Built Resilience: Jeremy Zimmer of United Talent Agency\n",
      "64 lines\n",
      "./how_i_built_This/How I Built Resilience: Jeremy Zimmer of United Talent Agency.txt'\n",
      "<Response [200]>\n",
      "How I Built Resilience: Songe LaRon of Squire\n",
      "76 lines\n",
      "./how_i_built_This/How I Built Resilience: Songe LaRon of Squire.txt'\n",
      "<Response [200]>\n",
      "La Colombe Coffee Roasters: Todd Carmichael and J.P. Iberti\n",
      "246 lines\n",
      "./how_i_built_This/La Colombe Coffee Roasters: Todd Carmichael and J.P. Iberti.txt'\n",
      "<Response [200]>\n",
      "How I Built Resilience: Live with John Foley\n",
      "59 lines\n",
      "./how_i_built_This/How I Built Resilience: Live with John Foley.txt'\n",
      "<Response [200]>\n",
      "How I Built Resilience: Live with Julia Hartz\n",
      "71 lines\n",
      "./how_i_built_This/How I Built Resilience: Live with Julia Hartz.txt'\n",
      "<Response [200]>\n",
      "Tatcha: Vicky Tsai\n",
      "254 lines\n",
      "./how_i_built_This/Tatcha: Vicky Tsai.txt'\n",
      "<Response [200]>\n",
      "How I Built Resilience: Live with Morgan DeBaun\n",
      "69 lines\n",
      "./how_i_built_This/How I Built Resilience: Live with Morgan DeBaun.txt'\n",
      "<Response [200]>\n",
      "How I Built Resilience: Live with Sharon Chuter\n",
      "77 lines\n",
      "./how_i_built_This/How I Built Resilience: Live with Sharon Chuter.txt'\n",
      "<Response [200]>\n",
      "Tempur-Pedic: Bobby Trussell (2018)\n",
      "201 lines\n",
      "./how_i_built_This/Tempur-Pedic: Bobby Trussell (2018).txt'\n",
      "<Response [200]>\n",
      "ClassPass: Payal Kadakia\n",
      "254 lines\n",
      "./how_i_built_This/ClassPass: Payal Kadakia.txt'\n",
      "<Response [200]>\n",
      "How I Built Resilience: Live with Melanie Perkins and Bill Creelman\n",
      "79 lines\n",
      "./how_i_built_This/How I Built Resilience: Live with Melanie Perkins and Bill Creelman.txt'\n",
      "<Response [200]>\n",
      "How I Built Resilience: Live with Deval Patrick\n",
      "49 lines\n",
      "./how_i_built_This/How I Built Resilience: Live with Deval Patrick.txt'\n",
      "<Response [200]>\n",
      "Ring: Jamie Siminoff\n",
      "382 lines\n",
      "./how_i_built_This/Ring: Jamie Siminoff.txt'\n",
      "<Response [200]>\n",
      "How I Built Resilience: Live with Sadie Lincoln\n",
      "63 lines\n",
      "./how_i_built_This/How I Built Resilience: Live with Sadie Lincoln.txt'\n",
      "<Response [200]>\n",
      "How I Built Resilience: Live with Cathy Hughes\n",
      "57 lines\n",
      "./how_i_built_This/How I Built Resilience: Live with Cathy Hughes.txt'\n",
      "<Response [200]>\n",
      "Shake Shack: Danny Meyer\n",
      "163 lines\n",
      "./how_i_built_This/Shake Shack: Danny Meyer.txt'\n",
      "<Response [200]>\n",
      "How I Built Resilience: Live with Y-Vonne Hutchinson\n",
      "61 lines\n",
      "./how_i_built_This/How I Built Resilience: Live with Y-Vonne Hutchinson.txt'\n",
      "<Response [200]>\n",
      "How I Built Resilience: Live with Kevin Hart\n",
      "49 lines\n",
      "./how_i_built_This/How I Built Resilience: Live with Kevin Hart.txt'\n"
     ]
    },
    {
     "name": "stdout",
     "output_type": "stream",
     "text": [
      "<Response [200]>\n",
      "Supergoop!: Holly Thaggard\n",
      "274 lines\n",
      "./how_i_built_This/Supergoop!: Holly Thaggard.txt'\n",
      "<Response [200]>\n",
      "How I Built Resilience: Live with Troy Carter\n",
      "54 lines\n",
      "./how_i_built_This/How I Built Resilience: Live with Troy Carter.txt'\n"
     ]
    }
   ],
   "source": [
    "\n",
    "for episode_url in episode_urls:\n",
    "    title, text = get_episode(episode_url)\n",
    "\n",
    "    print(title)\n",
    "    print(len(text), 'lines')\n",
    "    \n",
    "    fname = f\"{save_dir}/{title}.txt'\"\n",
    "    print(fname)\n",
    "    with open(fname, 'w') as f:\n",
    "        f.writelines(text)\n",
    "    \n"
   ]
  },
  {
   "cell_type": "code",
   "execution_count": null,
   "metadata": {},
   "outputs": [],
   "source": []
  }
 ],
 "metadata": {
  "kernelspec": {
   "display_name": "Python 3",
   "language": "python",
   "name": "python3"
  },
  "language_info": {
   "codemirror_mode": {
    "name": "ipython",
    "version": 3
   },
   "file_extension": ".py",
   "mimetype": "text/x-python",
   "name": "python",
   "nbconvert_exporter": "python",
   "pygments_lexer": "ipython3",
   "version": "3.7.4"
  }
 },
 "nbformat": 4,
 "nbformat_minor": 4
}
