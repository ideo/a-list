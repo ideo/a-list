{
 "cells": [
  {
   "cell_type": "markdown",
   "metadata": {},
   "source": [
    "# Scrape How I Built This (Podcast)"
   ]
  },
  {
   "cell_type": "code",
   "execution_count": null,
   "metadata": {
    "ExecuteTime": {
     "end_time": "2020-11-16T18:07:30.055568Z",
     "start_time": "2020-11-16T18:07:28.849859Z"
    }
   },
   "outputs": [],
   "source": [
    "# Jupyter magic\n",
    "%load_ext autoreload\n",
    "%autoreload 2\n",
    "%matplotlib inline"
   ]
  },
  {
   "cell_type": "code",
   "execution_count": null,
   "metadata": {
    "ExecuteTime": {
     "end_time": "2020-11-16T18:17:20.826652Z",
     "start_time": "2020-11-16T18:17:20.644074Z"
    }
   },
   "outputs": [],
   "source": [
    "# imports\n",
    "import requests\n",
    "from bs4 import BeautifulSoup\n",
    "import re\n",
    "import time\n",
    "import random\n",
    "import pandas as pd\n",
    "from seleniumrequests import Chrome"
   ]
  },
  {
   "cell_type": "code",
   "execution_count": null,
   "metadata": {
    "ExecuteTime": {
     "end_time": "2020-11-16T18:17:44.548423Z",
     "start_time": "2020-11-16T18:17:42.697809Z"
    }
   },
   "outputs": [],
   "source": [
    "save_dir = \"./how_i_built_This\"\n"
   ]
  },
  {
   "cell_type": "code",
   "execution_count": null,
   "metadata": {
    "ExecuteTime": {
     "end_time": "2020-11-16T18:18:17.667458Z",
     "start_time": "2020-11-16T18:18:04.637136Z"
    },
    "scrolled": false
   },
   "outputs": [],
   "source": [
    "# Change this to where the chromedriver is in your environment\n",
    "path_to_chromedriver = '../chromedriver'\n",
    "\n",
    "driver = Chrome(executable_path=path_to_chromedriver)\n",
    "driver.get(url)"
   ]
  },
  {
   "cell_type": "markdown",
   "metadata": {
    "ExecuteTime": {
     "end_time": "2020-11-16T18:26:54.601299Z",
     "start_time": "2020-11-16T18:26:54.546918Z"
    }
   },
   "source": [
    "### Note: to get all the links, use the selinium window to scroll down repeatedly triggerint the \"load more\" action in the window"
   ]
  },
  {
   "cell_type": "code",
   "execution_count": null,
   "metadata": {
    "ExecuteTime": {
     "end_time": "2020-11-16T18:25:11.594241Z",
     "start_time": "2020-11-16T18:25:11.489615Z"
    }
   },
   "outputs": [],
   "source": [
    "links = driver.find_elements_by_class_name('hsp-card-episode')\n",
    "len(links)"
   ]
  },
  {
   "cell_type": "code",
   "execution_count": null,
   "metadata": {
    "ExecuteTime": {
     "end_time": "2020-11-16T18:25:27.084637Z",
     "start_time": "2020-11-16T18:25:26.709914Z"
    }
   },
   "outputs": [],
   "source": [
    "episode_urls = []\n",
    "for l in links:\n",
    "    episode_urls.append(l.get_property('href'))\n",
    "    \n",
    "episode_urls"
   ]
  },
  {
   "cell_type": "code",
   "execution_count": null,
   "metadata": {
    "ExecuteTime": {
     "end_time": "2020-11-16T18:27:09.480996Z",
     "start_time": "2020-11-16T18:27:09.424206Z"
    }
   },
   "outputs": [],
   "source": [
    "# Save them as backup\n",
    "with open(f'{save_dir}/index.txt', 'w') as f:\n",
    "    f.writelines(episode_urls)"
   ]
  },
  {
   "cell_type": "code",
   "execution_count": null,
   "metadata": {
    "ExecuteTime": {
     "end_time": "2020-11-16T18:45:28.031779Z",
     "start_time": "2020-11-16T18:45:25.834955Z"
    }
   },
   "outputs": [],
   "source": [
    "def get_episode(episode_url):\n",
    "    response = requests.get(episode_url)\n",
    "    print(response)\n",
    "    soup = BeautifulSoup(response.text, 'html.parser')\n",
    "    title = soup.find('h1').text\n",
    "    text = [t.text for t in soup.find('main').find_all('p')]\n",
    "    return title, text\n",
    "\n",
    "title, text = get_episode(episode_urls[5])\n",
    "title"
   ]
  },
  {
   "cell_type": "code",
   "execution_count": null,
   "metadata": {
    "ExecuteTime": {
     "end_time": "2020-11-16T18:53:03.478828Z",
     "start_time": "2020-11-16T18:50:42.633225Z"
    }
   },
   "outputs": [],
   "source": [
    "\n",
    "for episode_url in episode_urls:\n",
    "    title, text = get_episode(episode_url)\n",
    "\n",
    "    print(title)\n",
    "    print(len(text), 'lines')\n",
    "    \n",
    "    fname = f\"{save_dir}/{title}.txt'\"\n",
    "    print(fname)\n",
    "    with open(fname, 'w') as f:\n",
    "        f.writelines(text)\n",
    "    \n"
   ]
  },
  {
   "cell_type": "code",
   "execution_count": null,
   "metadata": {},
   "outputs": [],
   "source": []
  }
 ],
 "metadata": {
  "kernelspec": {
   "display_name": "Python 3",
   "language": "python",
   "name": "python3"
  },
  "language_info": {
   "codemirror_mode": {
    "name": "ipython",
    "version": 3
   },
   "file_extension": ".py",
   "mimetype": "text/x-python",
   "name": "python",
   "nbconvert_exporter": "python",
   "pygments_lexer": "ipython3",
   "version": "3.7.4"
  }
 },
 "nbformat": 4,
 "nbformat_minor": 4
}
