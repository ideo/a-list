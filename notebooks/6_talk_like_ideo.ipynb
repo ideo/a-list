{
 "cells": [
  {
   "cell_type": "markdown",
   "metadata": {},
   "source": [
    "# Talk Like IDEO: similarity scores"
   ]
  },
  {
   "cell_type": "code",
   "execution_count": 1,
   "metadata": {
    "ExecuteTime": {
     "end_time": "2020-11-17T18:03:05.228338Z",
     "start_time": "2020-11-17T18:03:04.658406Z"
    }
   },
   "outputs": [],
   "source": [
    "# Jupyter magic\n",
    "%load_ext autoreload\n",
    "%autoreload 2\n",
    "%matplotlib inline"
   ]
  },
  {
   "cell_type": "code",
   "execution_count": 2,
   "metadata": {
    "ExecuteTime": {
     "end_time": "2020-11-17T18:03:08.818184Z",
     "start_time": "2020-11-17T18:03:05.241747Z"
    }
   },
   "outputs": [],
   "source": [
    "# imports\n",
    "import pandas as pd\n",
    "import pathlib\n",
    "import spacy\n",
    "import collections\n",
    "from textblob import TextBlob\n",
    "import gensim\n",
    "import matplotlib\n",
    "import numpy as np\n",
    "import string\n",
    "import matplotlib.pyplot as plt\n",
    "from gensim.corpora.textcorpus import TextCorpus"
   ]
  },
  {
   "cell_type": "code",
   "execution_count": 3,
   "metadata": {
    "ExecuteTime": {
     "end_time": "2020-11-17T18:03:19.307647Z",
     "start_time": "2020-11-17T18:03:08.821581Z"
    }
   },
   "outputs": [
    {
     "name": "stderr",
     "output_type": "stream",
     "text": [
      "[nltk_data] Downloading package stopwords to\n",
      "[nltk_data]     /Users/peterwinter/nltk_data...\n",
      "[nltk_data]   Package stopwords is already up-to-date!\n"
     ]
    }
   ],
   "source": [
    "# import nltk\n",
    "# nltk.download('stopwords')  # run once\n",
    "# from nltk.corpus import stopwords\n",
    "# stop_words = stopwords.words('english')\n",
    "# from nltk.tokenize import word_tokenize"
   ]
  },
  {
   "cell_type": "code",
   "execution_count": 4,
   "metadata": {
    "ExecuteTime": {
     "end_time": "2020-11-17T18:03:19.498939Z",
     "start_time": "2020-11-17T18:03:19.310956Z"
    }
   },
   "outputs": [],
   "source": [
    "import seaborn as sns"
   ]
  },
  {
   "cell_type": "markdown",
   "metadata": {
    "ExecuteTime": {
     "end_time": "2020-11-10T04:47:16.435835Z",
     "start_time": "2020-11-10T04:47:16.392190Z"
    }
   },
   "source": [
    "## Load IDEO docs\n",
    "\n",
    "These were mentioned by Kathy in the [brief](https://docs.google.com/document/d/1ncZfFND1ytnZ3kgMl8RC4GtBFkC3-tAlBDQxuFhRgAU/edit). I manually copied and pasted the text into dropbox to make some quick data."
   ]
  },
  {
   "cell_type": "code",
   "execution_count": 5,
   "metadata": {
    "ExecuteTime": {
     "end_time": "2020-11-17T18:03:19.927592Z",
     "start_time": "2020-11-17T18:03:19.504473Z"
    },
    "scrolled": true
   },
   "outputs": [
    {
     "name": "stdout",
     "output_type": "stream",
     "text": [
      "35 docs found in ../1_data/IDEO_journal\n"
     ]
    }
   ],
   "source": [
    "def read_dir_text_files(data_dir, verbose=True):\n",
    "\n",
    "    skiplist = ['.DS_Store', \"index.txt\"]\n",
    "\n",
    "#     articles = {}\n",
    "    titles = []\n",
    "    texts = []\n",
    "    p = pathlib.Path(data_dir)\n",
    "    for article_path in p.glob('*'):\n",
    "        if article_path.is_dir():\n",
    "            continue\n",
    "        name = article_path.name\n",
    "        if name in skiplist:\n",
    "            continue\n",
    "        txt = article_path.read_text()\n",
    "        titles.append(name)\n",
    "        texts.append(txt)\n",
    "    if verbose:\n",
    "        print(f\"{len(texts)} docs found in {data_dir}\")\n",
    "    return titles, texts\n",
    "\n",
    "\n",
    "# set the path\n",
    "ideo_path = '../1_data/IDEO_journal'\n",
    "\n",
    "# read all the files\n",
    "ideo_titles, ideo_docs = read_dir_text_files(ideo_path)\n",
    "\n",
    "# combine into one big text block\n",
    "ideo_journal_single_big_text = \"\\n\".join(ideo_docs)\n",
    "\n",
    "# preprocess into tokens\n",
    "ideo_doc_tokens = gensim.utils.simple_preprocess(ideo_journal_single_big_text)\n"
   ]
  },
  {
   "cell_type": "markdown",
   "metadata": {},
   "source": [
    "## Load & Preprocess all the documents\n",
    "\n",
    "So far it's just get their text and tokenize it\n",
    "\n",
    "also save the titles and directories of the docs (for later)"
   ]
  },
  {
   "cell_type": "code",
   "execution_count": 6,
   "metadata": {
    "ExecuteTime": {
     "end_time": "2020-11-17T18:03:20.883941Z",
     "start_time": "2020-11-17T18:03:19.932351Z"
    }
   },
   "outputs": [
    {
     "name": "stdout",
     "output_type": "stream",
     "text": [
      "60 docs found in ../1_data/how_i_built_this/\n",
      "6 docs found in ../1_data/example_articles/\n"
     ]
    }
   ],
   "source": [
    "def add_files_from_dir(paths, verbose=True):\n",
    "\n",
    "    all_titles, all_docs, all_paths = [], [], []\n",
    "    for p in paths:\n",
    "        titles, docs = read_dir_text_files(p, verbose=verbose)\n",
    "        all_titles += titles\n",
    "        all_docs += docs\n",
    "        all_paths +=  ([p.split('/')[-2]] * len(docs)) # repeates the name of the directory for each item\n",
    "        \n",
    "    return all_titles, all_docs, all_paths\n",
    "\n",
    "# grab all the files from these directories and make some tokens\n",
    "input_paths = [\n",
    "        \"../1_data/how_i_built_this/\",\n",
    "        \"../1_data/example_articles/\",\n",
    "        ]\n",
    "\n",
    "titles, docs, paths = add_files_from_dir(input_paths)\n",
    "tokens = [gensim.utils.simple_preprocess(doc) for doc in docs]\n"
   ]
  },
  {
   "cell_type": "code",
   "execution_count": 7,
   "metadata": {
    "ExecuteTime": {
     "end_time": "2020-11-17T18:03:20.985395Z",
     "start_time": "2020-11-17T18:03:20.886342Z"
    }
   },
   "outputs": [
    {
     "data": {
      "text/html": [
       "<div>\n",
       "<style scoped>\n",
       "    .dataframe tbody tr th:only-of-type {\n",
       "        vertical-align: middle;\n",
       "    }\n",
       "\n",
       "    .dataframe tbody tr th {\n",
       "        vertical-align: top;\n",
       "    }\n",
       "\n",
       "    .dataframe thead th {\n",
       "        text-align: right;\n",
       "    }\n",
       "</style>\n",
       "<table border=\"1\" class=\"dataframe\">\n",
       "  <thead>\n",
       "    <tr style=\"text-align: right;\">\n",
       "      <th></th>\n",
       "      <th>titles</th>\n",
       "      <th>dir</th>\n",
       "    </tr>\n",
       "  </thead>\n",
       "  <tbody>\n",
       "    <tr>\n",
       "      <th>0</th>\n",
       "      <td>How I Built Resilience: Brian Chesky of Airbnb...</td>\n",
       "      <td>how_i_built_this</td>\n",
       "    </tr>\n",
       "    <tr>\n",
       "      <th>1</th>\n",
       "      <td>The Laundress: Lindsey Boyd.txt'</td>\n",
       "      <td>how_i_built_this</td>\n",
       "    </tr>\n",
       "    <tr>\n",
       "      <th>2</th>\n",
       "      <td>Supergoop!: Holly Thaggard.txt'</td>\n",
       "      <td>how_i_built_this</td>\n",
       "    </tr>\n",
       "    <tr>\n",
       "      <th>3</th>\n",
       "      <td>How I Built Resilience: Bert and John Jacobs o...</td>\n",
       "      <td>how_i_built_this</td>\n",
       "    </tr>\n",
       "    <tr>\n",
       "      <th>4</th>\n",
       "      <td>How I Built Resilience: Pokimane.txt'</td>\n",
       "      <td>how_i_built_this</td>\n",
       "    </tr>\n",
       "    <tr>\n",
       "      <th>...</th>\n",
       "      <td>...</td>\n",
       "      <td>...</td>\n",
       "    </tr>\n",
       "    <tr>\n",
       "      <th>61</th>\n",
       "      <td>orbia_2019_howtolead</td>\n",
       "      <td>example_articles</td>\n",
       "    </tr>\n",
       "    <tr>\n",
       "      <th>62</th>\n",
       "      <td>orbia_2018_reuters_businessnews</td>\n",
       "      <td>example_articles</td>\n",
       "    </tr>\n",
       "    <tr>\n",
       "      <th>63</th>\n",
       "      <td>orbia_2019_quartzatwork</td>\n",
       "      <td>example_articles</td>\n",
       "    </tr>\n",
       "    <tr>\n",
       "      <th>64</th>\n",
       "      <td>marvin_2017_pressrelease.txt</td>\n",
       "      <td>example_articles</td>\n",
       "    </tr>\n",
       "    <tr>\n",
       "      <th>65</th>\n",
       "      <td>orbia_2018_earnings</td>\n",
       "      <td>example_articles</td>\n",
       "    </tr>\n",
       "  </tbody>\n",
       "</table>\n",
       "<p>66 rows × 2 columns</p>\n",
       "</div>"
      ],
      "text/plain": [
       "                                               titles               dir\n",
       "0   How I Built Resilience: Brian Chesky of Airbnb...  how_i_built_this\n",
       "1                    The Laundress: Lindsey Boyd.txt'  how_i_built_this\n",
       "2                     Supergoop!: Holly Thaggard.txt'  how_i_built_this\n",
       "3   How I Built Resilience: Bert and John Jacobs o...  how_i_built_this\n",
       "4               How I Built Resilience: Pokimane.txt'  how_i_built_this\n",
       "..                                                ...               ...\n",
       "61                               orbia_2019_howtolead  example_articles\n",
       "62                    orbia_2018_reuters_businessnews  example_articles\n",
       "63                            orbia_2019_quartzatwork  example_articles\n",
       "64                       marvin_2017_pressrelease.txt  example_articles\n",
       "65                                orbia_2018_earnings  example_articles\n",
       "\n",
       "[66 rows x 2 columns]"
      ]
     },
     "execution_count": 7,
     "metadata": {},
     "output_type": "execute_result"
    }
   ],
   "source": [
    "df_index = pd.DataFrame([titles, paths], index=['titles', 'dir']).T\n",
    "df_index"
   ]
  },
  {
   "cell_type": "code",
   "execution_count": 14,
   "metadata": {
    "ExecuteTime": {
     "end_time": "2020-11-17T18:03:59.457379Z",
     "start_time": "2020-11-17T18:03:59.385609Z"
    }
   },
   "outputs": [
    {
     "data": {
      "text/plain": [
       "how_i_built_this    60\n",
       "example_articles     6\n",
       "Name: dir, dtype: int64"
      ]
     },
     "execution_count": 14,
     "metadata": {},
     "output_type": "execute_result"
    }
   ],
   "source": [
    "df_index['dir'].value_counts()"
   ]
  },
  {
   "cell_type": "markdown",
   "metadata": {
    "ExecuteTime": {
     "end_time": "2020-11-17T00:41:52.327161Z",
     "start_time": "2020-11-17T00:41:52.261856Z"
    }
   },
   "source": [
    "## Make gensim dictionary\n",
    "\n",
    "gensim object that lets us do doc2bow functions.\n",
    "\n",
    "Keeps track of tokens + ids for each token.\n",
    "\n"
   ]
  },
  {
   "cell_type": "code",
   "execution_count": 8,
   "metadata": {
    "ExecuteTime": {
     "end_time": "2020-11-17T18:03:21.100904Z",
     "start_time": "2020-11-17T18:03:21.012470Z"
    }
   },
   "outputs": [
    {
     "data": {
      "text/plain": [
       "(6336, gensim.corpora.dictionary.Dictionary)"
      ]
     },
     "execution_count": 8,
     "metadata": {},
     "output_type": "execute_result"
    }
   ],
   "source": [
    "# Could combine\n",
    "full_dictionary = gensim.corpora.Dictionary([ideo_doc_tokens])\n",
    "# Right now this is just the ideo words... which is all we need for the \"talks like IDEO catagory\"\n",
    "\n",
    "# add all the tokens from the documents?\n",
    "# full_dictionary.add_documents(tokens)\n",
    "\n",
    "len(full_dictionary), type(full_dictionary)"
   ]
  },
  {
   "cell_type": "markdown",
   "metadata": {
    "ExecuteTime": {
     "end_time": "2020-11-17T00:49:53.034076Z",
     "start_time": "2020-11-17T00:49:52.958714Z"
    }
   },
   "source": [
    "## Make Corpus object & Similarity Model\n",
    "\n",
    "corpus is a list where each element is a BOW (list with word frequencies)\n",
    "\n",
    "Term Frequency – Inverse Document Frequency(TF-IDF) is also a bag-of-words model but unlike the regular corpus, TFIDF down weights tokens (words) that appears frequently across documents."
   ]
  },
  {
   "cell_type": "code",
   "execution_count": 9,
   "metadata": {
    "ExecuteTime": {
     "end_time": "2020-11-17T18:03:21.347726Z",
     "start_time": "2020-11-17T18:03:21.106341Z"
    }
   },
   "outputs": [],
   "source": [
    "# Create Bag of Words for IDEO + Corpus\n",
    "ideo_bow = full_dictionary.doc2bow(ideo_doc_tokens)\n",
    "corpus = [full_dictionary.doc2bow(token) for token in tokens]\n",
    "\n",
    "# Add IDEO to the corpus and mark it's postion\n",
    "full_corpus = [ideo_bow] + corpus\n",
    "ideo_corpus_index=0"
   ]
  },
  {
   "cell_type": "code",
   "execution_count": 15,
   "metadata": {
    "ExecuteTime": {
     "end_time": "2020-11-17T18:04:18.673315Z",
     "start_time": "2020-11-17T18:04:18.087111Z"
    }
   },
   "outputs": [
    {
     "data": {
      "image/png": "[encoded data removed]",
      "text/plain": [
       "<Figure size 432x288 with 1 Axes>"
      ]
     },
     "metadata": {
      "needs_background": "light"
     },
     "output_type": "display_data"
    }
   ],
   "source": [
    "def similarity_to_ideo(corpus, ideo_corpus_index=0):\n",
    "\n",
    "    sims = gensim.similarities.Similarity(output_prefix = 'workdir/',\n",
    "                                          corpus=corpus,\n",
    "                                          num_features=len(full_dictionary))\n",
    "    ideo_array = corpus[ideo_corpus_index]\n",
    "    similarity_array = sims[ideo_array]\n",
    "    \n",
    "    assert similarity_array[ideo_corpus_index] > 0.99\n",
    "    return np.delete(similarity_array, ideo_corpus_index)\n",
    "   \n",
    "    \n",
    "\n",
    "bow_sim = similarity_to_ideo(corpus=full_corpus, ideo_corpus_index=ideo_corpus_index)\n",
    "df_index['similarity_bow'] = bow_sim\n",
    "fig, ax = plt.subplots()\n",
    "sns.histplot(bow_sim)\n",
    "plt.show()"
   ]
  },
  {
   "cell_type": "code",
   "execution_count": 16,
   "metadata": {
    "ExecuteTime": {
     "end_time": "2020-11-17T18:04:18.750456Z",
     "start_time": "2020-11-17T18:04:18.678272Z"
    }
   },
   "outputs": [
    {
     "data": {
      "text/html": [
       "<div>\n",
       "<style scoped>\n",
       "    .dataframe tbody tr th:only-of-type {\n",
       "        vertical-align: middle;\n",
       "    }\n",
       "\n",
       "    .dataframe tbody tr th {\n",
       "        vertical-align: top;\n",
       "    }\n",
       "\n",
       "    .dataframe thead th {\n",
       "        text-align: right;\n",
       "    }\n",
       "</style>\n",
       "<table border=\"1\" class=\"dataframe\">\n",
       "  <thead>\n",
       "    <tr style=\"text-align: right;\">\n",
       "      <th></th>\n",
       "      <th>titles</th>\n",
       "      <th>dir</th>\n",
       "      <th>similarity_bow</th>\n",
       "    </tr>\n",
       "  </thead>\n",
       "  <tbody>\n",
       "    <tr>\n",
       "      <th>63</th>\n",
       "      <td>orbia_2019_quartzatwork</td>\n",
       "      <td>example_articles</td>\n",
       "      <td>0.927017</td>\n",
       "    </tr>\n",
       "    <tr>\n",
       "      <th>26</th>\n",
       "      <td>How I Built Resilience: Varshini Prakash of Su...</td>\n",
       "      <td>how_i_built_this</td>\n",
       "      <td>0.916757</td>\n",
       "    </tr>\n",
       "    <tr>\n",
       "      <th>45</th>\n",
       "      <td>How I Built Resilience: Live with Cathy Hughes...</td>\n",
       "      <td>how_i_built_this</td>\n",
       "      <td>0.906958</td>\n",
       "    </tr>\n",
       "    <tr>\n",
       "      <th>31</th>\n",
       "      <td>How I Built Resilience: Live with Troy Carter....</td>\n",
       "      <td>how_i_built_this</td>\n",
       "      <td>0.904894</td>\n",
       "    </tr>\n",
       "    <tr>\n",
       "      <th>24</th>\n",
       "      <td>How I Built Resilience: Live with Deval Patric...</td>\n",
       "      <td>how_i_built_this</td>\n",
       "      <td>0.898572</td>\n",
       "    </tr>\n",
       "    <tr>\n",
       "      <th>...</th>\n",
       "      <td>...</td>\n",
       "      <td>...</td>\n",
       "      <td>...</td>\n",
       "    </tr>\n",
       "    <tr>\n",
       "      <th>19</th>\n",
       "      <td>McBride Sisters Wine (Part 1 of 2): Robin McBr...</td>\n",
       "      <td>how_i_built_this</td>\n",
       "      <td>0.801506</td>\n",
       "    </tr>\n",
       "    <tr>\n",
       "      <th>55</th>\n",
       "      <td>ClassPass: Payal Kadakia.txt'</td>\n",
       "      <td>how_i_built_this</td>\n",
       "      <td>0.799335</td>\n",
       "    </tr>\n",
       "    <tr>\n",
       "      <th>8</th>\n",
       "      <td>Khan Academy: Sal Khan.txt'</td>\n",
       "      <td>how_i_built_this</td>\n",
       "      <td>0.797939</td>\n",
       "    </tr>\n",
       "    <tr>\n",
       "      <th>48</th>\n",
       "      <td>Ring: Jamie Siminoff.txt'</td>\n",
       "      <td>how_i_built_this</td>\n",
       "      <td>0.787770</td>\n",
       "    </tr>\n",
       "    <tr>\n",
       "      <th>62</th>\n",
       "      <td>orbia_2018_reuters_businessnews</td>\n",
       "      <td>example_articles</td>\n",
       "      <td>0.732447</td>\n",
       "    </tr>\n",
       "  </tbody>\n",
       "</table>\n",
       "<p>66 rows × 3 columns</p>\n",
       "</div>"
      ],
      "text/plain": [
       "                                               titles               dir  \\\n",
       "63                            orbia_2019_quartzatwork  example_articles   \n",
       "26  How I Built Resilience: Varshini Prakash of Su...  how_i_built_this   \n",
       "45  How I Built Resilience: Live with Cathy Hughes...  how_i_built_this   \n",
       "31  How I Built Resilience: Live with Troy Carter....  how_i_built_this   \n",
       "24  How I Built Resilience: Live with Deval Patric...  how_i_built_this   \n",
       "..                                                ...               ...   \n",
       "19  McBride Sisters Wine (Part 1 of 2): Robin McBr...  how_i_built_this   \n",
       "55                      ClassPass: Payal Kadakia.txt'  how_i_built_this   \n",
       "8                         Khan Academy: Sal Khan.txt'  how_i_built_this   \n",
       "48                          Ring: Jamie Siminoff.txt'  how_i_built_this   \n",
       "62                    orbia_2018_reuters_businessnews  example_articles   \n",
       "\n",
       "    similarity_bow  \n",
       "63        0.927017  \n",
       "26        0.916757  \n",
       "45        0.906958  \n",
       "31        0.904894  \n",
       "24        0.898572  \n",
       "..             ...  \n",
       "19        0.801506  \n",
       "55        0.799335  \n",
       "8         0.797939  \n",
       "48        0.787770  \n",
       "62        0.732447  \n",
       "\n",
       "[66 rows x 3 columns]"
      ]
     },
     "execution_count": 16,
     "metadata": {},
     "output_type": "execute_result"
    }
   ],
   "source": [
    "df_index.sort_values(by='similarity_bow', ascending=False)\n"
   ]
  },
  {
   "cell_type": "code",
   "execution_count": 17,
   "metadata": {
    "ExecuteTime": {
     "end_time": "2020-11-17T18:04:20.189418Z",
     "start_time": "2020-11-17T18:04:18.754806Z"
    }
   },
   "outputs": [
    {
     "data": {
      "image/png": "[encoded data removed]",
      "text/plain": [
       "<Figure size 432x216 with 1 Axes>"
      ]
     },
     "metadata": {
      "needs_background": "light"
     },
     "output_type": "display_data"
    }
   ],
   "source": [
    "# \n",
    "tf_idf = gensim.models.TfidfModel(full_corpus)\n",
    "\n",
    "# \n",
    "tf_idf_sim = similarity_to_ideo(corpus=tf_idf[full_corpus], ideo_corpus_index=ideo_corpus_index)\n",
    "df_index['similarity_tfidf'] = tf_idf_sim\n",
    "\n",
    "fig, ax = plt.subplots(figsize=(6, 3))\n",
    "sns.histplot(tf_idf_sim, bins=15)\n",
    "ax.set_title('Similarity to IDEO Journal')\n",
    "ax.set_xlabel('Similarity Score')\n",
    "plt.tight_layout()\n",
    "plt.savefig('similarity_dist.png')"
   ]
  },
  {
   "cell_type": "code",
   "execution_count": 18,
   "metadata": {
    "ExecuteTime": {
     "end_time": "2020-11-17T18:04:20.271148Z",
     "start_time": "2020-11-17T18:04:20.193791Z"
    }
   },
   "outputs": [
    {
     "data": {
      "text/html": [
       "<div>\n",
       "<style scoped>\n",
       "    .dataframe tbody tr th:only-of-type {\n",
       "        vertical-align: middle;\n",
       "    }\n",
       "\n",
       "    .dataframe tbody tr th {\n",
       "        vertical-align: top;\n",
       "    }\n",
       "\n",
       "    .dataframe thead th {\n",
       "        text-align: right;\n",
       "    }\n",
       "</style>\n",
       "<table border=\"1\" class=\"dataframe\">\n",
       "  <thead>\n",
       "    <tr style=\"text-align: right;\">\n",
       "      <th></th>\n",
       "      <th>titles</th>\n",
       "      <th>similarity_tfidf</th>\n",
       "    </tr>\n",
       "  </thead>\n",
       "  <tbody>\n",
       "    <tr>\n",
       "      <th>63</th>\n",
       "      <td>orbia_2019_quartzatwork</td>\n",
       "      <td>0.183726</td>\n",
       "    </tr>\n",
       "    <tr>\n",
       "      <th>60</th>\n",
       "      <td>orbia_2019_forbes</td>\n",
       "      <td>0.183207</td>\n",
       "    </tr>\n",
       "    <tr>\n",
       "      <th>65</th>\n",
       "      <td>orbia_2018_earnings</td>\n",
       "      <td>0.154980</td>\n",
       "    </tr>\n",
       "    <tr>\n",
       "      <th>61</th>\n",
       "      <td>orbia_2019_howtolead</td>\n",
       "      <td>0.104239</td>\n",
       "    </tr>\n",
       "    <tr>\n",
       "      <th>62</th>\n",
       "      <td>orbia_2018_reuters_businessnews</td>\n",
       "      <td>0.068656</td>\n",
       "    </tr>\n",
       "  </tbody>\n",
       "</table>\n",
       "</div>"
      ],
      "text/plain": [
       "                             titles  similarity_tfidf\n",
       "63          orbia_2019_quartzatwork          0.183726\n",
       "60                orbia_2019_forbes          0.183207\n",
       "65              orbia_2018_earnings          0.154980\n",
       "61             orbia_2019_howtolead          0.104239\n",
       "62  orbia_2018_reuters_businessnews          0.068656"
      ]
     },
     "execution_count": 18,
     "metadata": {},
     "output_type": "execute_result"
    }
   ],
   "source": [
    "d = df_index[df_index['dir'] == \"example_articles\"].sort_values(by='similarity_tfidf', ascending=False)\n",
    "d.loc[[63, 60, 65, 61, 62], ['titles', 'similarity_tfidf']]"
   ]
  },
  {
   "cell_type": "code",
   "execution_count": 19,
   "metadata": {
    "ExecuteTime": {
     "end_time": "2020-11-17T18:04:20.352256Z",
     "start_time": "2020-11-17T18:04:20.280377Z"
    }
   },
   "outputs": [
    {
     "data": {
      "text/plain": [
       "similarity_tfidf\n",
       "0.215110    How I Built Resilience: Live with Melanie Perk...\n",
       "0.199658                          Calendly: Tope Awotona.txt'\n",
       "0.191772    How I Built Resilience: Sandra Oh Lin of KiwiC...\n",
       "0.188576                      Kenneth Cole: Kenneth Cole.txt'\n",
       "0.183726                              orbia_2019_quartzatwork\n",
       "0.183207                                    orbia_2019_forbes\n",
       "Name: titles, dtype: object"
      ]
     },
     "execution_count": 19,
     "metadata": {},
     "output_type": "execute_result"
    }
   ],
   "source": [
    "df = df_index.sort_values(by='similarity_tfidf', ascending=False)\n",
    "\n",
    "df.set_index('similarity_tfidf')['titles'].head(6)"
   ]
  },
  {
   "cell_type": "markdown",
   "metadata": {},
   "source": [
    "## Actually pretty bad correlation between similarity scores"
   ]
  },
  {
   "cell_type": "code",
   "execution_count": 23,
   "metadata": {
    "ExecuteTime": {
     "end_time": "2020-11-17T18:05:09.036419Z",
     "start_time": "2020-11-17T18:05:08.734753Z"
    }
   },
   "outputs": [
    {
     "data": {
      "image/png": "[encoded data removed]",
      "text/plain": [
       "<Figure size 432x288 with 1 Axes>"
      ]
     },
     "metadata": {
      "needs_background": "light"
     },
     "output_type": "display_data"
    }
   ],
   "source": [
    "fig, ax = plt.subplots()\n",
    "ax.plot(df_index['similarity_bow'], df_index['similarity_tfidf'], '.')\n",
    "# ax.set_xlim(0, 1)\n",
    "# ax.set_ylim(0,1)\n",
    "ax.set_ylabel('tf idf')\n",
    "ax.set_xlabel('bow word counts')\n",
    "ax.set_title('correlation between similarities')\n",
    "plt.show()"
   ]
  },
  {
   "cell_type": "code",
   "execution_count": null,
   "metadata": {},
   "outputs": [],
   "source": []
  }
 ],
 "metadata": {
  "kernelspec": {
   "display_name": "Python 3",
   "language": "python",
   "name": "python3"
  }
 },
 "nbformat": 4,
 "nbformat_minor": 4
}
