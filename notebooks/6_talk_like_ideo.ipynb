{
 "cells": [
  {
   "cell_type": "markdown",
   "metadata": {},
   "source": [
    "# Talk Like IDEO: similarity scores"
   ]
  },
  {
   "cell_type": "code",
   "execution_count": null,
   "metadata": {
    "ExecuteTime": {
     "end_time": "2020-11-13T20:49:35.863355Z",
     "start_time": "2020-11-13T20:49:35.801926Z"
    }
   },
   "outputs": [],
   "source": []
  },
  {
   "cell_type": "code",
   "execution_count": null,
   "metadata": {
    "ExecuteTime": {
     "end_time": "2020-11-16T20:44:17.151828Z",
     "start_time": "2020-11-16T20:44:11.768724Z"
    }
   },
   "outputs": [],
   "source": [
    "# Jupyter magic\n",
    "%load_ext autoreload\n",
    "%autoreload 2\n",
    "%matplotlib inline"
   ]
  },
  {
   "cell_type": "code",
   "execution_count": null,
   "metadata": {
    "ExecuteTime": {
     "end_time": "2020-11-16T21:22:55.392110Z",
     "start_time": "2020-11-16T21:22:55.178740Z"
    }
   },
   "outputs": [],
   "source": [
    "# imports\n",
    "import pandas as pd\n",
    "import pathlib\n",
    "import spacy\n",
    "import collections\n",
    "from textblob import TextBlob\n",
    "import gensim\n",
    "import matplotlib\n",
    "import numpy as np\n",
    "import string\n",
    "import matplotlib.pyplot as plt\n",
    "from nltk.tokenize import word_tokenize\n",
    "from gensim.corpora.textcorpus import TextCorpus"
   ]
  },
  {
   "cell_type": "code",
   "execution_count": null,
   "metadata": {
    "ExecuteTime": {
     "end_time": "2020-11-16T20:44:42.835421Z",
     "start_time": "2020-11-16T20:44:41.648890Z"
    }
   },
   "outputs": [],
   "source": [
    "import seaborn as sns"
   ]
  },
  {
   "cell_type": "markdown",
   "metadata": {
    "ExecuteTime": {
     "end_time": "2020-11-10T04:47:16.435835Z",
     "start_time": "2020-11-10T04:47:16.392190Z"
    }
   },
   "source": [
    "### Load articles: REDO WITH REAL DATA\n",
    "\n",
    "These were mentioned by Kathy in the [brief](https://docs.google.com/document/d/1ncZfFND1ytnZ3kgMl8RC4GtBFkC3-tAlBDQxuFhRgAU/edit). I manually copied and pasted the text into dropbox to make some quick data."
   ]
  },
  {
   "cell_type": "code",
   "execution_count": 67,
   "metadata": {
    "ExecuteTime": {
     "end_time": "2020-11-16T21:26:55.480122Z",
     "start_time": "2020-11-16T21:26:55.360873Z"
    },
    "scrolled": true
   },
   "outputs": [
    {
     "name": "stdout",
     "output_type": "stream",
     "text": [
      "../1_data/example_articles/orbia_2019_forbes\n",
      "orbia_2019_forbes    - has 6585 chars\n",
      "../1_data/example_articles/orbia_2019_howtolead\n",
      "orbia_2019_howtolead    - has 6753 chars\n",
      "../1_data/example_articles/orbia_2018_reuters_businessnews\n",
      "orbia_2018_reuters_businessnews    - has 2376 chars\n",
      "../1_data/example_articles/orbia_2019_quartzatwork\n",
      "orbia_2019_quartzatwork    - has 20006 chars\n",
      "../1_data/example_articles/.ipynb_checkpoints\n",
      "../1_data/example_articles/marvin_2017_pressrelease.txt\n",
      "marvin_2017_pressrelease.txt    - has 4284 chars\n",
      "../1_data/example_articles/orbia_2018_earnings\n",
      "orbia_2018_earnings    - has 31100 chars\n"
     ]
    }
   ],
   "source": [
    "data_dir = '../1_data/example_articles/'\n",
    "p = pathlib.Path(data_dir)\n",
    "\n",
    "articles = {}\n",
    "for article_path in p.glob('*'):\n",
    "    print(article_path)\n",
    "    if article_path.is_dir():\n",
    "        continue\n",
    "    \n",
    "    name = article_path.name\n",
    "    txt = article_path.read_text()\n",
    "    articles[name] = txt\n",
    "    \n",
    "    print(f'{name}    - has {len(txt)} chars')"
   ]
  },
  {
   "cell_type": "code",
   "execution_count": null,
   "metadata": {
    "ExecuteTime": {
     "end_time": "2020-11-16T21:14:17.771463Z",
     "start_time": "2020-11-16T21:14:17.656327Z"
    }
   },
   "outputs": [],
   "source": [
    "ideo_text = articles['orbia_2018_earnings']\n",
    "other_text = articles['orbia_2019_howtolead']"
   ]
  },
  {
   "cell_type": "code",
   "execution_count": null,
   "metadata": {
    "ExecuteTime": {
     "end_time": "2020-11-16T21:04:16.339191Z",
     "start_time": "2020-11-16T21:04:16.213924Z"
    }
   },
   "outputs": [],
   "source": [
    "ideo_articles = ideo_text.split('\\n')\n",
    "len(ideo_articles)"
   ]
  },
  {
   "cell_type": "markdown",
   "metadata": {},
   "source": [
    "## Make gensim dictionary\n",
    "\n",
    "gensim object that lets us do doc2bow functions.\n",
    "\n",
    "Keeps track of tokens + ids for each token"
   ]
  },
  {
   "cell_type": "code",
   "execution_count": null,
   "metadata": {
    "ExecuteTime": {
     "end_time": "2020-11-16T21:05:04.851187Z",
     "start_time": "2020-11-16T21:05:04.530776Z"
    }
   },
   "outputs": [],
   "source": [
    "\n",
    "s = [word_tokenize(s) for s in ideo_articles]\n",
    "# ideo_words = word_tokenize(ideo_text)\n",
    "dictionary = gensim.corpora.Dictionary(s)\n",
    "dictionary\n",
    "\n",
    "# potential weakness: not recognizing words we haven't used yet."
   ]
  },
  {
   "cell_type": "code",
   "execution_count": 69,
   "metadata": {
    "ExecuteTime": {
     "end_time": "2020-11-16T21:27:15.123529Z",
     "start_time": "2020-11-16T21:27:15.038090Z"
    },
    "scrolled": false
   },
   "outputs": [
    {
     "data": {
      "text/plain": [
       "<gensim.corpora.textcorpus.TextCorpus at 0x1276c3150>"
      ]
     },
     "execution_count": 69,
     "metadata": {},
     "output_type": "execute_result"
    }
   ],
   "source": [
    "# dictionary.token2id\n",
    "\n",
    "\n",
    "tc = TextCorpus(\"../1_data/example_articles/marvin_2017_pressrelease.txt\")\n",
    "tc"
   ]
  },
  {
   "cell_type": "code",
   "execution_count": 75,
   "metadata": {
    "ExecuteTime": {
     "end_time": "2020-11-16T21:27:59.975256Z",
     "start_time": "2020-11-16T21:27:59.899491Z"
    }
   },
   "outputs": [
    {
     "name": "stdout",
     "output_type": "stream",
     "text": [
      "['paul', 'marvin', 'named', 'ceo', 'marvin', 'companies']\n"
     ]
    }
   ],
   "source": [
    "for t in tc.get_texts():\n",
    "    print(t)\n",
    "    break"
   ]
  },
  {
   "cell_type": "markdown",
   "metadata": {},
   "source": [
    "## Make \"corpus\"\n",
    "\n",
    "corpus is a list where each element is a BOW (list with word frequencies)"
   ]
  },
  {
   "cell_type": "code",
   "execution_count": null,
   "metadata": {
    "ExecuteTime": {
     "end_time": "2020-11-16T21:19:34.974714Z",
     "start_time": "2020-11-16T21:19:34.490516Z"
    }
   },
   "outputs": [],
   "source": [
    "# corpus = []\n",
    "# for name, text in articles.items():\n",
    "#     t2 = word_tokenize(text)\n",
    "#     corpus.append(dictionary.doc2bow(t2))\n",
    "\n",
    "def text_to_bow(text):\n",
    "    tokens = word_tokenize(text)\n",
    "    return dictionary.doc2bow(tokens)\n",
    "\n",
    "    \n",
    "ideo_bow = text_to_bow(ideo_text)\n"
   ]
  },
  {
   "cell_type": "code",
   "execution_count": null,
   "metadata": {
    "ExecuteTime": {
     "end_time": "2020-11-16T21:19:35.359430Z",
     "start_time": "2020-11-16T21:19:35.119759Z"
    }
   },
   "outputs": [],
   "source": [
    "# def translate_bow_to_english(bow):\n",
    "\n",
    "# for doc in tf_idf[corpus]:\n",
    "#     print([[dictionary[id], np.around(freq, decimals=2)] for id, freq in doc])\n",
    "# #     print(doc)\n",
    "#     break"
   ]
  },
  {
   "cell_type": "markdown",
   "metadata": {},
   "source": [
    "## Make similarity model\n",
    "\n",
    "Term Frequency – Inverse Document Frequency(TF-IDF) is also a bag-of-words model but unlike the regular corpus, TFIDF down weights tokens (words) that appears frequently across documents."
   ]
  },
  {
   "cell_type": "code",
   "execution_count": null,
   "metadata": {
    "ExecuteTime": {
     "end_time": "2020-11-16T21:19:49.016263Z",
     "start_time": "2020-11-16T21:19:48.795994Z"
    }
   },
   "outputs": [],
   "source": [
    "tf_idf = gensim.models.TfidfModel([ideo_bow])\n",
    "tf_idf"
   ]
  },
  {
   "cell_type": "code",
   "execution_count": null,
   "metadata": {
    "ExecuteTime": {
     "end_time": "2020-11-16T21:21:37.152275Z",
     "start_time": "2020-11-16T21:21:36.553953Z"
    },
    "scrolled": false
   },
   "outputs": [],
   "source": [
    "help(gensim.similarities.Similarity)"
   ]
  },
  {
   "cell_type": "code",
   "execution_count": null,
   "metadata": {
    "ExecuteTime": {
     "end_time": "2020-11-16T21:19:58.072481Z",
     "start_time": "2020-11-16T21:19:57.960254Z"
    },
    "scrolled": false
   },
   "outputs": [],
   "source": [
    "sims = gensim.similarities.Similarity('workdir/',\n",
    "                                      tf_idf[ideo_bow],\n",
    "                                      num_features=len(dictionary))"
   ]
  },
  {
   "cell_type": "code",
   "execution_count": null,
   "metadata": {
    "ExecuteTime": {
     "end_time": "2020-11-16T21:19:59.072042Z",
     "start_time": "2020-11-16T21:19:58.973140Z"
    }
   },
   "outputs": [],
   "source": [
    "other_bow = text_to_bow(other_text)\n",
    "other_bow[1]"
   ]
  },
  {
   "cell_type": "code",
   "execution_count": null,
   "metadata": {
    "ExecuteTime": {
     "end_time": "2020-11-16T21:20:00.144865Z",
     "start_time": "2020-11-16T21:20:00.021172Z"
    }
   },
   "outputs": [],
   "source": [
    "similarity_array = sims[tf_idf[other_bow]]\n",
    "len(similarity_array)"
   ]
  },
  {
   "cell_type": "code",
   "execution_count": null,
   "metadata": {
    "ExecuteTime": {
     "end_time": "2020-11-16T21:18:08.748126Z",
     "start_time": "2020-11-16T21:18:08.389180Z"
    }
   },
   "outputs": [],
   "source": []
  },
  {
   "cell_type": "code",
   "execution_count": null,
   "metadata": {
    "ExecuteTime": {
     "end_time": "2020-11-14T00:44:50.806946Z",
     "start_time": "2020-11-14T00:44:50.721764Z"
    }
   },
   "outputs": [],
   "source": [
    "sim_df = pd.DataFrame(all_sims, index=articles.keys(), columns=articles.keys())"
   ]
  },
  {
   "cell_type": "code",
   "execution_count": null,
   "metadata": {
    "ExecuteTime": {
     "end_time": "2020-11-14T01:05:42.260484Z",
     "start_time": "2020-11-14T01:05:41.420417Z"
    }
   },
   "outputs": [],
   "source": [
    "order = good + bad\n",
    "fig, ax = plt.subplots(figsize=(7, 6))\n",
    "sns.heatmap(sim_df.loc[order, order], vmax=0.5, annot=True)\n",
    "plt.tight_layout()\n",
    "plt.savefig('example_orbia_similarity.png')"
   ]
  },
  {
   "cell_type": "code",
   "execution_count": null,
   "metadata": {
    "ExecuteTime": {
     "end_time": "2020-11-14T00:46:48.352714Z",
     "start_time": "2020-11-14T00:46:48.223419Z"
    }
   },
   "outputs": [],
   "source": [
    "order"
   ]
  },
  {
   "cell_type": "code",
   "execution_count": null,
   "metadata": {
    "ExecuteTime": {
     "end_time": "2020-11-14T01:05:51.299715Z",
     "start_time": "2020-11-14T01:05:51.230029Z"
    }
   },
   "outputs": [],
   "source": [
    "pwd"
   ]
  },
  {
   "cell_type": "code",
   "execution_count": null,
   "metadata": {},
   "outputs": [],
   "source": []
  }
 ],
 "metadata": {
  "kernelspec": {
   "display_name": "Python 3",
   "language": "python",
   "name": "python3"
  },
  "language_info": {
   "codemirror_mode": {
    "name": "ipython",
    "version": 3
   },
   "file_extension": ".py",
   "mimetype": "text/x-python",
   "name": "python",
   "nbconvert_exporter": "python",
   "pygments_lexer": "ipython3",
   "version": "3.7.4"
  }
 },
 "nbformat": 4,
 "nbformat_minor": 4
}
