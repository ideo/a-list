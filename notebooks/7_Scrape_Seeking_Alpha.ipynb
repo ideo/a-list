{
 "cells": [
  {
   "cell_type": "markdown",
   "metadata": {},
   "source": [
    "# Scrape Seeking Alpha"
   ]
  },
  {
   "cell_type": "code",
   "execution_count": 18,
   "metadata": {
    "ExecuteTime": {
     "end_time": "2020-11-16T20:19:56.491986Z",
     "start_time": "2020-11-16T20:19:55.755515Z"
    }
   },
   "outputs": [
    {
     "name": "stdout",
     "output_type": "stream",
     "text": [
      "The autoreload extension is already loaded. To reload it, use:\n",
      "  %reload_ext autoreload\n"
     ]
    }
   ],
   "source": [
    "# Jupyter magic\n",
    "%load_ext autoreload\n",
    "%autoreload 2\n",
    "%matplotlib inline"
   ]
  },
  {
   "cell_type": "code",
   "execution_count": 19,
   "metadata": {
    "ExecuteTime": {
     "end_time": "2020-11-16T20:32:31.887524Z",
     "start_time": "2020-11-16T20:32:31.491105Z"
    }
   },
   "outputs": [],
   "source": [
    "# imports\n",
    "import requests\n",
    "from bs4 import BeautifulSoup\n",
    "import re\n",
    "import time\n",
    "import random\n",
    "import pandas as pd\n",
    "from seleniumrequests import Chrome\n",
    "import pathlib"
   ]
  },
  {
   "cell_type": "code",
   "execution_count": 20,
   "metadata": {
    "ExecuteTime": {
     "end_time": "2020-11-16T20:33:01.823878Z",
     "start_time": "2020-11-16T20:33:01.779861Z"
    }
   },
   "outputs": [
    {
     "data": {
      "text/plain": [
       "True"
      ]
     },
     "execution_count": 20,
     "metadata": {},
     "output_type": "execute_result"
    }
   ],
   "source": [
    "save_dir = \"../1_data/Seeking_Alpha\"\n",
    "# pathlib.Path(save_dir).mkdir()\n",
    "pathlib.Path(save_dir).exists()"
   ]
  },
  {
   "cell_type": "markdown",
   "metadata": {},
   "source": [
    "## Create index of URLs for earnings call transcripts"
   ]
  },
  {
   "cell_type": "code",
   "execution_count": 10,
   "metadata": {},
   "outputs": [
    {
     "name": "stdout",
     "output_type": "stream",
     "text": [
      "https://seekingalpha.com/search?q=innovation&type=keyword&tab=transcripts#page=1\n",
      "<Response [403]>\n"
     ]
    }
   ],
   "source": [
    "# Get index of article links and other metadata\n",
    "list_item_df = pd.DataFrame()\n",
    "\n",
    "for i in range(1,2):\n",
    "    # Just all transcripts\n",
    "#     url = \"https://seekingalpha.com/earnings/earnings-call-transcripts/\" + str(i)\n",
    "\n",
    "    # Search for keyword\n",
    "    url = 'https://seekingalpha.com/search?q=innovation&type=keyword&tab=transcripts#page=' + str(i)\n",
    "    print(url)\n",
    "    response = requests.get(url)\n",
    "    print(response)\n",
    "    soup = BeautifulSoup(response.text, 'html.parser')\n",
    "    listitems= soup.findAll(\"li\", {\"class\": \"list-group-item article\"})\n",
    "    \n",
    "    for listitem in listitems:\n",
    "        link = listitem.find(\"a\", {\"class\": \"dashboard-article-link\"})\n",
    "        title = link.text\n",
    "        article_url = link.get('href')\n",
    "\n",
    "        desc = listitem.find('div')\n",
    "        org = desc.find('span').find('a').get('title')\n",
    "        date = re.search('•\\n      (.*)\\n\\n        •', desc.text).group(1)\n",
    "        # Add metadata to index\n",
    "        list_item_df = list_item_df.append({\n",
    "            'title': title\n",
    "            , 'url': 'https://seekingalpha.com' + article_url\n",
    "            , 'org': org\n",
    "            , 'date': date\n",
    "        }, ignore_index=True)\n",
    "    time.sleep(random.random())"
   ]
  },
  {
   "cell_type": "code",
   "execution_count": 11,
   "metadata": {},
   "outputs": [
    {
     "data": {
      "text/html": [
       "<div>\n",
       "<style scoped>\n",
       "    .dataframe tbody tr th:only-of-type {\n",
       "        vertical-align: middle;\n",
       "    }\n",
       "\n",
       "    .dataframe tbody tr th {\n",
       "        vertical-align: top;\n",
       "    }\n",
       "\n",
       "    .dataframe thead th {\n",
       "        text-align: right;\n",
       "    }\n",
       "</style>\n",
       "<table border=\"1\" class=\"dataframe\">\n",
       "  <thead>\n",
       "    <tr style=\"text-align: right;\">\n",
       "      <th></th>\n",
       "    </tr>\n",
       "  </thead>\n",
       "  <tbody>\n",
       "  </tbody>\n",
       "</table>\n",
       "</div>"
      ],
      "text/plain": [
       "Empty DataFrame\n",
       "Columns: []\n",
       "Index: []"
      ]
     },
     "execution_count": 11,
     "metadata": {},
     "output_type": "execute_result"
    }
   ],
   "source": [
    "list_item_df"
   ]
  },
  {
   "cell_type": "code",
   "execution_count": 12,
   "metadata": {},
   "outputs": [
    {
     "ename": "IndexError",
     "evalue": "list index out of range",
     "output_type": "error",
     "traceback": [
      "\u001b[0;31m---------------------------------------------------------------------------\u001b[0m",
      "\u001b[0;31mIndexError\u001b[0m                                Traceback (most recent call last)",
      "\u001b[0;32m<ipython-input-12-afb7bd7d1427>\u001b[0m in \u001b[0;36m<module>\u001b[0;34m\u001b[0m\n\u001b[0;32m----> 1\u001b[0;31m \u001b[0mlistitem\u001b[0m \u001b[0;34m=\u001b[0m \u001b[0mlistitems\u001b[0m\u001b[0;34m[\u001b[0m\u001b[0;36m1\u001b[0m\u001b[0;34m]\u001b[0m\u001b[0;34m\u001b[0m\u001b[0;34m\u001b[0m\u001b[0m\n\u001b[0m",
      "\u001b[0;31mIndexError\u001b[0m: list index out of range"
     ]
    }
   ],
   "source": [
    "listitem = listitems[1]"
   ]
  },
  {
   "cell_type": "markdown",
   "metadata": {
    "ExecuteTime": {
     "end_time": "2020-11-13T01:50:03.054600Z",
     "start_time": "2020-11-13T01:50:02.994293Z"
    }
   },
   "source": [
    "## Setup the Selenium Window for Querying\n",
    "\n",
    "This part requries downloading a driver for selenium. I used Chrome to get this running.\n"
   ]
  },
  {
   "cell_type": "code",
   "execution_count": 16,
   "metadata": {},
   "outputs": [
    {
     "name": "stdout",
     "output_type": "stream",
     "text": [
      "/Users/ahale/Projects/a-list/notebooks\n"
     ]
    }
   ],
   "source": [
    "!pwd"
   ]
  },
  {
   "cell_type": "code",
   "execution_count": 33,
   "metadata": {
    "ExecuteTime": {
     "end_time": "2020-11-13T16:53:33.890658Z",
     "start_time": "2020-11-13T16:53:29.853609Z"
    }
   },
   "outputs": [],
   "source": [
    "# Change this to where the chromedriver is in your environment\n",
    "path_to_chromedriver = '/Users/ahale/chromedriver'"
   ]
  },
  {
   "cell_type": "code",
   "execution_count": 42,
   "metadata": {},
   "outputs": [],
   "source": [
    "url = \"https://seekingalpha.com/earnings/earnings-call-transcripts/\" + '2000'\n",
    "driver = Chrome(executable_path=path_to_chromedriver)\n",
    "driver.get(url)"
   ]
  },
  {
   "cell_type": "code",
   "execution_count": null,
   "metadata": {},
   "outputs": [],
   "source": [
    "list_item_df = pd.DataFrame()"
   ]
  },
  {
   "cell_type": "code",
   "execution_count": 45,
   "metadata": {},
   "outputs": [
    {
     "data": {
      "text/plain": [
       "'https://seekingalpha.com/earnings/earnings-call-transcripts/1'"
      ]
     },
     "metadata": {},
     "output_type": "display_data"
    },
    {
     "data": {
      "text/html": [
       "<div>\n",
       "<style scoped>\n",
       "    .dataframe tbody tr th:only-of-type {\n",
       "        vertical-align: middle;\n",
       "    }\n",
       "\n",
       "    .dataframe tbody tr th {\n",
       "        vertical-align: top;\n",
       "    }\n",
       "\n",
       "    .dataframe thead th {\n",
       "        text-align: right;\n",
       "    }\n",
       "</style>\n",
       "<table border=\"1\" class=\"dataframe\">\n",
       "  <thead>\n",
       "    <tr style=\"text-align: right;\">\n",
       "      <th></th>\n",
       "      <th>date</th>\n",
       "      <th>org</th>\n",
       "      <th>title</th>\n",
       "      <th>url</th>\n",
       "    </tr>\n",
       "  </thead>\n",
       "  <tbody>\n",
       "    <tr>\n",
       "      <th>0</th>\n",
       "      <td>Fri, Nov. 20,  3:35 PM</td>\n",
       "      <td>PennantPark Investment</td>\n",
       "      <td>PennantPark Investment Corporation (PNNT) CEO ...</td>\n",
       "      <td>https://seekingalpha.com/article/4390727-penna...</td>\n",
       "    </tr>\n",
       "    <tr>\n",
       "      <th>1</th>\n",
       "      <td>Fri, Nov. 20,  3:31 PM</td>\n",
       "      <td>Geospace Technologies Corporation</td>\n",
       "      <td>Geospace Technologies Corporation (GEOS) CEO W...</td>\n",
       "      <td>https://seekingalpha.com/article/4390719-geosp...</td>\n",
       "    </tr>\n",
       "    <tr>\n",
       "      <th>2</th>\n",
       "      <td>Fri, Nov. 20,  3:25 PM</td>\n",
       "      <td>The RMR Group Inc.</td>\n",
       "      <td>The RMR Group's (RMR) CEO Adam Portnoy on Q4 2...</td>\n",
       "      <td>https://seekingalpha.com/article/4390712-rmr-g...</td>\n",
       "    </tr>\n",
       "    <tr>\n",
       "      <th>3</th>\n",
       "      <td>Fri, Nov. 20,  3:02 PM</td>\n",
       "      <td>Sysco Corporation</td>\n",
       "      <td>Sysco Corporation (SYY) 2020 Annual Meeting of...</td>\n",
       "      <td>https://seekingalpha.com/article/4390698-sysco...</td>\n",
       "    </tr>\n",
       "    <tr>\n",
       "      <th>4</th>\n",
       "      <td>Fri, Nov. 20,  3:01 PM</td>\n",
       "      <td>Real Matters Inc.</td>\n",
       "      <td>Real Matters' (RLLMF) CEO Brian Lang on Q4 202...</td>\n",
       "      <td>https://seekingalpha.com/article/4390697-real-...</td>\n",
       "    </tr>\n",
       "    <tr>\n",
       "      <th>...</th>\n",
       "      <td>...</td>\n",
       "      <td>...</td>\n",
       "      <td>...</td>\n",
       "      <td>...</td>\n",
       "    </tr>\n",
       "    <tr>\n",
       "      <th>107</th>\n",
       "      <td>Thu, Nov. 19, 11:31 PM</td>\n",
       "      <td>Halma plc</td>\n",
       "      <td>Halma's (HLMAF) CEO Andrew Williams on Half Ye...</td>\n",
       "      <td>https://seekingalpha.com/article/4390518-halma...</td>\n",
       "    </tr>\n",
       "    <tr>\n",
       "      <th>108</th>\n",
       "      <td>Thu, Nov. 19, 11:28 PM</td>\n",
       "      <td>Beacon Roofing Supply, Inc.</td>\n",
       "      <td>Beacon Roofing Supply, Inc. (BECN) CEO Julian ...</td>\n",
       "      <td>https://seekingalpha.com/article/4390516-beaco...</td>\n",
       "    </tr>\n",
       "    <tr>\n",
       "      <th>109</th>\n",
       "      <td>Thu, Nov. 19, 11:26 PM</td>\n",
       "      <td>Williams-Sonoma, Inc.</td>\n",
       "      <td>Williams-Sonoma, Inc. (WSM) CEO Laura Alber on...</td>\n",
       "      <td>https://seekingalpha.com/article/4390515-willi...</td>\n",
       "    </tr>\n",
       "    <tr>\n",
       "      <th>110</th>\n",
       "      <td>Thu, Nov. 19, 11:25 PM</td>\n",
       "      <td>Delta Apparel, Inc.</td>\n",
       "      <td>Delta Apparel, Inc. (DLA) CEO Robert Humphreys...</td>\n",
       "      <td>https://seekingalpha.com/article/4390514-delta...</td>\n",
       "    </tr>\n",
       "    <tr>\n",
       "      <th>111</th>\n",
       "      <td>Thu, Nov. 19, 11:21 PM</td>\n",
       "      <td>Woodward, Inc.</td>\n",
       "      <td>Woodward, Inc. (WWD) CEO Tom Gendron On Q4 202...</td>\n",
       "      <td>https://seekingalpha.com/article/4390512-woodw...</td>\n",
       "    </tr>\n",
       "  </tbody>\n",
       "</table>\n",
       "<p>112 rows × 4 columns</p>\n",
       "</div>"
      ],
      "text/plain": [
       "                       date                                org  \\\n",
       "0    Fri, Nov. 20,  3:35 PM             PennantPark Investment   \n",
       "1    Fri, Nov. 20,  3:31 PM  Geospace Technologies Corporation   \n",
       "2    Fri, Nov. 20,  3:25 PM                 The RMR Group Inc.   \n",
       "3    Fri, Nov. 20,  3:02 PM                  Sysco Corporation   \n",
       "4    Fri, Nov. 20,  3:01 PM                  Real Matters Inc.   \n",
       "..                      ...                                ...   \n",
       "107  Thu, Nov. 19, 11:31 PM                          Halma plc   \n",
       "108  Thu, Nov. 19, 11:28 PM        Beacon Roofing Supply, Inc.   \n",
       "109  Thu, Nov. 19, 11:26 PM              Williams-Sonoma, Inc.   \n",
       "110  Thu, Nov. 19, 11:25 PM                Delta Apparel, Inc.   \n",
       "111  Thu, Nov. 19, 11:21 PM                     Woodward, Inc.   \n",
       "\n",
       "                                                 title  \\\n",
       "0    PennantPark Investment Corporation (PNNT) CEO ...   \n",
       "1    Geospace Technologies Corporation (GEOS) CEO W...   \n",
       "2    The RMR Group's (RMR) CEO Adam Portnoy on Q4 2...   \n",
       "3    Sysco Corporation (SYY) 2020 Annual Meeting of...   \n",
       "4    Real Matters' (RLLMF) CEO Brian Lang on Q4 202...   \n",
       "..                                                 ...   \n",
       "107  Halma's (HLMAF) CEO Andrew Williams on Half Ye...   \n",
       "108  Beacon Roofing Supply, Inc. (BECN) CEO Julian ...   \n",
       "109  Williams-Sonoma, Inc. (WSM) CEO Laura Alber on...   \n",
       "110  Delta Apparel, Inc. (DLA) CEO Robert Humphreys...   \n",
       "111  Woodward, Inc. (WWD) CEO Tom Gendron On Q4 202...   \n",
       "\n",
       "                                                   url  \n",
       "0    https://seekingalpha.com/article/4390727-penna...  \n",
       "1    https://seekingalpha.com/article/4390719-geosp...  \n",
       "2    https://seekingalpha.com/article/4390712-rmr-g...  \n",
       "3    https://seekingalpha.com/article/4390698-sysco...  \n",
       "4    https://seekingalpha.com/article/4390697-real-...  \n",
       "..                                                 ...  \n",
       "107  https://seekingalpha.com/article/4390518-halma...  \n",
       "108  https://seekingalpha.com/article/4390516-beaco...  \n",
       "109  https://seekingalpha.com/article/4390515-willi...  \n",
       "110  https://seekingalpha.com/article/4390514-delta...  \n",
       "111  https://seekingalpha.com/article/4390512-woodw...  \n",
       "\n",
       "[112 rows x 4 columns]"
      ]
     },
     "execution_count": 45,
     "metadata": {},
     "output_type": "execute_result"
    }
   ],
   "source": [
    "# Get index of all articles\n",
    "for i in range(1,100):\n",
    "    url = \"https://seekingalpha.com/earnings/earnings-call-transcripts/\" + str(i)\n",
    "    display(url)\n",
    "    driver = Chrome(executable_path=path_to_chromedriver)\n",
    "    driver.get(url)\n",
    "    \n",
    "    page_source = driver.page_source\n",
    "    soup = BeautifulSoup(page_source, 'html.parser')\n",
    "    listitems= soup.findAll(\"li\", {\"class\": \"list-group-item article\"})\n",
    "\n",
    "    for listitem in listitems:\n",
    "        link = listitem.find(\"a\", {\"class\": \"dashboard-article-link\"})\n",
    "        title = link.text\n",
    "        article_url = link.get('href')\n",
    "\n",
    "        desc = listitem.find('div')\n",
    "        org = desc.find('span').find('a').get('title')\n",
    "        date = re.search('•\\n      (.*)\\n\\n        •', desc.text).group(1)\n",
    "        # Add metadata to index\n",
    "        list_item_df = list_item_df.append({\n",
    "            'title': title\n",
    "            , 'url': 'https://seekingalpha.com' + article_url\n",
    "            , 'org': org\n",
    "            , 'date': date\n",
    "        }, ignore_index=True)\n",
    "    time.sleep(random.random())\n",
    "    \n",
    "    # Close the chrome window so I don't end up with 1000s open on my machine\n",
    "    driver.close()\n",
    "list_item_df"
   ]
  },
  {
   "cell_type": "code",
   "execution_count": 47,
   "metadata": {},
   "outputs": [],
   "source": [
    "list_item_df.to_csv('../1_data/Seeking_Alpha/index.csv')"
   ]
  },
  {
   "cell_type": "code",
   "execution_count": 46,
   "metadata": {},
   "outputs": [
    {
     "data": {
      "text/plain": [
       "'https://seekingalpha.com/article/4390727-pennantpark-investment-corporation-pnnt-ceo-art-penn-on-q4-2020-results-earnings-call'"
      ]
     },
     "execution_count": 46,
     "metadata": {},
     "output_type": "execute_result"
    }
   ],
   "source": [
    "list_item_df.url[0]"
   ]
  },
  {
   "cell_type": "code",
   "execution_count": 31,
   "metadata": {},
   "outputs": [
    {
     "data": {
      "text/plain": [
       "0"
      ]
     },
     "execution_count": 31,
     "metadata": {},
     "output_type": "execute_result"
    }
   ],
   "source": [
    "links = driver.find_elements_by_class_name('list-group-item article')\n",
    "len(links)"
   ]
  },
  {
   "cell_type": "markdown",
   "metadata": {},
   "source": [
    "## pull the data and write a csv"
   ]
  },
  {
   "cell_type": "code",
   "execution_count": null,
   "metadata": {
    "ExecuteTime": {
     "end_time": "2020-11-13T02:15:46.539206Z",
     "start_time": "2020-11-13T02:15:46.053020Z"
    }
   },
   "outputs": [],
   "source": [
    "post_data = now_query.make_first_post_data(search = search)\n",
    "initial_query = now_query.make_first_query(search)\n",
    "\n",
    "full_data = []\n",
    "all_pages = []\n",
    "response = now_query.query_request(driver, initial_query)\n",
    "print('response', response)\n",
    "pages, df = now_query.parse_query_response(response)\n",
    "full_data.append(df)\n",
    "all_pages.append(pages)\n",
    "\n",
    "total_pages = pages['last_page']\n",
    "print(f'total_pages: {total_pages}')\n",
    "last_query = initial_query\n",
    "\n",
    "\n",
    "max_pages = 15\n",
    "\n",
    "if total_pages is None:\n",
    "    total_pages = 1\n",
    "\n",
    "if total_pages > max_pages:\n",
    "    print(f\"instead of the full {total_pages}, we are only scraping {max_pages}\")\n",
    "    total_pages = max_pages\n",
    "\n",
    "for i in range(total_pages - 1):\n",
    "    \n",
    "\n",
    "    this_query = \"/now/\" + pages['next_ref']\n",
    "    print('this:', this_query)\n",
    "    print('last:', last_query)\n",
    "\n",
    "    delay = 4 + random.random() * 6\n",
    "    time.sleep(delay)\n",
    "    response = now_query.query_request(driver, this_query, last_query)\n",
    "    pages, df = now_query.parse_query_response(response)\n",
    "\n",
    "    full_data.append(df)\n",
    "    all_pages.append(pages)\n",
    "    \n",
    "    last_query = this_query\n",
    "\n",
    "    print(len(df), 'data rows pulled')\n",
    "    print(len(full_data))\n",
    "    \n",
    "\n",
    "full_df = pd.concat(full_data, axis=0)\n",
    "full_df.to_csv(csv_name)"
   ]
  },
  {
   "cell_type": "markdown",
   "metadata": {
    "ExecuteTime": {
     "end_time": "2020-11-13T01:42:53.502706Z",
     "start_time": "2020-11-13T01:42:53.456689Z"
    }
   },
   "source": [
    "## Check if it worked"
   ]
  },
  {
   "cell_type": "code",
   "execution_count": null,
   "metadata": {
    "ExecuteTime": {
     "end_time": "2020-11-13T02:15:57.118417Z",
     "start_time": "2020-11-13T02:15:57.034052Z"
    }
   },
   "outputs": [],
   "source": [
    "full_df.describe().T"
   ]
  },
  {
   "cell_type": "code",
   "execution_count": null,
   "metadata": {
    "ExecuteTime": {
     "end_time": "2020-11-13T02:16:03.885629Z",
     "start_time": "2020-11-13T02:16:03.795824Z"
    }
   },
   "outputs": [],
   "source": [
    "pd.read_csv(csv_name)"
   ]
  },
  {
   "cell_type": "code",
   "execution_count": 18,
   "metadata": {
    "ExecuteTime": {
     "end_time": "2020-11-16T20:24:53.250462Z",
     "start_time": "2020-11-16T20:24:53.094764Z"
    }
   },
   "outputs": [
    {
     "name": "stdout",
     "output_type": "stream",
     "text": [
      "<Response [200]>\n"
     ]
    },
    {
     "data": {
      "text/plain": [
       "109"
      ]
     },
     "execution_count": 18,
     "metadata": {},
     "output_type": "execute_result"
    }
   ],
   "source": [
    "url = \"https://www.ideo.com/journal/archive/2\"\n",
    "\n",
    "response = requests.get(url)\n",
    "print(response)\n",
    "soup = BeautifulSoup(response.text, 'html.parser')\n",
    "links2 = [a.get('href') for a in soup.find_all('a')]\n",
    "len(links2)"
   ]
  },
  {
   "cell_type": "code",
   "execution_count": 19,
   "metadata": {
    "ExecuteTime": {
     "end_time": "2020-11-16T20:24:54.121947Z",
     "start_time": "2020-11-16T20:24:54.079813Z"
    }
   },
   "outputs": [
    {
     "name": "stdout",
     "output_type": "stream",
     "text": [
      "before dedupe: 188\n"
     ]
    },
    {
     "data": {
      "text/plain": [
       "72"
      ]
     },
     "execution_count": 19,
     "metadata": {},
     "output_type": "execute_result"
    }
   ],
   "source": [
    "unique_links = links1 + links2\n",
    "print(f'before dedupe: {len(unique_links)}')\n",
    "unique_links = list(set(unique_links))\n",
    "len(unique_links)"
   ]
  },
  {
   "cell_type": "code",
   "execution_count": 46,
   "metadata": {
    "ExecuteTime": {
     "end_time": "2020-11-16T20:38:06.821871Z",
     "start_time": "2020-11-16T20:38:06.747399Z"
    }
   },
   "outputs": [
    {
     "data": {
      "text/plain": [
       "35"
      ]
     },
     "execution_count": 46,
     "metadata": {},
     "output_type": "execute_result"
    }
   ],
   "source": [
    "article_links = [l for l in unique_links if '/journal/' in l]\n",
    "article_links.remove('/journal/archive')\n",
    "\n",
    "full_urls = ['https://www.ideo.com' + link for link in article_links]\n",
    "\n",
    "\n",
    "len(full_urls)"
   ]
  },
  {
   "cell_type": "code",
   "execution_count": 47,
   "metadata": {
    "ExecuteTime": {
     "end_time": "2020-11-16T20:38:12.930311Z",
     "start_time": "2020-11-16T20:38:12.892053Z"
    }
   },
   "outputs": [],
   "source": [
    "# Save them as backup\n",
    "with open(f'{save_dir}/index.txt', 'w') as f:\n",
    "    f.writelines(full_urls)"
   ]
  },
  {
   "cell_type": "markdown",
   "metadata": {
    "ExecuteTime": {
     "end_time": "2020-11-16T18:18:17.667458Z",
     "start_time": "2020-11-16T18:18:04.637136Z"
    }
   },
   "source": [
    "## Grab the text for each post"
   ]
  },
  {
   "cell_type": "markdown",
   "metadata": {
    "ExecuteTime": {
     "end_time": "2020-11-16T18:26:54.601299Z",
     "start_time": "2020-11-16T18:26:54.546918Z"
    }
   },
   "source": []
  },
  {
   "cell_type": "code",
   "execution_count": 50,
   "metadata": {
    "ExecuteTime": {
     "end_time": "2020-11-16T20:38:27.059612Z",
     "start_time": "2020-11-16T20:38:27.003316Z"
    }
   },
   "outputs": [
    {
     "data": {
      "text/plain": [
       "'https://www.ideo.com/journal/the-best-business-breakthroughs-come-from-moments-of-doubt'"
      ]
     },
     "execution_count": 50,
     "metadata": {},
     "output_type": "execute_result"
    }
   ],
   "source": [
    "full_urls[0]"
   ]
  },
  {
   "cell_type": "code",
   "execution_count": 49,
   "metadata": {
    "ExecuteTime": {
     "end_time": "2020-11-16T20:38:22.784853Z",
     "start_time": "2020-11-16T20:38:22.556551Z"
    }
   },
   "outputs": [
    {
     "name": "stdout",
     "output_type": "stream",
     "text": [
      "<Response [200]>\n"
     ]
    }
   ],
   "source": [
    "article_url = full_urls[0]\n",
    "response = requests.get(full_url)\n",
    "print(response)\n",
    "soup = BeautifulSoup(response.text, 'html.parser')\n"
   ]
  },
  {
   "cell_type": "code",
   "execution_count": 45,
   "metadata": {
    "ExecuteTime": {
     "end_time": "2020-11-16T20:37:28.624835Z",
     "start_time": "2020-11-16T20:37:28.560110Z"
    }
   },
   "outputs": [
    {
     "data": {
      "text/plain": [
       "'https://www.ideo.com/journal/the-best-business-breakthroughs-come-from-moments-of-doubt'"
      ]
     },
     "execution_count": 45,
     "metadata": {},
     "output_type": "execute_result"
    }
   ],
   "source": [
    "full_url"
   ]
  },
  {
   "cell_type": "code",
   "execution_count": 42,
   "metadata": {
    "ExecuteTime": {
     "end_time": "2020-11-16T20:36:26.576405Z",
     "start_time": "2020-11-16T20:36:26.542050Z"
    }
   },
   "outputs": [
    {
     "data": {
      "text/plain": [
       "'The Best Business Breakthroughs Come From Moments of Doubt'"
      ]
     },
     "execution_count": 42,
     "metadata": {},
     "output_type": "execute_result"
    }
   ],
   "source": [
    "title = soup.find('h1').text\n"
   ]
  },
  {
   "cell_type": "code",
   "execution_count": 60,
   "metadata": {
    "ExecuteTime": {
     "end_time": "2020-11-16T21:48:22.724912Z",
     "start_time": "2020-11-16T21:48:21.724830Z"
    }
   },
   "outputs": [
    {
     "name": "stdout",
     "output_type": "stream",
     "text": [
      "<Response [200]>\n"
     ]
    }
   ],
   "source": [
    "junk = [\n",
    "'Send this to a friend:',\n",
    " 'Related Posts',\n",
    " 'Send this to a friend:',\n",
    " 'Say Hello.',\n",
    " 'Come work with us! We are always looking for great talent to join our global teams.',\n",
    "'Send this to a friend:',\n",
    "]\n",
    "\n",
    "def get_article(article_url):\n",
    "    response = requests.get(article_url)\n",
    "    print(response)\n",
    "    soup = BeautifulSoup(response.text, 'html.parser')\n",
    "    title = soup.find('h1').text\n",
    "    text = [t.text for t in soup.find_all(['p', 'h2'])]\n",
    "    \n",
    "    for j in junk:\n",
    "        text.remove(j)\n",
    "    \n",
    "    \n",
    "\n",
    "    \n",
    "    return title, text\n",
    "\n",
    "title, text = get_article(full_url)\n"
   ]
  },
  {
   "cell_type": "code",
   "execution_count": 62,
   "metadata": {
    "ExecuteTime": {
     "end_time": "2020-11-16T21:49:32.718008Z",
     "start_time": "2020-11-16T21:49:22.183776Z"
    }
   },
   "outputs": [
    {
     "name": "stdout",
     "output_type": "stream",
     "text": [
      "<Response [200]>\n",
      "The Best Business Breakthroughs Come From Moments of Doubt\n",
      "34 lines\n",
      "../1_data/IDEO_journal/The Best Business Breakthroughs Come From Moments of Doubt.txt'\n",
      "<Response [200]>\n",
      "5 Leaders Reflect on How the Pandemic Has Reshaped Their Thinking\n",
      "32 lines\n",
      "../1_data/IDEO_journal/5 Leaders Reflect on How the Pandemic Has Reshaped Their Thinking.txt'\n",
      "<Response [200]>\n",
      "Innovation Thrives Under These 5 Evidence-Backed Conditions\n",
      "16 lines\n",
      "../1_data/IDEO_journal/Innovation Thrives Under These 5 Evidence-Backed Conditions.txt'\n",
      "<Response [200]>\n",
      "Prototype the Future of Your Business With This 4-Step Design Exercise\n",
      "27 lines\n",
      "../1_data/IDEO_journal/Prototype the Future of Your Business With This 4-Step Design Exercise.txt'\n",
      "<Response [200]>\n",
      "Company Say, Company Do: How Your Words Define Your Business\n",
      "5 lines\n",
      "../1_data/IDEO_journal/Company Say, Company Do: How Your Words Define Your Business.txt'\n",
      "<Response [200]>\n",
      "Resilience in Uncertain Times: Insights From Global Leaders\n",
      "23 lines\n",
      "../1_data/IDEO_journal/Resilience in Uncertain Times: Insights From Global Leaders.txt'\n",
      "<Response [200]>\n",
      "The Three Qualities Leaders Need in an Uncertain Future\n",
      "25 lines\n",
      "../1_data/IDEO_journal/The Three Qualities Leaders Need in an Uncertain Future.txt'\n",
      "<Response [200]>\n",
      "The Radical Power of Listening in Times of Crisis\n",
      "28 lines\n",
      "../1_data/IDEO_journal/The Radical Power of Listening in Times of Crisis.txt'\n",
      "<Response [200]>\n",
      "Your Competitors Aren’t Who You Think They Are\n",
      "15 lines\n",
      "../1_data/IDEO_journal/Your Competitors Aren’t Who You Think They Are.txt'\n",
      "<Response [200]>\n",
      "What Comes After Open Offices? It Doesn’t Matter, As Long As Culture Comes First\n",
      "15 lines\n",
      "../1_data/IDEO_journal/What Comes After Open Offices? It Doesn’t Matter, As Long As Culture Comes First.txt'\n",
      "<Response [200]>\n",
      "From Fail Never to Fail Fast\n",
      "31 lines\n",
      "../1_data/IDEO_journal/From Fail Never to Fail Fast.txt'\n",
      "<Response [200]>\n",
      "How to Think About Long-Term Strategy When You Can Barely See Past Tomorrow\n",
      "19 lines\n",
      "../1_data/IDEO_journal/How to Think About Long-Term Strategy When You Can Barely See Past Tomorrow.txt'\n",
      "<Response [200]>\n",
      "Your Data Could Do More for You If You Learn How to Use It\n",
      "17 lines\n",
      "../1_data/IDEO_journal/Your Data Could Do More for You If You Learn How to Use It.txt'\n",
      "<Response [200]>\n",
      "In Turbulent Times, Companies Can Look to Cities For Survival Strategies\n",
      "22 lines\n",
      "../1_data/IDEO_journal/In Turbulent Times, Companies Can Look to Cities For Survival Strategies.txt'\n",
      "<Response [200]>\n",
      "The 5-Year Collaboration to Turn Canada’s Busiest Airport Into Its Best\n",
      "43 lines\n",
      "../1_data/IDEO_journal/The 5-Year Collaboration to Turn Canada’s Busiest Airport Into Its Best.txt'\n",
      "<Response [200]>\n",
      "To Transform Your Industry, Look at Someone Else’s\n",
      "12 lines\n",
      "../1_data/IDEO_journal/To Transform Your Industry, Look at Someone Else’s.txt'\n",
      "<Response [200]>\n",
      "How Design is Driving Ford to Reimagine What a Car Company Can Be\n",
      "25 lines\n",
      "../1_data/IDEO_journal/How Design is Driving Ford to Reimagine What a Car Company Can Be.txt'\n",
      "<Response [200]>\n",
      "It’s Taken Decades for Social Innovation to Become Mainstream. We Can’t Take Decades More to Act.\n",
      "32 lines\n",
      "../1_data/IDEO_journal/It’s Taken Decades for Social Innovation to Become Mainstream. We Can’t Take Decades More to Act..txt'\n",
      "<Response [200]>\n",
      "How to Craft a Purpose Statement That Unifies a Family of Brands\n",
      "32 lines\n",
      "../1_data/IDEO_journal/How to Craft a Purpose Statement That Unifies a Family of Brands.txt'\n",
      "<Response [200]>\n",
      "6 Ways to Design Value into Your Membership Model\n",
      "37 lines\n",
      "../1_data/IDEO_journal/6 Ways to Design Value into Your Membership Model.txt'\n",
      "<Response [200]>\n",
      "Capitalism Needs a Redesign, but Where Do We Start?\n",
      "29 lines\n",
      "../1_data/IDEO_journal/Capitalism Needs a Redesign, but Where Do We Start?.txt'\n",
      "<Response [200]>\n",
      "Busting the Myth That Regulations Impede Innovation\n",
      "33 lines\n",
      "../1_data/IDEO_journal/Busting the Myth That Regulations Impede Innovation.txt'\n",
      "<Response [200]>\n",
      "The Learning Program That Aims to Make American Cities More Economically Resilient\n",
      "46 lines\n",
      "../1_data/IDEO_journal/The Learning Program That Aims to Make American Cities More Economically Resilient.txt'\n",
      "<Response [200]>\n",
      "Welcome to The IDEO Journal\n",
      "10 lines\n",
      "../1_data/IDEO_journal/Welcome to The IDEO Journal.txt'\n",
      "<Response [200]>\n",
      "2020 Didn’t Go as Planned, but 2021 Is Coming Anyway\n",
      "9 lines\n",
      "../1_data/IDEO_journal/2020 Didn’t Go as Planned, but 2021 Is Coming Anyway.txt'\n",
      "<Response [200]>\n",
      "8 Emerging Trends That Can Help Companies Understand Their Future Consumer\n",
      "38 lines\n",
      "../1_data/IDEO_journal/8 Emerging Trends That Can Help Companies Understand Their Future Consumer.txt'\n",
      "<Response [200]>\n",
      "Can Digital Therapeutics Revolutionize Medicine?\n",
      "34 lines\n",
      "../1_data/IDEO_journal/Can Digital Therapeutics Revolutionize Medicine?.txt'\n",
      "<Response [200]>\n",
      "The Food System Can’t Survive This Crisis, but a Better System Can Be Built\n",
      "18 lines\n",
      "../1_data/IDEO_journal/The Food System Can’t Survive This Crisis, but a Better System Can Be Built.txt'\n",
      "<Response [200]>\n",
      "Today’s Leaders Must Learn to Address a New Epidemic: Loneliness\n",
      "13 lines\n",
      "../1_data/IDEO_journal/Today’s Leaders Must Learn to Address a New Epidemic: Loneliness.txt'\n",
      "<Response [200]>\n",
      "4 Strategies to Chart a Path Forward When There is No Map\n",
      "29 lines\n",
      "../1_data/IDEO_journal/4 Strategies to Chart a Path Forward When There is No Map.txt'\n",
      "<Response [200]>\n",
      "From Startup to Grown-up: Helping Digitally-Native Companies Come of Age\n",
      "23 lines\n",
      "../1_data/IDEO_journal/From Startup to Grown-up: Helping Digitally-Native Companies Come of Age.txt'\n",
      "<Response [200]>\n",
      "What Does it Really Mean to “Act Like a Startup”?\n",
      "21 lines\n",
      "../1_data/IDEO_journal/What Does it Really Mean to “Act Like a Startup”?.txt'\n",
      "<Response [200]>\n",
      "When Building a New Venture, Friction Isn’t Just Inevitable—It’s Invaluable\n",
      "14 lines\n",
      "../1_data/IDEO_journal/When Building a New Venture, Friction Isn’t Just Inevitable—It’s Invaluable.txt'\n",
      "<Response [200]>\n",
      "Successful Innovation Labs Have These Four Things in Common\n",
      "59 lines\n",
      "../1_data/IDEO_journal/Successful Innovation Labs Have These Four Things in Common.txt'\n",
      "<Response [200]>\n",
      "Don’t Throw Away Your Innovation Budget\n",
      "17 lines\n",
      "../1_data/IDEO_journal/Don’t Throw Away Your Innovation Budget.txt'\n"
     ]
    }
   ],
   "source": [
    "for article_url in full_urls:\n",
    "    title, text = get_article(article_url)\n",
    "\n",
    "    print(title)\n",
    "    print(len(text), 'lines')\n",
    "    \n",
    "    fname = f\"{save_dir}/{title}.txt\"\n",
    "    print(fname)\n",
    "    with open(fname, 'w') as f:\n",
    "        f.writelines(text)"
   ]
  },
  {
   "cell_type": "code",
   "execution_count": 66,
   "metadata": {
    "ExecuteTime": {
     "end_time": "2020-11-16T22:17:37.010068Z",
     "start_time": "2020-11-16T22:17:36.945712Z"
    }
   },
   "outputs": [],
   "source": [
    "# for n in pathlib.Path(save_dir).glob('*'):\n",
    "#     n.rename(n.name.strip(\"'\"))"
   ]
  },
  {
   "cell_type": "code",
   "execution_count": null,
   "metadata": {},
   "outputs": [],
   "source": [
    "from seleniumrequests import Chrome"
   ]
  }
 ],
 "metadata": {
  "kernelspec": {
   "display_name": "Python 3",
   "language": "python",
   "name": "python3"
  },
  "language_info": {
   "codemirror_mode": {
    "name": "ipython",
    "version": 3
   },
   "file_extension": ".py",
   "mimetype": "text/x-python",
   "name": "python",
   "nbconvert_exporter": "python",
   "pygments_lexer": "ipython3",
   "version": "3.7.4"
  }
 },
 "nbformat": 4,
 "nbformat_minor": 4
}
