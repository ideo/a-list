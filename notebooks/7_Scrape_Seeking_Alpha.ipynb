{
 "cells": [
  {
   "cell_type": "markdown",
   "metadata": {},
   "source": [
    "# Scrape Seeking Alpha\n",
    "\n",
    "- Seeking Alpha compiles Earnings Call transcripts\n",
    "- scraping requires a seeking alpha account"
   ]
  },
  {
   "cell_type": "code",
   "execution_count": 48,
   "metadata": {
    "ExecuteTime": {
     "end_time": "2020-11-16T20:19:56.491986Z",
     "start_time": "2020-11-16T20:19:55.755515Z"
    }
   },
   "outputs": [
    {
     "name": "stdout",
     "output_type": "stream",
     "text": [
      "The autoreload extension is already loaded. To reload it, use:\n",
      "  %reload_ext autoreload\n"
     ]
    }
   ],
   "source": [
    "# Jupyter magic\n",
    "%load_ext autoreload\n",
    "%autoreload 2\n",
    "%matplotlib inline"
   ]
  },
  {
   "cell_type": "code",
   "execution_count": 49,
   "metadata": {
    "ExecuteTime": {
     "end_time": "2020-11-16T20:32:31.887524Z",
     "start_time": "2020-11-16T20:32:31.491105Z"
    }
   },
   "outputs": [],
   "source": [
    "# imports\n",
    "import requests\n",
    "from bs4 import BeautifulSoup\n",
    "import re\n",
    "import time\n",
    "import random\n",
    "import pandas as pd\n",
    "from seleniumrequests import Chrome\n",
    "import pathlib"
   ]
  },
  {
   "cell_type": "code",
   "execution_count": 50,
   "metadata": {
    "ExecuteTime": {
     "end_time": "2020-11-16T20:33:01.823878Z",
     "start_time": "2020-11-16T20:33:01.779861Z"
    }
   },
   "outputs": [
    {
     "data": {
      "text/plain": [
       "True"
      ]
     },
     "execution_count": 50,
     "metadata": {},
     "output_type": "execute_result"
    }
   ],
   "source": [
    "save_dir = \"../1_data/Seeking_Alpha\"\n",
    "# pathlib.Path(save_dir).mkdir()\n",
    "pathlib.Path(save_dir).exists()"
   ]
  },
  {
   "cell_type": "markdown",
   "metadata": {},
   "source": [
    "## Create index of URLs for earnings call transcripts"
   ]
  },
  {
   "cell_type": "markdown",
   "metadata": {
    "ExecuteTime": {
     "end_time": "2020-11-13T01:50:03.054600Z",
     "start_time": "2020-11-13T01:50:02.994293Z"
    }
   },
   "source": [
    "## Setup the Selenium Window for Querying\n",
    "\n",
    "This part requries downloading a driver for selenium. I used Chrome to get this running.\n"
   ]
  },
  {
   "cell_type": "code",
   "execution_count": 16,
   "metadata": {},
   "outputs": [
    {
     "name": "stdout",
     "output_type": "stream",
     "text": [
      "/Users/ahale/Projects/a-list/notebooks\n"
     ]
    }
   ],
   "source": [
    "!pwd"
   ]
  },
  {
   "cell_type": "code",
   "execution_count": 51,
   "metadata": {
    "ExecuteTime": {
     "end_time": "2020-11-13T16:53:33.890658Z",
     "start_time": "2020-11-13T16:53:29.853609Z"
    }
   },
   "outputs": [],
   "source": [
    "# Change this to where the chromedriver is in your environment\n",
    "path_to_chromedriver = '/Users/ahale/chromedriver'"
   ]
  },
  {
   "cell_type": "markdown",
   "metadata": {},
   "source": [
    "## pull the data and write a csv for an index"
   ]
  },
  {
   "cell_type": "code",
   "execution_count": 53,
   "metadata": {},
   "outputs": [],
   "source": [
    "# list_item_df = pd.DataFrame()"
   ]
  },
  {
   "cell_type": "code",
   "execution_count": 143,
   "metadata": {
    "collapsed": true,
    "jupyter": {
     "outputs_hidden": true
    }
   },
   "outputs": [
    {
     "data": {
      "text/plain": [
       "'https://seekingalpha.com/earnings/earnings-call-transcripts/1598'"
      ]
     },
     "metadata": {},
     "output_type": "display_data"
    },
    {
     "data": {
      "text/plain": [
       "'https://seekingalpha.com/earnings/earnings-call-transcripts/1599'"
      ]
     },
     "metadata": {},
     "output_type": "display_data"
    },
    {
     "data": {
      "text/plain": [
       "'https://seekingalpha.com/earnings/earnings-call-transcripts/1600'"
      ]
     },
     "metadata": {},
     "output_type": "display_data"
    },
    {
     "data": {
      "text/plain": [
       "'https://seekingalpha.com/earnings/earnings-call-transcripts/1601'"
      ]
     },
     "metadata": {},
     "output_type": "display_data"
    },
    {
     "data": {
      "text/plain": [
       "'https://seekingalpha.com/earnings/earnings-call-transcripts/1602'"
      ]
     },
     "metadata": {},
     "output_type": "display_data"
    },
    {
     "data": {
      "text/plain": [
       "'https://seekingalpha.com/earnings/earnings-call-transcripts/1603'"
      ]
     },
     "metadata": {},
     "output_type": "display_data"
    },
    {
     "data": {
      "text/plain": [
       "'https://seekingalpha.com/earnings/earnings-call-transcripts/1604'"
      ]
     },
     "metadata": {},
     "output_type": "display_data"
    },
    {
     "data": {
      "text/plain": [
       "'https://seekingalpha.com/earnings/earnings-call-transcripts/1605'"
      ]
     },
     "metadata": {},
     "output_type": "display_data"
    },
    {
     "data": {
      "text/plain": [
       "'https://seekingalpha.com/earnings/earnings-call-transcripts/1606'"
      ]
     },
     "metadata": {},
     "output_type": "display_data"
    },
    {
     "data": {
      "text/plain": [
       "'https://seekingalpha.com/earnings/earnings-call-transcripts/1607'"
      ]
     },
     "metadata": {},
     "output_type": "display_data"
    },
    {
     "data": {
      "text/plain": [
       "'https://seekingalpha.com/earnings/earnings-call-transcripts/1608'"
      ]
     },
     "metadata": {},
     "output_type": "display_data"
    },
    {
     "data": {
      "text/plain": [
       "'https://seekingalpha.com/earnings/earnings-call-transcripts/1609'"
      ]
     },
     "metadata": {},
     "output_type": "display_data"
    },
    {
     "data": {
      "text/plain": [
       "'https://seekingalpha.com/earnings/earnings-call-transcripts/1610'"
      ]
     },
     "metadata": {},
     "output_type": "display_data"
    },
    {
     "data": {
      "text/plain": [
       "'https://seekingalpha.com/earnings/earnings-call-transcripts/1611'"
      ]
     },
     "metadata": {},
     "output_type": "display_data"
    },
    {
     "data": {
      "text/plain": [
       "'https://seekingalpha.com/earnings/earnings-call-transcripts/1612'"
      ]
     },
     "metadata": {},
     "output_type": "display_data"
    },
    {
     "data": {
      "text/plain": [
       "'https://seekingalpha.com/earnings/earnings-call-transcripts/1613'"
      ]
     },
     "metadata": {},
     "output_type": "display_data"
    },
    {
     "data": {
      "text/plain": [
       "'https://seekingalpha.com/earnings/earnings-call-transcripts/1614'"
      ]
     },
     "metadata": {},
     "output_type": "display_data"
    },
    {
     "data": {
      "text/plain": [
       "'https://seekingalpha.com/earnings/earnings-call-transcripts/1615'"
      ]
     },
     "metadata": {},
     "output_type": "display_data"
    },
    {
     "data": {
      "text/plain": [
       "'https://seekingalpha.com/earnings/earnings-call-transcripts/1616'"
      ]
     },
     "metadata": {},
     "output_type": "display_data"
    },
    {
     "data": {
      "text/plain": [
       "'https://seekingalpha.com/earnings/earnings-call-transcripts/1617'"
      ]
     },
     "metadata": {},
     "output_type": "display_data"
    },
    {
     "data": {
      "text/plain": [
       "'https://seekingalpha.com/earnings/earnings-call-transcripts/1618'"
      ]
     },
     "metadata": {},
     "output_type": "display_data"
    },
    {
     "data": {
      "text/plain": [
       "'https://seekingalpha.com/earnings/earnings-call-transcripts/1619'"
      ]
     },
     "metadata": {},
     "output_type": "display_data"
    },
    {
     "data": {
      "text/plain": [
       "'https://seekingalpha.com/earnings/earnings-call-transcripts/1620'"
      ]
     },
     "metadata": {},
     "output_type": "display_data"
    },
    {
     "data": {
      "text/plain": [
       "'https://seekingalpha.com/earnings/earnings-call-transcripts/1621'"
      ]
     },
     "metadata": {},
     "output_type": "display_data"
    },
    {
     "data": {
      "text/plain": [
       "'https://seekingalpha.com/earnings/earnings-call-transcripts/1622'"
      ]
     },
     "metadata": {},
     "output_type": "display_data"
    },
    {
     "data": {
      "text/plain": [
       "'https://seekingalpha.com/earnings/earnings-call-transcripts/1623'"
      ]
     },
     "metadata": {},
     "output_type": "display_data"
    },
    {
     "data": {
      "text/plain": [
       "'https://seekingalpha.com/earnings/earnings-call-transcripts/1624'"
      ]
     },
     "metadata": {},
     "output_type": "display_data"
    },
    {
     "data": {
      "text/plain": [
       "'https://seekingalpha.com/earnings/earnings-call-transcripts/1625'"
      ]
     },
     "metadata": {},
     "output_type": "display_data"
    },
    {
     "data": {
      "text/plain": [
       "'https://seekingalpha.com/earnings/earnings-call-transcripts/1626'"
      ]
     },
     "metadata": {},
     "output_type": "display_data"
    },
    {
     "data": {
      "text/plain": [
       "'https://seekingalpha.com/earnings/earnings-call-transcripts/1627'"
      ]
     },
     "metadata": {},
     "output_type": "display_data"
    },
    {
     "data": {
      "text/plain": [
       "'https://seekingalpha.com/earnings/earnings-call-transcripts/1628'"
      ]
     },
     "metadata": {},
     "output_type": "display_data"
    },
    {
     "data": {
      "text/plain": [
       "'https://seekingalpha.com/earnings/earnings-call-transcripts/1629'"
      ]
     },
     "metadata": {},
     "output_type": "display_data"
    },
    {
     "data": {
      "text/plain": [
       "'https://seekingalpha.com/earnings/earnings-call-transcripts/1630'"
      ]
     },
     "metadata": {},
     "output_type": "display_data"
    },
    {
     "data": {
      "text/plain": [
       "'https://seekingalpha.com/earnings/earnings-call-transcripts/1631'"
      ]
     },
     "metadata": {},
     "output_type": "display_data"
    },
    {
     "data": {
      "text/plain": [
       "'https://seekingalpha.com/earnings/earnings-call-transcripts/1632'"
      ]
     },
     "metadata": {},
     "output_type": "display_data"
    },
    {
     "data": {
      "text/plain": [
       "'https://seekingalpha.com/earnings/earnings-call-transcripts/1633'"
      ]
     },
     "metadata": {},
     "output_type": "display_data"
    },
    {
     "data": {
      "text/plain": [
       "'https://seekingalpha.com/earnings/earnings-call-transcripts/1634'"
      ]
     },
     "metadata": {},
     "output_type": "display_data"
    },
    {
     "data": {
      "text/plain": [
       "'https://seekingalpha.com/earnings/earnings-call-transcripts/1635'"
      ]
     },
     "metadata": {},
     "output_type": "display_data"
    },
    {
     "data": {
      "text/plain": [
       "'https://seekingalpha.com/earnings/earnings-call-transcripts/1636'"
      ]
     },
     "metadata": {},
     "output_type": "display_data"
    },
    {
     "data": {
      "text/plain": [
       "'https://seekingalpha.com/earnings/earnings-call-transcripts/1637'"
      ]
     },
     "metadata": {},
     "output_type": "display_data"
    },
    {
     "data": {
      "text/plain": [
       "'https://seekingalpha.com/earnings/earnings-call-transcripts/1638'"
      ]
     },
     "metadata": {},
     "output_type": "display_data"
    },
    {
     "data": {
      "text/plain": [
       "'https://seekingalpha.com/earnings/earnings-call-transcripts/1639'"
      ]
     },
     "metadata": {},
     "output_type": "display_data"
    },
    {
     "data": {
      "text/plain": [
       "'https://seekingalpha.com/earnings/earnings-call-transcripts/1640'"
      ]
     },
     "metadata": {},
     "output_type": "display_data"
    },
    {
     "data": {
      "text/plain": [
       "'https://seekingalpha.com/earnings/earnings-call-transcripts/1641'"
      ]
     },
     "metadata": {},
     "output_type": "display_data"
    },
    {
     "data": {
      "text/plain": [
       "'https://seekingalpha.com/earnings/earnings-call-transcripts/1642'"
      ]
     },
     "metadata": {},
     "output_type": "display_data"
    },
    {
     "data": {
      "text/plain": [
       "'https://seekingalpha.com/earnings/earnings-call-transcripts/1643'"
      ]
     },
     "metadata": {},
     "output_type": "display_data"
    },
    {
     "data": {
      "text/plain": [
       "'https://seekingalpha.com/earnings/earnings-call-transcripts/1644'"
      ]
     },
     "metadata": {},
     "output_type": "display_data"
    },
    {
     "data": {
      "text/plain": [
       "'https://seekingalpha.com/earnings/earnings-call-transcripts/1645'"
      ]
     },
     "metadata": {},
     "output_type": "display_data"
    },
    {
     "data": {
      "text/plain": [
       "'https://seekingalpha.com/earnings/earnings-call-transcripts/1646'"
      ]
     },
     "metadata": {},
     "output_type": "display_data"
    },
    {
     "data": {
      "text/plain": [
       "'https://seekingalpha.com/earnings/earnings-call-transcripts/1647'"
      ]
     },
     "metadata": {},
     "output_type": "display_data"
    },
    {
     "data": {
      "text/plain": [
       "'https://seekingalpha.com/earnings/earnings-call-transcripts/1648'"
      ]
     },
     "metadata": {},
     "output_type": "display_data"
    },
    {
     "data": {
      "text/plain": [
       "'https://seekingalpha.com/earnings/earnings-call-transcripts/1649'"
      ]
     },
     "metadata": {},
     "output_type": "display_data"
    },
    {
     "data": {
      "text/plain": [
       "'https://seekingalpha.com/earnings/earnings-call-transcripts/1650'"
      ]
     },
     "metadata": {},
     "output_type": "display_data"
    },
    {
     "data": {
      "text/plain": [
       "'https://seekingalpha.com/earnings/earnings-call-transcripts/1651'"
      ]
     },
     "metadata": {},
     "output_type": "display_data"
    },
    {
     "data": {
      "text/plain": [
       "'https://seekingalpha.com/earnings/earnings-call-transcripts/1652'"
      ]
     },
     "metadata": {},
     "output_type": "display_data"
    },
    {
     "data": {
      "text/plain": [
       "'https://seekingalpha.com/earnings/earnings-call-transcripts/1653'"
      ]
     },
     "metadata": {},
     "output_type": "display_data"
    },
    {
     "data": {
      "text/plain": [
       "'https://seekingalpha.com/earnings/earnings-call-transcripts/1654'"
      ]
     },
     "metadata": {},
     "output_type": "display_data"
    },
    {
     "data": {
      "text/plain": [
       "'https://seekingalpha.com/earnings/earnings-call-transcripts/1655'"
      ]
     },
     "metadata": {},
     "output_type": "display_data"
    },
    {
     "data": {
      "text/plain": [
       "'https://seekingalpha.com/earnings/earnings-call-transcripts/1656'"
      ]
     },
     "metadata": {},
     "output_type": "display_data"
    },
    {
     "data": {
      "text/plain": [
       "'https://seekingalpha.com/earnings/earnings-call-transcripts/1657'"
      ]
     },
     "metadata": {},
     "output_type": "display_data"
    },
    {
     "data": {
      "text/plain": [
       "'https://seekingalpha.com/earnings/earnings-call-transcripts/1658'"
      ]
     },
     "metadata": {},
     "output_type": "display_data"
    },
    {
     "data": {
      "text/plain": [
       "'https://seekingalpha.com/earnings/earnings-call-transcripts/1659'"
      ]
     },
     "metadata": {},
     "output_type": "display_data"
    },
    {
     "data": {
      "text/plain": [
       "'https://seekingalpha.com/earnings/earnings-call-transcripts/1660'"
      ]
     },
     "metadata": {},
     "output_type": "display_data"
    },
    {
     "data": {
      "text/plain": [
       "'https://seekingalpha.com/earnings/earnings-call-transcripts/1661'"
      ]
     },
     "metadata": {},
     "output_type": "display_data"
    },
    {
     "data": {
      "text/plain": [
       "'https://seekingalpha.com/earnings/earnings-call-transcripts/1662'"
      ]
     },
     "metadata": {},
     "output_type": "display_data"
    },
    {
     "data": {
      "text/plain": [
       "'https://seekingalpha.com/earnings/earnings-call-transcripts/1663'"
      ]
     },
     "metadata": {},
     "output_type": "display_data"
    },
    {
     "data": {
      "text/plain": [
       "'https://seekingalpha.com/earnings/earnings-call-transcripts/1664'"
      ]
     },
     "metadata": {},
     "output_type": "display_data"
    },
    {
     "data": {
      "text/plain": [
       "'https://seekingalpha.com/earnings/earnings-call-transcripts/1665'"
      ]
     },
     "metadata": {},
     "output_type": "display_data"
    },
    {
     "data": {
      "text/plain": [
       "'https://seekingalpha.com/earnings/earnings-call-transcripts/1666'"
      ]
     },
     "metadata": {},
     "output_type": "display_data"
    },
    {
     "data": {
      "text/plain": [
       "'https://seekingalpha.com/earnings/earnings-call-transcripts/1667'"
      ]
     },
     "metadata": {},
     "output_type": "display_data"
    },
    {
     "data": {
      "text/plain": [
       "'https://seekingalpha.com/earnings/earnings-call-transcripts/1668'"
      ]
     },
     "metadata": {},
     "output_type": "display_data"
    },
    {
     "data": {
      "text/plain": [
       "'https://seekingalpha.com/earnings/earnings-call-transcripts/1669'"
      ]
     },
     "metadata": {},
     "output_type": "display_data"
    },
    {
     "data": {
      "text/plain": [
       "'https://seekingalpha.com/earnings/earnings-call-transcripts/1670'"
      ]
     },
     "metadata": {},
     "output_type": "display_data"
    },
    {
     "data": {
      "text/plain": [
       "'https://seekingalpha.com/earnings/earnings-call-transcripts/1671'"
      ]
     },
     "metadata": {},
     "output_type": "display_data"
    },
    {
     "data": {
      "text/plain": [
       "'https://seekingalpha.com/earnings/earnings-call-transcripts/1672'"
      ]
     },
     "metadata": {},
     "output_type": "display_data"
    },
    {
     "data": {
      "text/plain": [
       "'https://seekingalpha.com/earnings/earnings-call-transcripts/1673'"
      ]
     },
     "metadata": {},
     "output_type": "display_data"
    },
    {
     "data": {
      "text/plain": [
       "'https://seekingalpha.com/earnings/earnings-call-transcripts/1674'"
      ]
     },
     "metadata": {},
     "output_type": "display_data"
    },
    {
     "data": {
      "text/plain": [
       "'https://seekingalpha.com/earnings/earnings-call-transcripts/1675'"
      ]
     },
     "metadata": {},
     "output_type": "display_data"
    },
    {
     "data": {
      "text/plain": [
       "'https://seekingalpha.com/earnings/earnings-call-transcripts/1676'"
      ]
     },
     "metadata": {},
     "output_type": "display_data"
    },
    {
     "data": {
      "text/plain": [
       "'https://seekingalpha.com/earnings/earnings-call-transcripts/1677'"
      ]
     },
     "metadata": {},
     "output_type": "display_data"
    },
    {
     "data": {
      "text/plain": [
       "'https://seekingalpha.com/earnings/earnings-call-transcripts/1678'"
      ]
     },
     "metadata": {},
     "output_type": "display_data"
    },
    {
     "data": {
      "text/plain": [
       "'https://seekingalpha.com/earnings/earnings-call-transcripts/1679'"
      ]
     },
     "metadata": {},
     "output_type": "display_data"
    },
    {
     "data": {
      "text/plain": [
       "'https://seekingalpha.com/earnings/earnings-call-transcripts/1680'"
      ]
     },
     "metadata": {},
     "output_type": "display_data"
    },
    {
     "data": {
      "text/plain": [
       "'https://seekingalpha.com/earnings/earnings-call-transcripts/1681'"
      ]
     },
     "metadata": {},
     "output_type": "display_data"
    },
    {
     "data": {
      "text/plain": [
       "'https://seekingalpha.com/earnings/earnings-call-transcripts/1682'"
      ]
     },
     "metadata": {},
     "output_type": "display_data"
    },
    {
     "data": {
      "text/plain": [
       "'https://seekingalpha.com/earnings/earnings-call-transcripts/1683'"
      ]
     },
     "metadata": {},
     "output_type": "display_data"
    },
    {
     "data": {
      "text/plain": [
       "'https://seekingalpha.com/earnings/earnings-call-transcripts/1684'"
      ]
     },
     "metadata": {},
     "output_type": "display_data"
    },
    {
     "data": {
      "text/plain": [
       "'https://seekingalpha.com/earnings/earnings-call-transcripts/1685'"
      ]
     },
     "metadata": {},
     "output_type": "display_data"
    },
    {
     "data": {
      "text/plain": [
       "'https://seekingalpha.com/earnings/earnings-call-transcripts/1686'"
      ]
     },
     "metadata": {},
     "output_type": "display_data"
    },
    {
     "data": {
      "text/plain": [
       "'https://seekingalpha.com/earnings/earnings-call-transcripts/1687'"
      ]
     },
     "metadata": {},
     "output_type": "display_data"
    },
    {
     "data": {
      "text/plain": [
       "'https://seekingalpha.com/earnings/earnings-call-transcripts/1688'"
      ]
     },
     "metadata": {},
     "output_type": "display_data"
    },
    {
     "data": {
      "text/plain": [
       "'https://seekingalpha.com/earnings/earnings-call-transcripts/1689'"
      ]
     },
     "metadata": {},
     "output_type": "display_data"
    },
    {
     "data": {
      "text/plain": [
       "'https://seekingalpha.com/earnings/earnings-call-transcripts/1690'"
      ]
     },
     "metadata": {},
     "output_type": "display_data"
    },
    {
     "data": {
      "text/plain": [
       "'https://seekingalpha.com/earnings/earnings-call-transcripts/1691'"
      ]
     },
     "metadata": {},
     "output_type": "display_data"
    },
    {
     "data": {
      "text/plain": [
       "'https://seekingalpha.com/earnings/earnings-call-transcripts/1692'"
      ]
     },
     "metadata": {},
     "output_type": "display_data"
    },
    {
     "data": {
      "text/plain": [
       "'https://seekingalpha.com/earnings/earnings-call-transcripts/1693'"
      ]
     },
     "metadata": {},
     "output_type": "display_data"
    },
    {
     "data": {
      "text/plain": [
       "'https://seekingalpha.com/earnings/earnings-call-transcripts/1694'"
      ]
     },
     "metadata": {},
     "output_type": "display_data"
    },
    {
     "data": {
      "text/plain": [
       "'https://seekingalpha.com/earnings/earnings-call-transcripts/1695'"
      ]
     },
     "metadata": {},
     "output_type": "display_data"
    },
    {
     "data": {
      "text/plain": [
       "'https://seekingalpha.com/earnings/earnings-call-transcripts/1696'"
      ]
     },
     "metadata": {},
     "output_type": "display_data"
    },
    {
     "data": {
      "text/plain": [
       "'https://seekingalpha.com/earnings/earnings-call-transcripts/1697'"
      ]
     },
     "metadata": {},
     "output_type": "display_data"
    },
    {
     "data": {
      "text/plain": [
       "'https://seekingalpha.com/earnings/earnings-call-transcripts/1698'"
      ]
     },
     "metadata": {},
     "output_type": "display_data"
    },
    {
     "data": {
      "text/plain": [
       "'https://seekingalpha.com/earnings/earnings-call-transcripts/1699'"
      ]
     },
     "metadata": {},
     "output_type": "display_data"
    },
    {
     "data": {
      "text/plain": [
       "'https://seekingalpha.com/earnings/earnings-call-transcripts/1700'"
      ]
     },
     "metadata": {},
     "output_type": "display_data"
    },
    {
     "data": {
      "text/plain": [
       "'https://seekingalpha.com/earnings/earnings-call-transcripts/1701'"
      ]
     },
     "metadata": {},
     "output_type": "display_data"
    },
    {
     "data": {
      "text/plain": [
       "'https://seekingalpha.com/earnings/earnings-call-transcripts/1702'"
      ]
     },
     "metadata": {},
     "output_type": "display_data"
    },
    {
     "data": {
      "text/plain": [
       "'https://seekingalpha.com/earnings/earnings-call-transcripts/1703'"
      ]
     },
     "metadata": {},
     "output_type": "display_data"
    },
    {
     "data": {
      "text/plain": [
       "'https://seekingalpha.com/earnings/earnings-call-transcripts/1704'"
      ]
     },
     "metadata": {},
     "output_type": "display_data"
    },
    {
     "data": {
      "text/plain": [
       "'https://seekingalpha.com/earnings/earnings-call-transcripts/1705'"
      ]
     },
     "metadata": {},
     "output_type": "display_data"
    },
    {
     "data": {
      "text/plain": [
       "'https://seekingalpha.com/earnings/earnings-call-transcripts/1706'"
      ]
     },
     "metadata": {},
     "output_type": "display_data"
    },
    {
     "data": {
      "text/plain": [
       "'https://seekingalpha.com/earnings/earnings-call-transcripts/1707'"
      ]
     },
     "metadata": {},
     "output_type": "display_data"
    },
    {
     "data": {
      "text/plain": [
       "'https://seekingalpha.com/earnings/earnings-call-transcripts/1708'"
      ]
     },
     "metadata": {},
     "output_type": "display_data"
    },
    {
     "data": {
      "text/plain": [
       "'https://seekingalpha.com/earnings/earnings-call-transcripts/1709'"
      ]
     },
     "metadata": {},
     "output_type": "display_data"
    },
    {
     "data": {
      "text/plain": [
       "'https://seekingalpha.com/earnings/earnings-call-transcripts/1710'"
      ]
     },
     "metadata": {},
     "output_type": "display_data"
    },
    {
     "data": {
      "text/plain": [
       "'https://seekingalpha.com/earnings/earnings-call-transcripts/1711'"
      ]
     },
     "metadata": {},
     "output_type": "display_data"
    },
    {
     "data": {
      "text/plain": [
       "'https://seekingalpha.com/earnings/earnings-call-transcripts/1712'"
      ]
     },
     "metadata": {},
     "output_type": "display_data"
    },
    {
     "data": {
      "text/plain": [
       "'https://seekingalpha.com/earnings/earnings-call-transcripts/1713'"
      ]
     },
     "metadata": {},
     "output_type": "display_data"
    },
    {
     "data": {
      "text/plain": [
       "'https://seekingalpha.com/earnings/earnings-call-transcripts/1714'"
      ]
     },
     "metadata": {},
     "output_type": "display_data"
    },
    {
     "data": {
      "text/plain": [
       "'https://seekingalpha.com/earnings/earnings-call-transcripts/1715'"
      ]
     },
     "metadata": {},
     "output_type": "display_data"
    },
    {
     "data": {
      "text/plain": [
       "'https://seekingalpha.com/earnings/earnings-call-transcripts/1716'"
      ]
     },
     "metadata": {},
     "output_type": "display_data"
    },
    {
     "data": {
      "text/plain": [
       "'https://seekingalpha.com/earnings/earnings-call-transcripts/1717'"
      ]
     },
     "metadata": {},
     "output_type": "display_data"
    },
    {
     "data": {
      "text/plain": [
       "'https://seekingalpha.com/earnings/earnings-call-transcripts/1718'"
      ]
     },
     "metadata": {},
     "output_type": "display_data"
    },
    {
     "data": {
      "text/plain": [
       "'https://seekingalpha.com/earnings/earnings-call-transcripts/1719'"
      ]
     },
     "metadata": {},
     "output_type": "display_data"
    },
    {
     "data": {
      "text/plain": [
       "'https://seekingalpha.com/earnings/earnings-call-transcripts/1720'"
      ]
     },
     "metadata": {},
     "output_type": "display_data"
    },
    {
     "data": {
      "text/plain": [
       "'https://seekingalpha.com/earnings/earnings-call-transcripts/1721'"
      ]
     },
     "metadata": {},
     "output_type": "display_data"
    },
    {
     "data": {
      "text/plain": [
       "'https://seekingalpha.com/earnings/earnings-call-transcripts/1722'"
      ]
     },
     "metadata": {},
     "output_type": "display_data"
    },
    {
     "data": {
      "text/plain": [
       "'https://seekingalpha.com/earnings/earnings-call-transcripts/1723'"
      ]
     },
     "metadata": {},
     "output_type": "display_data"
    },
    {
     "data": {
      "text/plain": [
       "'https://seekingalpha.com/earnings/earnings-call-transcripts/1724'"
      ]
     },
     "metadata": {},
     "output_type": "display_data"
    },
    {
     "data": {
      "text/plain": [
       "'https://seekingalpha.com/earnings/earnings-call-transcripts/1725'"
      ]
     },
     "metadata": {},
     "output_type": "display_data"
    },
    {
     "data": {
      "text/plain": [
       "'https://seekingalpha.com/earnings/earnings-call-transcripts/1726'"
      ]
     },
     "metadata": {},
     "output_type": "display_data"
    },
    {
     "data": {
      "text/plain": [
       "'https://seekingalpha.com/earnings/earnings-call-transcripts/1727'"
      ]
     },
     "metadata": {},
     "output_type": "display_data"
    },
    {
     "data": {
      "text/plain": [
       "'https://seekingalpha.com/earnings/earnings-call-transcripts/1728'"
      ]
     },
     "metadata": {},
     "output_type": "display_data"
    },
    {
     "data": {
      "text/plain": [
       "'https://seekingalpha.com/earnings/earnings-call-transcripts/1729'"
      ]
     },
     "metadata": {},
     "output_type": "display_data"
    },
    {
     "data": {
      "text/plain": [
       "'https://seekingalpha.com/earnings/earnings-call-transcripts/1730'"
      ]
     },
     "metadata": {},
     "output_type": "display_data"
    },
    {
     "data": {
      "text/plain": [
       "'https://seekingalpha.com/earnings/earnings-call-transcripts/1731'"
      ]
     },
     "metadata": {},
     "output_type": "display_data"
    },
    {
     "data": {
      "text/plain": [
       "'https://seekingalpha.com/earnings/earnings-call-transcripts/1732'"
      ]
     },
     "metadata": {},
     "output_type": "display_data"
    },
    {
     "data": {
      "text/plain": [
       "'https://seekingalpha.com/earnings/earnings-call-transcripts/1733'"
      ]
     },
     "metadata": {},
     "output_type": "display_data"
    },
    {
     "data": {
      "text/plain": [
       "'https://seekingalpha.com/earnings/earnings-call-transcripts/1734'"
      ]
     },
     "metadata": {},
     "output_type": "display_data"
    },
    {
     "data": {
      "text/plain": [
       "'https://seekingalpha.com/earnings/earnings-call-transcripts/1735'"
      ]
     },
     "metadata": {},
     "output_type": "display_data"
    },
    {
     "data": {
      "text/plain": [
       "'https://seekingalpha.com/earnings/earnings-call-transcripts/1736'"
      ]
     },
     "metadata": {},
     "output_type": "display_data"
    },
    {
     "data": {
      "text/plain": [
       "'https://seekingalpha.com/earnings/earnings-call-transcripts/1737'"
      ]
     },
     "metadata": {},
     "output_type": "display_data"
    },
    {
     "data": {
      "text/plain": [
       "'https://seekingalpha.com/earnings/earnings-call-transcripts/1738'"
      ]
     },
     "metadata": {},
     "output_type": "display_data"
    },
    {
     "data": {
      "text/plain": [
       "'https://seekingalpha.com/earnings/earnings-call-transcripts/1739'"
      ]
     },
     "metadata": {},
     "output_type": "display_data"
    },
    {
     "data": {
      "text/plain": [
       "'https://seekingalpha.com/earnings/earnings-call-transcripts/1740'"
      ]
     },
     "metadata": {},
     "output_type": "display_data"
    },
    {
     "data": {
      "text/plain": [
       "'https://seekingalpha.com/earnings/earnings-call-transcripts/1741'"
      ]
     },
     "metadata": {},
     "output_type": "display_data"
    },
    {
     "data": {
      "text/plain": [
       "'https://seekingalpha.com/earnings/earnings-call-transcripts/1742'"
      ]
     },
     "metadata": {},
     "output_type": "display_data"
    },
    {
     "data": {
      "text/plain": [
       "'https://seekingalpha.com/earnings/earnings-call-transcripts/1743'"
      ]
     },
     "metadata": {},
     "output_type": "display_data"
    },
    {
     "data": {
      "text/plain": [
       "'https://seekingalpha.com/earnings/earnings-call-transcripts/1744'"
      ]
     },
     "metadata": {},
     "output_type": "display_data"
    },
    {
     "data": {
      "text/plain": [
       "'https://seekingalpha.com/earnings/earnings-call-transcripts/1745'"
      ]
     },
     "metadata": {},
     "output_type": "display_data"
    },
    {
     "data": {
      "text/plain": [
       "'https://seekingalpha.com/earnings/earnings-call-transcripts/1746'"
      ]
     },
     "metadata": {},
     "output_type": "display_data"
    },
    {
     "data": {
      "text/plain": [
       "'https://seekingalpha.com/earnings/earnings-call-transcripts/1747'"
      ]
     },
     "metadata": {},
     "output_type": "display_data"
    },
    {
     "data": {
      "text/plain": [
       "'https://seekingalpha.com/earnings/earnings-call-transcripts/1748'"
      ]
     },
     "metadata": {},
     "output_type": "display_data"
    },
    {
     "data": {
      "text/plain": [
       "'https://seekingalpha.com/earnings/earnings-call-transcripts/1749'"
      ]
     },
     "metadata": {},
     "output_type": "display_data"
    },
    {
     "data": {
      "text/plain": [
       "'https://seekingalpha.com/earnings/earnings-call-transcripts/1750'"
      ]
     },
     "metadata": {},
     "output_type": "display_data"
    },
    {
     "data": {
      "text/plain": [
       "'https://seekingalpha.com/earnings/earnings-call-transcripts/1751'"
      ]
     },
     "metadata": {},
     "output_type": "display_data"
    },
    {
     "data": {
      "text/plain": [
       "'https://seekingalpha.com/earnings/earnings-call-transcripts/1752'"
      ]
     },
     "metadata": {},
     "output_type": "display_data"
    },
    {
     "data": {
      "text/plain": [
       "'https://seekingalpha.com/earnings/earnings-call-transcripts/1753'"
      ]
     },
     "metadata": {},
     "output_type": "display_data"
    },
    {
     "data": {
      "text/plain": [
       "'https://seekingalpha.com/earnings/earnings-call-transcripts/1754'"
      ]
     },
     "metadata": {},
     "output_type": "display_data"
    },
    {
     "data": {
      "text/plain": [
       "'https://seekingalpha.com/earnings/earnings-call-transcripts/1755'"
      ]
     },
     "metadata": {},
     "output_type": "display_data"
    },
    {
     "data": {
      "text/plain": [
       "'https://seekingalpha.com/earnings/earnings-call-transcripts/1756'"
      ]
     },
     "metadata": {},
     "output_type": "display_data"
    },
    {
     "data": {
      "text/plain": [
       "'https://seekingalpha.com/earnings/earnings-call-transcripts/1757'"
      ]
     },
     "metadata": {},
     "output_type": "display_data"
    },
    {
     "data": {
      "text/plain": [
       "'https://seekingalpha.com/earnings/earnings-call-transcripts/1758'"
      ]
     },
     "metadata": {},
     "output_type": "display_data"
    },
    {
     "data": {
      "text/plain": [
       "'https://seekingalpha.com/earnings/earnings-call-transcripts/1759'"
      ]
     },
     "metadata": {},
     "output_type": "display_data"
    },
    {
     "data": {
      "text/plain": [
       "'https://seekingalpha.com/earnings/earnings-call-transcripts/1760'"
      ]
     },
     "metadata": {},
     "output_type": "display_data"
    },
    {
     "data": {
      "text/plain": [
       "'https://seekingalpha.com/earnings/earnings-call-transcripts/1761'"
      ]
     },
     "metadata": {},
     "output_type": "display_data"
    },
    {
     "data": {
      "text/plain": [
       "'https://seekingalpha.com/earnings/earnings-call-transcripts/1762'"
      ]
     },
     "metadata": {},
     "output_type": "display_data"
    },
    {
     "data": {
      "text/plain": [
       "'https://seekingalpha.com/earnings/earnings-call-transcripts/1763'"
      ]
     },
     "metadata": {},
     "output_type": "display_data"
    },
    {
     "data": {
      "text/plain": [
       "'https://seekingalpha.com/earnings/earnings-call-transcripts/1764'"
      ]
     },
     "metadata": {},
     "output_type": "display_data"
    },
    {
     "data": {
      "text/plain": [
       "'https://seekingalpha.com/earnings/earnings-call-transcripts/1765'"
      ]
     },
     "metadata": {},
     "output_type": "display_data"
    },
    {
     "data": {
      "text/plain": [
       "'https://seekingalpha.com/earnings/earnings-call-transcripts/1766'"
      ]
     },
     "metadata": {},
     "output_type": "display_data"
    },
    {
     "data": {
      "text/plain": [
       "'https://seekingalpha.com/earnings/earnings-call-transcripts/1767'"
      ]
     },
     "metadata": {},
     "output_type": "display_data"
    },
    {
     "data": {
      "text/plain": [
       "'https://seekingalpha.com/earnings/earnings-call-transcripts/1768'"
      ]
     },
     "metadata": {},
     "output_type": "display_data"
    },
    {
     "data": {
      "text/plain": [
       "'https://seekingalpha.com/earnings/earnings-call-transcripts/1769'"
      ]
     },
     "metadata": {},
     "output_type": "display_data"
    },
    {
     "data": {
      "text/plain": [
       "'https://seekingalpha.com/earnings/earnings-call-transcripts/1770'"
      ]
     },
     "metadata": {},
     "output_type": "display_data"
    },
    {
     "data": {
      "text/plain": [
       "'https://seekingalpha.com/earnings/earnings-call-transcripts/1771'"
      ]
     },
     "metadata": {},
     "output_type": "display_data"
    },
    {
     "data": {
      "text/plain": [
       "'https://seekingalpha.com/earnings/earnings-call-transcripts/1772'"
      ]
     },
     "metadata": {},
     "output_type": "display_data"
    },
    {
     "data": {
      "text/plain": [
       "'https://seekingalpha.com/earnings/earnings-call-transcripts/1773'"
      ]
     },
     "metadata": {},
     "output_type": "display_data"
    },
    {
     "data": {
      "text/plain": [
       "'https://seekingalpha.com/earnings/earnings-call-transcripts/1774'"
      ]
     },
     "metadata": {},
     "output_type": "display_data"
    },
    {
     "data": {
      "text/plain": [
       "'https://seekingalpha.com/earnings/earnings-call-transcripts/1775'"
      ]
     },
     "metadata": {},
     "output_type": "display_data"
    },
    {
     "data": {
      "text/plain": [
       "'https://seekingalpha.com/earnings/earnings-call-transcripts/1776'"
      ]
     },
     "metadata": {},
     "output_type": "display_data"
    },
    {
     "data": {
      "text/plain": [
       "'https://seekingalpha.com/earnings/earnings-call-transcripts/1777'"
      ]
     },
     "metadata": {},
     "output_type": "display_data"
    },
    {
     "data": {
      "text/plain": [
       "'https://seekingalpha.com/earnings/earnings-call-transcripts/1778'"
      ]
     },
     "metadata": {},
     "output_type": "display_data"
    },
    {
     "data": {
      "text/plain": [
       "'https://seekingalpha.com/earnings/earnings-call-transcripts/1779'"
      ]
     },
     "metadata": {},
     "output_type": "display_data"
    },
    {
     "data": {
      "text/plain": [
       "'https://seekingalpha.com/earnings/earnings-call-transcripts/1780'"
      ]
     },
     "metadata": {},
     "output_type": "display_data"
    },
    {
     "data": {
      "text/plain": [
       "'https://seekingalpha.com/earnings/earnings-call-transcripts/1781'"
      ]
     },
     "metadata": {},
     "output_type": "display_data"
    },
    {
     "data": {
      "text/plain": [
       "'https://seekingalpha.com/earnings/earnings-call-transcripts/1782'"
      ]
     },
     "metadata": {},
     "output_type": "display_data"
    },
    {
     "data": {
      "text/plain": [
       "'https://seekingalpha.com/earnings/earnings-call-transcripts/1783'"
      ]
     },
     "metadata": {},
     "output_type": "display_data"
    },
    {
     "data": {
      "text/plain": [
       "'https://seekingalpha.com/earnings/earnings-call-transcripts/1784'"
      ]
     },
     "metadata": {},
     "output_type": "display_data"
    },
    {
     "data": {
      "text/plain": [
       "'https://seekingalpha.com/earnings/earnings-call-transcripts/1785'"
      ]
     },
     "metadata": {},
     "output_type": "display_data"
    },
    {
     "data": {
      "text/plain": [
       "'https://seekingalpha.com/earnings/earnings-call-transcripts/1786'"
      ]
     },
     "metadata": {},
     "output_type": "display_data"
    },
    {
     "data": {
      "text/plain": [
       "'https://seekingalpha.com/earnings/earnings-call-transcripts/1787'"
      ]
     },
     "metadata": {},
     "output_type": "display_data"
    },
    {
     "data": {
      "text/plain": [
       "'https://seekingalpha.com/earnings/earnings-call-transcripts/1788'"
      ]
     },
     "metadata": {},
     "output_type": "display_data"
    },
    {
     "data": {
      "text/plain": [
       "'https://seekingalpha.com/earnings/earnings-call-transcripts/1789'"
      ]
     },
     "metadata": {},
     "output_type": "display_data"
    },
    {
     "data": {
      "text/plain": [
       "'https://seekingalpha.com/earnings/earnings-call-transcripts/1790'"
      ]
     },
     "metadata": {},
     "output_type": "display_data"
    },
    {
     "data": {
      "text/plain": [
       "'https://seekingalpha.com/earnings/earnings-call-transcripts/1791'"
      ]
     },
     "metadata": {},
     "output_type": "display_data"
    },
    {
     "data": {
      "text/plain": [
       "'https://seekingalpha.com/earnings/earnings-call-transcripts/1792'"
      ]
     },
     "metadata": {},
     "output_type": "display_data"
    },
    {
     "data": {
      "text/plain": [
       "'https://seekingalpha.com/earnings/earnings-call-transcripts/1793'"
      ]
     },
     "metadata": {},
     "output_type": "display_data"
    },
    {
     "data": {
      "text/plain": [
       "'https://seekingalpha.com/earnings/earnings-call-transcripts/1794'"
      ]
     },
     "metadata": {},
     "output_type": "display_data"
    },
    {
     "data": {
      "text/plain": [
       "'https://seekingalpha.com/earnings/earnings-call-transcripts/1795'"
      ]
     },
     "metadata": {},
     "output_type": "display_data"
    },
    {
     "data": {
      "text/plain": [
       "'https://seekingalpha.com/earnings/earnings-call-transcripts/1796'"
      ]
     },
     "metadata": {},
     "output_type": "display_data"
    },
    {
     "data": {
      "text/plain": [
       "'https://seekingalpha.com/earnings/earnings-call-transcripts/1797'"
      ]
     },
     "metadata": {},
     "output_type": "display_data"
    },
    {
     "data": {
      "text/plain": [
       "'https://seekingalpha.com/earnings/earnings-call-transcripts/1798'"
      ]
     },
     "metadata": {},
     "output_type": "display_data"
    },
    {
     "data": {
      "text/plain": [
       "'https://seekingalpha.com/earnings/earnings-call-transcripts/1799'"
      ]
     },
     "metadata": {},
     "output_type": "display_data"
    },
    {
     "data": {
      "text/html": [
       "<div>\n",
       "<style scoped>\n",
       "    .dataframe tbody tr th:only-of-type {\n",
       "        vertical-align: middle;\n",
       "    }\n",
       "\n",
       "    .dataframe tbody tr th {\n",
       "        vertical-align: top;\n",
       "    }\n",
       "\n",
       "    .dataframe thead th {\n",
       "        text-align: right;\n",
       "    }\n",
       "</style>\n",
       "<table border=\"1\" class=\"dataframe\">\n",
       "  <thead>\n",
       "    <tr style=\"text-align: right;\">\n",
       "      <th></th>\n",
       "      <th>date</th>\n",
       "      <th>org</th>\n",
       "      <th>title</th>\n",
       "      <th>url</th>\n",
       "    </tr>\n",
       "  </thead>\n",
       "  <tbody>\n",
       "    <tr>\n",
       "      <th>0</th>\n",
       "      <td>Fri, Nov. 20, 10:32 PM</td>\n",
       "      <td>Helmerich &amp; Payne, Inc.</td>\n",
       "      <td>Helmerich &amp; Payne, Inc. (HP) CEO John Lindsay ...</td>\n",
       "      <td>https://seekingalpha.com/article/4390777-helme...</td>\n",
       "    </tr>\n",
       "    <tr>\n",
       "      <th>1</th>\n",
       "      <td>Fri, Nov. 20,  9:54 PM</td>\n",
       "      <td>GSX Techedu Inc.</td>\n",
       "      <td>GSX Techedu's (GSX) CEO Larry Chen on Q3 2020 ...</td>\n",
       "      <td>https://seekingalpha.com/article/4390776-gsx-t...</td>\n",
       "    </tr>\n",
       "    <tr>\n",
       "      <th>2</th>\n",
       "      <td>Fri, Nov. 20,  6:28 PM</td>\n",
       "      <td>Eli Lilly and Company</td>\n",
       "      <td>Eli Lilly and Company (LLY) Presents Tirzepati...</td>\n",
       "      <td>https://seekingalpha.com/article/4390771-eli-l...</td>\n",
       "    </tr>\n",
       "    <tr>\n",
       "      <th>3</th>\n",
       "      <td>Fri, Nov. 20,  5:21 PM</td>\n",
       "      <td>Cresud Sociedad Anónima Comercial, Inmobiliari...</td>\n",
       "      <td>Cresud SACIF y A (CRESY) CEO Alejandro Elsztai...</td>\n",
       "      <td>https://seekingalpha.com/article/4390758-cresu...</td>\n",
       "    </tr>\n",
       "    <tr>\n",
       "      <th>4</th>\n",
       "      <td>Fri, Nov. 20,  4:21 PM</td>\n",
       "      <td>IRSA Inversiones y Representaciones Sociedad A...</td>\n",
       "      <td>IRSA Inversiones y Representaciones Sociedad A...</td>\n",
       "      <td>https://seekingalpha.com/article/4390744-irsa-...</td>\n",
       "    </tr>\n",
       "    <tr>\n",
       "      <th>...</th>\n",
       "      <td>...</td>\n",
       "      <td>...</td>\n",
       "      <td>...</td>\n",
       "      <td>...</td>\n",
       "    </tr>\n",
       "    <tr>\n",
       "      <th>53965</th>\n",
       "      <td>Nov.  2, 2017,  8:55 PM</td>\n",
       "      <td>Activision Blizzard, Inc.</td>\n",
       "      <td>Activision Blizzard (ATVI) Q3 2017 Results - E...</td>\n",
       "      <td>https://seekingalpha.com/article/4119881-activ...</td>\n",
       "    </tr>\n",
       "    <tr>\n",
       "      <th>53966</th>\n",
       "      <td>Nov.  2, 2017,  8:51 PM</td>\n",
       "      <td>Bottomline Technologies (de), Inc.</td>\n",
       "      <td>Bottomline Technologies (EPAY) Q1 2018 Results...</td>\n",
       "      <td>https://seekingalpha.com/article/4119880-botto...</td>\n",
       "    </tr>\n",
       "    <tr>\n",
       "      <th>53967</th>\n",
       "      <td>Nov.  2, 2017,  8:47 PM</td>\n",
       "      <td>Fluor Corporation</td>\n",
       "      <td>Fluor (FLR) Q3 2017 Results - Earnings Call Tr...</td>\n",
       "      <td>https://seekingalpha.com/article/4119878-fluor...</td>\n",
       "    </tr>\n",
       "    <tr>\n",
       "      <th>53968</th>\n",
       "      <td>Nov.  2, 2017,  8:46 PM</td>\n",
       "      <td>Apple Inc.</td>\n",
       "      <td>Apple (AAPL) Q4 2017 Results - Earnings Call T...</td>\n",
       "      <td>https://seekingalpha.com/article/4119877-apple...</td>\n",
       "    </tr>\n",
       "    <tr>\n",
       "      <th>53969</th>\n",
       "      <td>Nov.  2, 2017,  8:44 PM</td>\n",
       "      <td>MyoKardia, Inc.</td>\n",
       "      <td>MyoKardia's (MYOK) CEO Tassos Gianakakos on Q3...</td>\n",
       "      <td>https://seekingalpha.com/article/4119876-myoka...</td>\n",
       "    </tr>\n",
       "  </tbody>\n",
       "</table>\n",
       "<p>53970 rows × 4 columns</p>\n",
       "</div>"
      ],
      "text/plain": [
       "                          date  \\\n",
       "0       Fri, Nov. 20, 10:32 PM   \n",
       "1       Fri, Nov. 20,  9:54 PM   \n",
       "2       Fri, Nov. 20,  6:28 PM   \n",
       "3       Fri, Nov. 20,  5:21 PM   \n",
       "4       Fri, Nov. 20,  4:21 PM   \n",
       "...                        ...   \n",
       "53965  Nov.  2, 2017,  8:55 PM   \n",
       "53966  Nov.  2, 2017,  8:51 PM   \n",
       "53967  Nov.  2, 2017,  8:47 PM   \n",
       "53968  Nov.  2, 2017,  8:46 PM   \n",
       "53969  Nov.  2, 2017,  8:44 PM   \n",
       "\n",
       "                                                     org  \\\n",
       "0                                Helmerich & Payne, Inc.   \n",
       "1                                       GSX Techedu Inc.   \n",
       "2                                  Eli Lilly and Company   \n",
       "3      Cresud Sociedad Anónima Comercial, Inmobiliari...   \n",
       "4      IRSA Inversiones y Representaciones Sociedad A...   \n",
       "...                                                  ...   \n",
       "53965                          Activision Blizzard, Inc.   \n",
       "53966                 Bottomline Technologies (de), Inc.   \n",
       "53967                                  Fluor Corporation   \n",
       "53968                                         Apple Inc.   \n",
       "53969                                    MyoKardia, Inc.   \n",
       "\n",
       "                                                   title  \\\n",
       "0      Helmerich & Payne, Inc. (HP) CEO John Lindsay ...   \n",
       "1      GSX Techedu's (GSX) CEO Larry Chen on Q3 2020 ...   \n",
       "2      Eli Lilly and Company (LLY) Presents Tirzepati...   \n",
       "3      Cresud SACIF y A (CRESY) CEO Alejandro Elsztai...   \n",
       "4      IRSA Inversiones y Representaciones Sociedad A...   \n",
       "...                                                  ...   \n",
       "53965  Activision Blizzard (ATVI) Q3 2017 Results - E...   \n",
       "53966  Bottomline Technologies (EPAY) Q1 2018 Results...   \n",
       "53967  Fluor (FLR) Q3 2017 Results - Earnings Call Tr...   \n",
       "53968  Apple (AAPL) Q4 2017 Results - Earnings Call T...   \n",
       "53969  MyoKardia's (MYOK) CEO Tassos Gianakakos on Q3...   \n",
       "\n",
       "                                                     url  \n",
       "0      https://seekingalpha.com/article/4390777-helme...  \n",
       "1      https://seekingalpha.com/article/4390776-gsx-t...  \n",
       "2      https://seekingalpha.com/article/4390771-eli-l...  \n",
       "3      https://seekingalpha.com/article/4390758-cresu...  \n",
       "4      https://seekingalpha.com/article/4390744-irsa-...  \n",
       "...                                                  ...  \n",
       "53965  https://seekingalpha.com/article/4119881-activ...  \n",
       "53966  https://seekingalpha.com/article/4119880-botto...  \n",
       "53967  https://seekingalpha.com/article/4119878-fluor...  \n",
       "53968  https://seekingalpha.com/article/4119877-apple...  \n",
       "53969  https://seekingalpha.com/article/4119876-myoka...  \n",
       "\n",
       "[53970 rows x 4 columns]"
      ]
     },
     "execution_count": 143,
     "metadata": {},
     "output_type": "execute_result"
    }
   ],
   "source": [
    "# Get index of all articles\n",
    "# Need to do this iteratively so that Seeking Alpha doesn't catch on\n",
    "\n",
    "driver = Chrome(executable_path=path_to_chromedriver)\n",
    "for i in range(1,2):\n",
    "    url = \"https://seekingalpha.com/earnings/earnings-call-transcripts/\" + str(i)\n",
    "    display(url)\n",
    "#     driver = Chrome(executable_path=path_to_chromedriver)\n",
    "    driver.get(url)\n",
    "    \n",
    "    page_source = driver.page_source\n",
    "    soup = BeautifulSoup(page_source, 'html.parser')\n",
    "    listitems= soup.findAll(\"li\", {\"class\": \"list-group-item article\"})\n",
    "\n",
    "    for listitem in listitems:\n",
    "        link = listitem.find(\"a\", {\"class\": \"dashboard-article-link\"})\n",
    "        title = link.text\n",
    "        article_url = link.get('href')\n",
    "\n",
    "        desc = listitem.find('div')\n",
    "        org = desc.find('span').find('a').get('title')\n",
    "        date = re.search('•\\n      (.*)\\n\\n        •', desc.text).group(1)\n",
    "        # Add metadata to index\n",
    "        list_item_df = list_item_df.append({\n",
    "            'title': title\n",
    "            , 'url': 'https://seekingalpha.com' + article_url\n",
    "            , 'org': org\n",
    "            , 'date': date\n",
    "        }, ignore_index=True)\n",
    "    time.sleep(random.random())\n",
    "    \n",
    "    # Close the chrome window so I don't end up with 1000s open on my machine\n",
    "#     driver.close()\n",
    "list_item_df"
   ]
  },
  {
   "cell_type": "code",
   "execution_count": 98,
   "metadata": {},
   "outputs": [],
   "source": [
    "# list_item_df = list_item_df.drop(columns='Unnamed: 0')"
   ]
  },
  {
   "cell_type": "code",
   "execution_count": 149,
   "metadata": {},
   "outputs": [],
   "source": [
    "# list_item_df.drop_duplicates().to_csv('../1_data/Seeking_Alpha/index.csv', index=False)"
   ]
  },
  {
   "cell_type": "code",
   "execution_count": 211,
   "metadata": {},
   "outputs": [
    {
     "data": {
      "text/html": [
       "<div>\n",
       "<style scoped>\n",
       "    .dataframe tbody tr th:only-of-type {\n",
       "        vertical-align: middle;\n",
       "    }\n",
       "\n",
       "    .dataframe tbody tr th {\n",
       "        vertical-align: top;\n",
       "    }\n",
       "\n",
       "    .dataframe thead th {\n",
       "        text-align: right;\n",
       "    }\n",
       "</style>\n",
       "<table border=\"1\" class=\"dataframe\">\n",
       "  <thead>\n",
       "    <tr style=\"text-align: right;\">\n",
       "      <th></th>\n",
       "      <th>date</th>\n",
       "      <th>org</th>\n",
       "      <th>title</th>\n",
       "      <th>url</th>\n",
       "      <th>filename</th>\n",
       "    </tr>\n",
       "  </thead>\n",
       "  <tbody>\n",
       "    <tr>\n",
       "      <th>0</th>\n",
       "      <td>Fri, Nov. 20, 10:32 PM</td>\n",
       "      <td>Helmerich &amp; Payne, Inc.</td>\n",
       "      <td>Helmerich &amp; Payne, Inc. (HP) CEO John Lindsay ...</td>\n",
       "      <td>https://seekingalpha.com/article/4390777-helme...</td>\n",
       "      <td>None</td>\n",
       "    </tr>\n",
       "    <tr>\n",
       "      <th>1</th>\n",
       "      <td>Fri, Nov. 20,  9:54 PM</td>\n",
       "      <td>GSX Techedu Inc.</td>\n",
       "      <td>GSX Techedu's (GSX) CEO Larry Chen on Q3 2020 ...</td>\n",
       "      <td>https://seekingalpha.com/article/4390776-gsx-t...</td>\n",
       "      <td>None</td>\n",
       "    </tr>\n",
       "    <tr>\n",
       "      <th>2</th>\n",
       "      <td>Fri, Nov. 20,  6:28 PM</td>\n",
       "      <td>Eli Lilly and Company</td>\n",
       "      <td>Eli Lilly and Company (LLY) Presents Tirzepati...</td>\n",
       "      <td>https://seekingalpha.com/article/4390771-eli-l...</td>\n",
       "      <td>None</td>\n",
       "    </tr>\n",
       "    <tr>\n",
       "      <th>3</th>\n",
       "      <td>Fri, Nov. 20,  5:21 PM</td>\n",
       "      <td>Cresud Sociedad Anónima Comercial, Inmobiliari...</td>\n",
       "      <td>Cresud SACIF y A (CRESY) CEO Alejandro Elsztai...</td>\n",
       "      <td>https://seekingalpha.com/article/4390758-cresu...</td>\n",
       "      <td>None</td>\n",
       "    </tr>\n",
       "    <tr>\n",
       "      <th>4</th>\n",
       "      <td>Fri, Nov. 20,  4:21 PM</td>\n",
       "      <td>IRSA Inversiones y Representaciones Sociedad A...</td>\n",
       "      <td>IRSA Inversiones y Representaciones Sociedad A...</td>\n",
       "      <td>https://seekingalpha.com/article/4390744-irsa-...</td>\n",
       "      <td>None</td>\n",
       "    </tr>\n",
       "  </tbody>\n",
       "</table>\n",
       "</div>"
      ],
      "text/plain": [
       "                     date                                                org  \\\n",
       "0  Fri, Nov. 20, 10:32 PM                            Helmerich & Payne, Inc.   \n",
       "1  Fri, Nov. 20,  9:54 PM                                   GSX Techedu Inc.   \n",
       "2  Fri, Nov. 20,  6:28 PM                              Eli Lilly and Company   \n",
       "3  Fri, Nov. 20,  5:21 PM  Cresud Sociedad Anónima Comercial, Inmobiliari...   \n",
       "4  Fri, Nov. 20,  4:21 PM  IRSA Inversiones y Representaciones Sociedad A...   \n",
       "\n",
       "                                               title  \\\n",
       "0  Helmerich & Payne, Inc. (HP) CEO John Lindsay ...   \n",
       "1  GSX Techedu's (GSX) CEO Larry Chen on Q3 2020 ...   \n",
       "2  Eli Lilly and Company (LLY) Presents Tirzepati...   \n",
       "3  Cresud SACIF y A (CRESY) CEO Alejandro Elsztai...   \n",
       "4  IRSA Inversiones y Representaciones Sociedad A...   \n",
       "\n",
       "                                                 url filename  \n",
       "0  https://seekingalpha.com/article/4390777-helme...     None  \n",
       "1  https://seekingalpha.com/article/4390776-gsx-t...     None  \n",
       "2  https://seekingalpha.com/article/4390771-eli-l...     None  \n",
       "3  https://seekingalpha.com/article/4390758-cresu...     None  \n",
       "4  https://seekingalpha.com/article/4390744-irsa-...     None  "
      ]
     },
     "execution_count": 211,
     "metadata": {},
     "output_type": "execute_result"
    }
   ],
   "source": [
    "# Get the index dataframe given that it's already written\n",
    "seeking_alpha_index = pd.read_csv('../1_data/Seeking_Alpha/index.csv')\n",
    "seeking_alpha_index['filename'] = None\n",
    "seeking_alpha_index.head()"
   ]
  },
  {
   "cell_type": "code",
   "execution_count": 182,
   "metadata": {},
   "outputs": [
    {
     "data": {
      "text/plain": [
       "0    Fri, Nov. 20, 10:32 PM\n",
       "1    Fri, Nov. 20,  9:54 PM\n",
       "2    Fri, Nov. 20,  6:28 PM\n",
       "3    Fri, Nov. 20,  5:21 PM\n",
       "4    Fri, Nov. 20,  4:21 PM\n",
       "Name: date, dtype: object"
      ]
     },
     "execution_count": 182,
     "metadata": {},
     "output_type": "execute_result"
    }
   ],
   "source": [
    "# TODO: change index date to date\n",
    "seeking_alpha_index.date.head()"
   ]
  },
  {
   "cell_type": "markdown",
   "metadata": {},
   "source": [
    "### Get the text for each earnings transcript\n"
   ]
  },
  {
   "cell_type": "code",
   "execution_count": null,
   "metadata": {},
   "outputs": [],
   "source": [
    "# Need to launch the driver once so that we can\n",
    "driver = Chrome(executable_path=path_to_chromedriver)"
   ]
  },
  {
   "cell_type": "code",
   "execution_count": 226,
   "metadata": {},
   "outputs": [
    {
     "data": {
      "text/plain": [
       "'https://seekingalpha.com/article/4390645-matthews-international-corp-matw-ceo-joseph-bartolacci-on-q4-2020-results-earnings-call'"
      ]
     },
     "metadata": {},
     "output_type": "display_data"
    },
    {
     "data": {
      "text/plain": [
       "'https://seekingalpha.com/article/4390644-t-inc-t-presents-morgan-stanley-tmt-broker-conference-call-transcript'"
      ]
     },
     "metadata": {},
     "output_type": "display_data"
    },
    {
     "data": {
      "text/plain": [
       "'https://seekingalpha.com/article/4390634-i3-verticals-inc-iiiv-ceo-gregory-daily-on-q4-2020-results-earnings-call-transcript'"
      ]
     },
     "metadata": {},
     "output_type": "display_data"
    },
    {
     "data": {
      "text/plain": [
       "'https://seekingalpha.com/article/4390626-post-holdings-inc-post-ceo-rob-vitale-on-q4-2020-results-earnings-call-transcript'"
      ]
     },
     "metadata": {},
     "output_type": "display_data"
    },
    {
     "data": {
      "text/plain": [
       "'https://seekingalpha.com/article/4390582-ooma-inc-ooma-ceo-eric-stang-on-q3-2021-results-earnings-call-transcript'"
      ]
     },
     "metadata": {},
     "output_type": "display_data"
    },
    {
     "data": {
      "text/plain": [
       "'https://seekingalpha.com/article/4390564-eurobank-ergasias-services-and-holdings-egfey-ceo-fokion-karavias-on-q3-2020-results-earnings'"
      ]
     },
     "metadata": {},
     "output_type": "display_data"
    },
    {
     "data": {
      "text/plain": [
       "'https://seekingalpha.com/article/4390543-360-digitech-inc-qfin-ceo-wu-haisheng-on-q3-2020-results-earnings-call-transcript'"
      ]
     },
     "metadata": {},
     "output_type": "display_data"
    },
    {
     "data": {
      "text/plain": [
       "'https://seekingalpha.com/article/4390537-t-mobile-us-inc-tmus-management-presents-morgan-stanley-european-technology-media-telecom'"
      ]
     },
     "metadata": {},
     "output_type": "display_data"
    },
    {
     "data": {
      "text/plain": [
       "'https://seekingalpha.com/article/4390532-altice-europes-alvvf-management-on-q3-2020-results-earnings-call-transcript'"
      ]
     },
     "metadata": {},
     "output_type": "display_data"
    },
    {
     "data": {
      "text/plain": [
       "'https://seekingalpha.com/article/4390527-workday-inc-wday-ceo-aneel-bhusri-on-q3-2021-results-earnings-call-transcript'"
      ]
     },
     "metadata": {},
     "output_type": "display_data"
    },
    {
     "data": {
      "text/plain": [
       "'https://seekingalpha.com/article/4390520-esco-technologies-inc-ese-ceo-vic-richey-on-q4-2020-results-earnings-call-transcript'"
      ]
     },
     "metadata": {},
     "output_type": "display_data"
    },
    {
     "data": {
      "text/plain": [
       "'https://seekingalpha.com/article/4390519-public-joint-stock-company-gazprom-nefts-gzpfy-management-on-q3-2020-results-earnings-call'"
      ]
     },
     "metadata": {},
     "output_type": "display_data"
    },
    {
     "data": {
      "text/plain": [
       "'https://seekingalpha.com/article/4390518-halmas-hlmaf-ceo-andrew-williams-on-half-year-results-2020-21-earnings-call-transcript'"
      ]
     },
     "metadata": {},
     "output_type": "display_data"
    },
    {
     "data": {
      "text/plain": [
       "'https://seekingalpha.com/article/4390516-beacon-roofing-supply-inc-becn-ceo-julian-francis-on-q4-2020-results-earnings-call-transcript'"
      ]
     },
     "metadata": {},
     "output_type": "display_data"
    },
    {
     "data": {
      "text/plain": [
       "'https://seekingalpha.com/article/4390515-williams-sonoma-inc-wsm-ceo-laura-alber-on-q3-2020-results-earnings-call-transcript'"
      ]
     },
     "metadata": {},
     "output_type": "display_data"
    },
    {
     "data": {
      "text/plain": [
       "'https://seekingalpha.com/article/4390514-delta-apparel-inc-dla-ceo-robert-humphreys-on-q4-2020-results-earnings-call-transcript'"
      ]
     },
     "metadata": {},
     "output_type": "display_data"
    },
    {
     "data": {
      "text/plain": [
       "'https://seekingalpha.com/article/4390512-woodward-inc-wwd-ceo-tom-gendron-on-q4-2020-results-earnings-call-transcript'"
      ]
     },
     "metadata": {},
     "output_type": "display_data"
    },
    {
     "data": {
      "text/plain": [
       "'https://seekingalpha.com/article/4390511-biohitech-global-inc-bhtg-ceo-anthony-fuller-on-q3-2020-results-earnings-call-transcript'"
      ]
     },
     "metadata": {},
     "output_type": "display_data"
    },
    {
     "data": {
      "text/plain": [
       "'https://seekingalpha.com/article/4390508-111-inc-yi-ceo-junling-liu-on-q3-2020-results-earnings-call-transcript'"
      ]
     },
     "metadata": {},
     "output_type": "display_data"
    },
    {
     "data": {
      "text/plain": [
       "'https://seekingalpha.com/article/4390507-sociedad-quimica-y-minera-de-chiles-sqm-ceo-ricardo-ramos-on-q3-2020-results-earnings-call'"
      ]
     },
     "metadata": {},
     "output_type": "display_data"
    }
   ],
   "source": [
    "# Loop through all transcripts in the index\n",
    "save_dir = '../1_data/Seeking_Alpha/'\n",
    "for index, row in seeking_alpha_index.iloc[20:40].iterrows():\n",
    "    \n",
    "    url = row.url\n",
    "    display(url)\n",
    "    driver.get(url)\n",
    "    page_source = driver.page_source\n",
    "    soup = BeautifulSoup(page_source, 'html.parser')\n",
    "    listitems= soup.findAll(\"p\")\n",
    "    \n",
    "    # Get the transcript text and save it as a file\n",
    "    org_name = '-'.join([i for i in re.split('[^a-zA-Z0-9\\n\\.]', row.org.replace('.', '')) if i])\n",
    "    date = '-'.join([i for i in re.split('[^a-zA-Z0-9\\n\\.]', row.date.replace('.', '')) if i])\n",
    "    filename = org_name + '_' + date\n",
    "    seeking_alpha_index.filename[index] = f'{filename}.txt'\n",
    "\n",
    "    transcript_text = ''\n",
    "    for item in listitems:\n",
    "        transcript_text = transcript_text + ' ' + item.text\n",
    "\n",
    "    fname = f\"{save_dir}/{filename}.txt\"\n",
    "    with open(fname, 'w') as f:\n",
    "        f.writelines(transcript_text)\n",
    "    time.sleep(random.random())"
   ]
  },
  {
   "cell_type": "code",
   "execution_count": 220,
   "metadata": {},
   "outputs": [],
   "source": [
    "seeking_alpha_index.to_csv('../1_data/Seeking_Alpha/index_2.csv')"
   ]
  },
  {
   "cell_type": "code",
   "execution_count": 227,
   "metadata": {},
   "outputs": [
    {
     "data": {
      "text/html": [
       "<div>\n",
       "<style scoped>\n",
       "    .dataframe tbody tr th:only-of-type {\n",
       "        vertical-align: middle;\n",
       "    }\n",
       "\n",
       "    .dataframe tbody tr th {\n",
       "        vertical-align: top;\n",
       "    }\n",
       "\n",
       "    .dataframe thead th {\n",
       "        text-align: right;\n",
       "    }\n",
       "</style>\n",
       "<table border=\"1\" class=\"dataframe\">\n",
       "  <thead>\n",
       "    <tr style=\"text-align: right;\">\n",
       "      <th></th>\n",
       "      <th>date</th>\n",
       "      <th>org</th>\n",
       "      <th>title</th>\n",
       "      <th>url</th>\n",
       "      <th>filename</th>\n",
       "    </tr>\n",
       "  </thead>\n",
       "  <tbody>\n",
       "    <tr>\n",
       "      <th>0</th>\n",
       "      <td>Fri, Nov. 20, 10:32 PM</td>\n",
       "      <td>Helmerich &amp; Payne, Inc.</td>\n",
       "      <td>Helmerich &amp; Payne, Inc. (HP) CEO John Lindsay ...</td>\n",
       "      <td>https://seekingalpha.com/article/4390777-helme...</td>\n",
       "      <td>Helmerich-Payne-Inc_Fri-Nov-20-10-32-PM.txt</td>\n",
       "    </tr>\n",
       "    <tr>\n",
       "      <th>1</th>\n",
       "      <td>Fri, Nov. 20,  9:54 PM</td>\n",
       "      <td>GSX Techedu Inc.</td>\n",
       "      <td>GSX Techedu's (GSX) CEO Larry Chen on Q3 2020 ...</td>\n",
       "      <td>https://seekingalpha.com/article/4390776-gsx-t...</td>\n",
       "      <td>GSX-Techedu-Inc_Fri-Nov-20-9-54-PM.txt</td>\n",
       "    </tr>\n",
       "    <tr>\n",
       "      <th>2</th>\n",
       "      <td>Fri, Nov. 20,  6:28 PM</td>\n",
       "      <td>Eli Lilly and Company</td>\n",
       "      <td>Eli Lilly and Company (LLY) Presents Tirzepati...</td>\n",
       "      <td>https://seekingalpha.com/article/4390771-eli-l...</td>\n",
       "      <td>Eli-Lilly-and-Company_Fri-Nov-20-6-28-PM.txt</td>\n",
       "    </tr>\n",
       "    <tr>\n",
       "      <th>3</th>\n",
       "      <td>Fri, Nov. 20,  5:21 PM</td>\n",
       "      <td>Cresud Sociedad Anónima Comercial, Inmobiliari...</td>\n",
       "      <td>Cresud SACIF y A (CRESY) CEO Alejandro Elsztai...</td>\n",
       "      <td>https://seekingalpha.com/article/4390758-cresu...</td>\n",
       "      <td>Cresud-Sociedad-An-nima-Comercial-Inmobiliaria...</td>\n",
       "    </tr>\n",
       "    <tr>\n",
       "      <th>4</th>\n",
       "      <td>Fri, Nov. 20,  4:21 PM</td>\n",
       "      <td>IRSA Inversiones y Representaciones Sociedad A...</td>\n",
       "      <td>IRSA Inversiones y Representaciones Sociedad A...</td>\n",
       "      <td>https://seekingalpha.com/article/4390744-irsa-...</td>\n",
       "      <td>IRSA-Inversiones-y-Representaciones-Sociedad-A...</td>\n",
       "    </tr>\n",
       "    <tr>\n",
       "      <th>5</th>\n",
       "      <td>Fri, Nov. 20,  4:01 PM</td>\n",
       "      <td>Magellan Midstream Partners, L.P.</td>\n",
       "      <td>Magellan Midstream Partners, L.P. (MMP) Presen...</td>\n",
       "      <td>https://seekingalpha.com/article/4390740-magel...</td>\n",
       "      <td>Magellan-Midstream-Partners-LP_Fri-Nov-20-4-01...</td>\n",
       "    </tr>\n",
       "    <tr>\n",
       "      <th>6</th>\n",
       "      <td>Fri, Nov. 20,  3:50 PM</td>\n",
       "      <td>Grupo Supervielle S.A.</td>\n",
       "      <td>Grupo Supervielle's (SUPV) CEO Patricio Superv...</td>\n",
       "      <td>https://seekingalpha.com/article/4390737-grupo...</td>\n",
       "      <td>Grupo-Supervielle-SA_Fri-Nov-20-3-50-PM.txt</td>\n",
       "    </tr>\n",
       "    <tr>\n",
       "      <th>7</th>\n",
       "      <td>Fri, Nov. 20,  3:35 PM</td>\n",
       "      <td>PennantPark Investment</td>\n",
       "      <td>PennantPark Investment Corporation (PNNT) CEO ...</td>\n",
       "      <td>https://seekingalpha.com/article/4390727-penna...</td>\n",
       "      <td>PennantPark-Investment_Fri-Nov-20-3-35-PM.txt</td>\n",
       "    </tr>\n",
       "    <tr>\n",
       "      <th>8</th>\n",
       "      <td>Fri, Nov. 20,  3:31 PM</td>\n",
       "      <td>Geospace Technologies Corporation</td>\n",
       "      <td>Geospace Technologies Corporation (GEOS) CEO W...</td>\n",
       "      <td>https://seekingalpha.com/article/4390719-geosp...</td>\n",
       "      <td>Geospace-Technologies-Corporation_Fri-Nov-20-3...</td>\n",
       "    </tr>\n",
       "    <tr>\n",
       "      <th>9</th>\n",
       "      <td>Fri, Nov. 20,  3:25 PM</td>\n",
       "      <td>The RMR Group Inc.</td>\n",
       "      <td>The RMR Group's (RMR) CEO Adam Portnoy on Q4 2...</td>\n",
       "      <td>https://seekingalpha.com/article/4390712-rmr-g...</td>\n",
       "      <td>The-RMR-Group-Inc_Fri-Nov-20-3-25-PM.txt</td>\n",
       "    </tr>\n",
       "    <tr>\n",
       "      <th>10</th>\n",
       "      <td>Fri, Nov. 20,  3:02 PM</td>\n",
       "      <td>Sysco Corporation</td>\n",
       "      <td>Sysco Corporation (SYY) 2020 Annual Meeting of...</td>\n",
       "      <td>https://seekingalpha.com/article/4390698-sysco...</td>\n",
       "      <td>Sysco-Corporation_Fri-Nov-20-3-02-PM.txt</td>\n",
       "    </tr>\n",
       "    <tr>\n",
       "      <th>11</th>\n",
       "      <td>Fri, Nov. 20,  3:01 PM</td>\n",
       "      <td>Real Matters Inc.</td>\n",
       "      <td>Real Matters' (RLLMF) CEO Brian Lang on Q4 202...</td>\n",
       "      <td>https://seekingalpha.com/article/4390697-real-...</td>\n",
       "      <td>Real-Matters-Inc_Fri-Nov-20-3-01-PM.txt</td>\n",
       "    </tr>\n",
       "    <tr>\n",
       "      <th>12</th>\n",
       "      <td>Fri, Nov. 20,  2:51 PM</td>\n",
       "      <td>Destination XL Group, Inc.</td>\n",
       "      <td>Destination XL Group, Inc. (DXLG) CEO Harvey K...</td>\n",
       "      <td>https://seekingalpha.com/article/4390696-desti...</td>\n",
       "      <td>Destination-XL-Group-Inc_Fri-Nov-20-2-51-PM.txt</td>\n",
       "    </tr>\n",
       "    <tr>\n",
       "      <th>13</th>\n",
       "      <td>Fri, Nov. 20,  2:51 PM</td>\n",
       "      <td>BellRing Brands, Inc.</td>\n",
       "      <td>Bellring Brands, Inc. (BRBR) CEO Darcy Davenpo...</td>\n",
       "      <td>https://seekingalpha.com/article/4390695-bellr...</td>\n",
       "      <td>BellRing-Brands-Inc_Fri-Nov-20-2-51-PM.txt</td>\n",
       "    </tr>\n",
       "    <tr>\n",
       "      <th>14</th>\n",
       "      <td>Fri, Nov. 20,  2:47 PM</td>\n",
       "      <td>Burning Rock Biotech Limited</td>\n",
       "      <td>Burning Rock Biotech Limited (BNR) CEO Yusheng...</td>\n",
       "      <td>https://seekingalpha.com/article/4390693-burni...</td>\n",
       "      <td>Burning-Rock-Biotech-Limited_Fri-Nov-20-2-47-P...</td>\n",
       "    </tr>\n",
       "    <tr>\n",
       "      <th>15</th>\n",
       "      <td>Fri, Nov. 20,  2:36 PM</td>\n",
       "      <td>The Buckle, Inc.</td>\n",
       "      <td>The Buckle, Inc. (BKE) CEO Dennis Nelson on Q3...</td>\n",
       "      <td>https://seekingalpha.com/article/4390690-buckl...</td>\n",
       "      <td>The-Buckle-Inc_Fri-Nov-20-2-36-PM.txt</td>\n",
       "    </tr>\n",
       "    <tr>\n",
       "      <th>16</th>\n",
       "      <td>Fri, Nov. 20,  2:02 PM</td>\n",
       "      <td>HeadHunter Group PLC</td>\n",
       "      <td>HeadHunter Group's (HHR) CEO Mikhail Zhukov on...</td>\n",
       "      <td>https://seekingalpha.com/article/4390665-headh...</td>\n",
       "      <td>HeadHunter-Group-PLC_Fri-Nov-20-2-02-PM.txt</td>\n",
       "    </tr>\n",
       "    <tr>\n",
       "      <th>17</th>\n",
       "      <td>Fri, Nov. 20,  1:47 PM</td>\n",
       "      <td>Hibbett Sports, Inc.</td>\n",
       "      <td>Hibbett Sports, Inc.'s (HIBB) CEO Mike Longo o...</td>\n",
       "      <td>https://seekingalpha.com/article/4390662-hibbe...</td>\n",
       "      <td>Hibbett-Sports-Inc_Fri-Nov-20-1-47-PM.txt</td>\n",
       "    </tr>\n",
       "    <tr>\n",
       "      <th>18</th>\n",
       "      <td>Fri, Nov. 20,  1:37 PM</td>\n",
       "      <td>Foot Locker, Inc.</td>\n",
       "      <td>Foot Locker, Inc. (FL) CEO Dick Johnson on Q3 ...</td>\n",
       "      <td>https://seekingalpha.com/article/4390658-foot-...</td>\n",
       "      <td>Foot-Locker-Inc_Fri-Nov-20-1-37-PM.txt</td>\n",
       "    </tr>\n",
       "    <tr>\n",
       "      <th>19</th>\n",
       "      <td>Fri, Nov. 20,  1:20 PM</td>\n",
       "      <td>IEC Electronics Corp.</td>\n",
       "      <td>IEC Electronics Corp (IEC) CEO Jeff Schlarbaum...</td>\n",
       "      <td>https://seekingalpha.com/article/4390656-iec-e...</td>\n",
       "      <td>IEC-Electronics-Corp_Fri-Nov-20-1-20-PM.txt</td>\n",
       "    </tr>\n",
       "    <tr>\n",
       "      <th>20</th>\n",
       "      <td>Fri, Nov. 20, 12:49 PM</td>\n",
       "      <td>Matthews International Corporation</td>\n",
       "      <td>Matthews International Corp (MATW) CEO Joseph ...</td>\n",
       "      <td>https://seekingalpha.com/article/4390645-matth...</td>\n",
       "      <td>Matthews-International-Corporation_Fri-Nov-20-...</td>\n",
       "    </tr>\n",
       "    <tr>\n",
       "      <th>21</th>\n",
       "      <td>Fri, Nov. 20, 12:49 PM</td>\n",
       "      <td>AT&amp;T Inc.</td>\n",
       "      <td>AT&amp;T, Inc. (T) Presents at Morgan Stanley TMT ...</td>\n",
       "      <td>https://seekingalpha.com/article/4390644-t-inc...</td>\n",
       "      <td>AT-T-Inc_Fri-Nov-20-12-49-PM.txt</td>\n",
       "    </tr>\n",
       "    <tr>\n",
       "      <th>22</th>\n",
       "      <td>Fri, Nov. 20, 12:03 PM</td>\n",
       "      <td>i3 Verticals, Inc.</td>\n",
       "      <td>i3 Verticals Inc (IIIV) CEO Gregory Daily on Q...</td>\n",
       "      <td>https://seekingalpha.com/article/4390634-i3-ve...</td>\n",
       "      <td>i3-Verticals-Inc_Fri-Nov-20-12-03-PM.txt</td>\n",
       "    </tr>\n",
       "    <tr>\n",
       "      <th>23</th>\n",
       "      <td>Fri, Nov. 20, 11:42 AM</td>\n",
       "      <td>Post Holdings, Inc.</td>\n",
       "      <td>Post Holdings, Inc. (POST) CEO Rob Vitale on Q...</td>\n",
       "      <td>https://seekingalpha.com/article/4390626-post-...</td>\n",
       "      <td>Post-Holdings-Inc_Fri-Nov-20-11-42-AM.txt</td>\n",
       "    </tr>\n",
       "    <tr>\n",
       "      <th>24</th>\n",
       "      <td>Fri, Nov. 20,  8:13 AM</td>\n",
       "      <td>Ooma, Inc.</td>\n",
       "      <td>Ooma, Inc. (OOMA) CEO Eric Stang on Q3 2021 Re...</td>\n",
       "      <td>https://seekingalpha.com/article/4390582-ooma-...</td>\n",
       "      <td>Ooma-Inc_Fri-Nov-20-8-13-AM.txt</td>\n",
       "    </tr>\n",
       "    <tr>\n",
       "      <th>25</th>\n",
       "      <td>Fri, Nov. 20,  6:33 AM</td>\n",
       "      <td>Eurobank Ergasias Services and Holdings S.A.</td>\n",
       "      <td>Eurobank Ergasias Services and Holding's (EGFE...</td>\n",
       "      <td>https://seekingalpha.com/article/4390564-eurob...</td>\n",
       "      <td>Eurobank-Ergasias-Services-and-Holdings-SA_Fri...</td>\n",
       "    </tr>\n",
       "    <tr>\n",
       "      <th>26</th>\n",
       "      <td>Fri, Nov. 20,  3:40 AM</td>\n",
       "      <td>360 DigiTech, Inc.</td>\n",
       "      <td>360 DigiTech, Inc. (QFIN) CEO Wu Haisheng on Q...</td>\n",
       "      <td>https://seekingalpha.com/article/4390543-360-d...</td>\n",
       "      <td>360-DigiTech-Inc_Fri-Nov-20-3-40-AM.txt</td>\n",
       "    </tr>\n",
       "    <tr>\n",
       "      <th>27</th>\n",
       "      <td>Fri, Nov. 20,  2:22 AM</td>\n",
       "      <td>T-Mobile US, Inc.</td>\n",
       "      <td>T-Mobile US, Inc. (TMUS) Management Presents a...</td>\n",
       "      <td>https://seekingalpha.com/article/4390537-t-mob...</td>\n",
       "      <td>T-Mobile-US-Inc_Fri-Nov-20-2-22-AM.txt</td>\n",
       "    </tr>\n",
       "    <tr>\n",
       "      <th>28</th>\n",
       "      <td>Fri, Nov. 20,  1:32 AM</td>\n",
       "      <td>Altice Europe N.V.</td>\n",
       "      <td>Altice Europe's (ALVVF) Management on Q3 2020 ...</td>\n",
       "      <td>https://seekingalpha.com/article/4390532-altic...</td>\n",
       "      <td>Altice-Europe-NV_Fri-Nov-20-1-32-AM.txt</td>\n",
       "    </tr>\n",
       "    <tr>\n",
       "      <th>29</th>\n",
       "      <td>Fri, Nov. 20, 12:46 AM</td>\n",
       "      <td>Workday, Inc.</td>\n",
       "      <td>Workday, Inc. (WDAY) CEO Aneel Bhusri on Q3 20...</td>\n",
       "      <td>https://seekingalpha.com/article/4390527-workd...</td>\n",
       "      <td>Workday-Inc_Fri-Nov-20-12-46-AM.txt</td>\n",
       "    </tr>\n",
       "    <tr>\n",
       "      <th>30</th>\n",
       "      <td>Thu, Nov. 19, 11:40 PM</td>\n",
       "      <td>ESCO Technologies Inc.</td>\n",
       "      <td>ESCO Technologies Inc. (ESE) CEO Vic Richey on...</td>\n",
       "      <td>https://seekingalpha.com/article/4390520-esco-...</td>\n",
       "      <td>ESCO-Technologies-Inc_Thu-Nov-19-11-40-PM.txt</td>\n",
       "    </tr>\n",
       "    <tr>\n",
       "      <th>31</th>\n",
       "      <td>Thu, Nov. 19, 11:34 PM</td>\n",
       "      <td>Public Joint Stock Company Gazprom Neft</td>\n",
       "      <td>Public Joint Stock Company Gazprom Neft's (GZP...</td>\n",
       "      <td>https://seekingalpha.com/article/4390519-publi...</td>\n",
       "      <td>Public-Joint-Stock-Company-Gazprom-Neft_Thu-No...</td>\n",
       "    </tr>\n",
       "    <tr>\n",
       "      <th>32</th>\n",
       "      <td>Thu, Nov. 19, 11:31 PM</td>\n",
       "      <td>Halma plc</td>\n",
       "      <td>Halma's (HLMAF) CEO Andrew Williams on Half Ye...</td>\n",
       "      <td>https://seekingalpha.com/article/4390518-halma...</td>\n",
       "      <td>Halma-plc_Thu-Nov-19-11-31-PM.txt</td>\n",
       "    </tr>\n",
       "    <tr>\n",
       "      <th>33</th>\n",
       "      <td>Thu, Nov. 19, 11:28 PM</td>\n",
       "      <td>Beacon Roofing Supply, Inc.</td>\n",
       "      <td>Beacon Roofing Supply, Inc. (BECN) CEO Julian ...</td>\n",
       "      <td>https://seekingalpha.com/article/4390516-beaco...</td>\n",
       "      <td>Beacon-Roofing-Supply-Inc_Thu-Nov-19-11-28-PM.txt</td>\n",
       "    </tr>\n",
       "    <tr>\n",
       "      <th>34</th>\n",
       "      <td>Thu, Nov. 19, 11:26 PM</td>\n",
       "      <td>Williams-Sonoma, Inc.</td>\n",
       "      <td>Williams-Sonoma, Inc. (WSM) CEO Laura Alber on...</td>\n",
       "      <td>https://seekingalpha.com/article/4390515-willi...</td>\n",
       "      <td>Williams-Sonoma-Inc_Thu-Nov-19-11-26-PM.txt</td>\n",
       "    </tr>\n",
       "    <tr>\n",
       "      <th>35</th>\n",
       "      <td>Thu, Nov. 19, 11:25 PM</td>\n",
       "      <td>Delta Apparel, Inc.</td>\n",
       "      <td>Delta Apparel, Inc. (DLA) CEO Robert Humphreys...</td>\n",
       "      <td>https://seekingalpha.com/article/4390514-delta...</td>\n",
       "      <td>Delta-Apparel-Inc_Thu-Nov-19-11-25-PM.txt</td>\n",
       "    </tr>\n",
       "    <tr>\n",
       "      <th>36</th>\n",
       "      <td>Thu, Nov. 19, 11:21 PM</td>\n",
       "      <td>Woodward, Inc.</td>\n",
       "      <td>Woodward, Inc. (WWD) CEO Tom Gendron on Q4 202...</td>\n",
       "      <td>https://seekingalpha.com/article/4390512-woodw...</td>\n",
       "      <td>Woodward-Inc_Thu-Nov-19-11-21-PM.txt</td>\n",
       "    </tr>\n",
       "    <tr>\n",
       "      <th>37</th>\n",
       "      <td>Thu, Nov. 19, 11:19 PM</td>\n",
       "      <td>BioHiTech Global, Inc.</td>\n",
       "      <td>BioHiTech Global, Inc. (BHTG) CEO Anthony Full...</td>\n",
       "      <td>https://seekingalpha.com/article/4390511-biohi...</td>\n",
       "      <td>BioHiTech-Global-Inc_Thu-Nov-19-11-19-PM.txt</td>\n",
       "    </tr>\n",
       "    <tr>\n",
       "      <th>38</th>\n",
       "      <td>Thu, Nov. 19, 10:47 PM</td>\n",
       "      <td>111, Inc.</td>\n",
       "      <td>111, Inc. (YI) CEO Junling Liu on Q3 2020 Resu...</td>\n",
       "      <td>https://seekingalpha.com/article/4390508-111-i...</td>\n",
       "      <td>111-Inc_Thu-Nov-19-10-47-PM.txt</td>\n",
       "    </tr>\n",
       "    <tr>\n",
       "      <th>39</th>\n",
       "      <td>Thu, Nov. 19, 10:45 PM</td>\n",
       "      <td>Sociedad Química y Minera de Chile S.A.</td>\n",
       "      <td>Sociedad Química y Minera de Chile's (SQM) CEO...</td>\n",
       "      <td>https://seekingalpha.com/article/4390507-socie...</td>\n",
       "      <td>Sociedad-Qu-mica-y-Minera-de-Chile-SA_Thu-Nov-...</td>\n",
       "    </tr>\n",
       "    <tr>\n",
       "      <th>40</th>\n",
       "      <td>Thu, Nov. 19, 10:43 PM</td>\n",
       "      <td>Höegh LNG Holdings Ltd.</td>\n",
       "      <td>Hoegh LNG Holdings Ltd. (HOLHF) CEO Sveinung S...</td>\n",
       "      <td>https://seekingalpha.com/article/4390506-hoegh...</td>\n",
       "      <td>None</td>\n",
       "    </tr>\n",
       "    <tr>\n",
       "      <th>41</th>\n",
       "      <td>Thu, Nov. 19, 10:39 PM</td>\n",
       "      <td>KGHM Polska Miedz S.A.</td>\n",
       "      <td>KGHM Polska Miedz S.A. (KGHPF) CEO Marcin Chlu...</td>\n",
       "      <td>https://seekingalpha.com/article/4390505-kghm-...</td>\n",
       "      <td>None</td>\n",
       "    </tr>\n",
       "    <tr>\n",
       "      <th>42</th>\n",
       "      <td>Thu, Nov. 19, 10:11 PM</td>\n",
       "      <td>Ross Stores, Inc.</td>\n",
       "      <td>Ross Stores' (ROST) CEO Barbara Rentler on Q3 ...</td>\n",
       "      <td>https://seekingalpha.com/article/4390502-ross-...</td>\n",
       "      <td>None</td>\n",
       "    </tr>\n",
       "    <tr>\n",
       "      <th>43</th>\n",
       "      <td>Thu, Nov. 19,  9:59 PM</td>\n",
       "      <td>Biotricity, Inc.</td>\n",
       "      <td>Biotricity, Inc. (BTCY) CEO Waqaas Al-Siddiq o...</td>\n",
       "      <td>https://seekingalpha.com/article/4390501-biotr...</td>\n",
       "      <td>None</td>\n",
       "    </tr>\n",
       "    <tr>\n",
       "      <th>44</th>\n",
       "      <td>Thu, Nov. 19,  9:43 PM</td>\n",
       "      <td>Precipio, Inc.</td>\n",
       "      <td>Precipio, Inc. (PRPO) CEO Ilan Danieli on Q3 2...</td>\n",
       "      <td>https://seekingalpha.com/article/4390499-preci...</td>\n",
       "      <td>None</td>\n",
       "    </tr>\n",
       "    <tr>\n",
       "      <th>45</th>\n",
       "      <td>Thu, Nov. 19,  9:32 PM</td>\n",
       "      <td>ClearSign Technologies Corporation</td>\n",
       "      <td>ClearSign Technologies Corporation (CLIR) CEO ...</td>\n",
       "      <td>https://seekingalpha.com/article/4390498-clear...</td>\n",
       "      <td>None</td>\n",
       "    </tr>\n",
       "    <tr>\n",
       "      <th>46</th>\n",
       "      <td>Thu, Nov. 19,  9:22 PM</td>\n",
       "      <td>Automatic Data Processing, Inc.</td>\n",
       "      <td>Automatic Data Processing, Inc. (ADP) Presents...</td>\n",
       "      <td>https://seekingalpha.com/article/4390496-autom...</td>\n",
       "      <td>None</td>\n",
       "    </tr>\n",
       "    <tr>\n",
       "      <th>47</th>\n",
       "      <td>Thu, Nov. 19,  9:18 PM</td>\n",
       "      <td>Bausch Health Companies Inc.</td>\n",
       "      <td>Bausch Health Companies, Inc. (BHC) Presents a...</td>\n",
       "      <td>https://seekingalpha.com/article/4390495-bausc...</td>\n",
       "      <td>None</td>\n",
       "    </tr>\n",
       "    <tr>\n",
       "      <th>48</th>\n",
       "      <td>Thu, Nov. 19,  9:00 PM</td>\n",
       "      <td>Golden Leaf Holdings Ltd.</td>\n",
       "      <td>Golden Leaf Holdings Ltd. (GLDFF) CEO Jeff Yap...</td>\n",
       "      <td>https://seekingalpha.com/article/4390493-golde...</td>\n",
       "      <td>None</td>\n",
       "    </tr>\n",
       "    <tr>\n",
       "      <th>49</th>\n",
       "      <td>Thu, Nov. 19,  8:57 PM</td>\n",
       "      <td>Amtech Systems, Inc.</td>\n",
       "      <td>Amtech Systems' (ASYS) CEO Michael Whang on Q4...</td>\n",
       "      <td>https://seekingalpha.com/article/4390492-amtec...</td>\n",
       "      <td>None</td>\n",
       "    </tr>\n",
       "  </tbody>\n",
       "</table>\n",
       "</div>"
      ],
      "text/plain": [
       "                      date                                                org  \\\n",
       "0   Fri, Nov. 20, 10:32 PM                            Helmerich & Payne, Inc.   \n",
       "1   Fri, Nov. 20,  9:54 PM                                   GSX Techedu Inc.   \n",
       "2   Fri, Nov. 20,  6:28 PM                              Eli Lilly and Company   \n",
       "3   Fri, Nov. 20,  5:21 PM  Cresud Sociedad Anónima Comercial, Inmobiliari...   \n",
       "4   Fri, Nov. 20,  4:21 PM  IRSA Inversiones y Representaciones Sociedad A...   \n",
       "5   Fri, Nov. 20,  4:01 PM                  Magellan Midstream Partners, L.P.   \n",
       "6   Fri, Nov. 20,  3:50 PM                             Grupo Supervielle S.A.   \n",
       "7   Fri, Nov. 20,  3:35 PM                             PennantPark Investment   \n",
       "8   Fri, Nov. 20,  3:31 PM                  Geospace Technologies Corporation   \n",
       "9   Fri, Nov. 20,  3:25 PM                                 The RMR Group Inc.   \n",
       "10  Fri, Nov. 20,  3:02 PM                                  Sysco Corporation   \n",
       "11  Fri, Nov. 20,  3:01 PM                                  Real Matters Inc.   \n",
       "12  Fri, Nov. 20,  2:51 PM                         Destination XL Group, Inc.   \n",
       "13  Fri, Nov. 20,  2:51 PM                              BellRing Brands, Inc.   \n",
       "14  Fri, Nov. 20,  2:47 PM                       Burning Rock Biotech Limited   \n",
       "15  Fri, Nov. 20,  2:36 PM                                   The Buckle, Inc.   \n",
       "16  Fri, Nov. 20,  2:02 PM                               HeadHunter Group PLC   \n",
       "17  Fri, Nov. 20,  1:47 PM                               Hibbett Sports, Inc.   \n",
       "18  Fri, Nov. 20,  1:37 PM                                  Foot Locker, Inc.   \n",
       "19  Fri, Nov. 20,  1:20 PM                              IEC Electronics Corp.   \n",
       "20  Fri, Nov. 20, 12:49 PM                 Matthews International Corporation   \n",
       "21  Fri, Nov. 20, 12:49 PM                                          AT&T Inc.   \n",
       "22  Fri, Nov. 20, 12:03 PM                                 i3 Verticals, Inc.   \n",
       "23  Fri, Nov. 20, 11:42 AM                                Post Holdings, Inc.   \n",
       "24  Fri, Nov. 20,  8:13 AM                                         Ooma, Inc.   \n",
       "25  Fri, Nov. 20,  6:33 AM       Eurobank Ergasias Services and Holdings S.A.   \n",
       "26  Fri, Nov. 20,  3:40 AM                                 360 DigiTech, Inc.   \n",
       "27  Fri, Nov. 20,  2:22 AM                                  T-Mobile US, Inc.   \n",
       "28  Fri, Nov. 20,  1:32 AM                                 Altice Europe N.V.   \n",
       "29  Fri, Nov. 20, 12:46 AM                                      Workday, Inc.   \n",
       "30  Thu, Nov. 19, 11:40 PM                             ESCO Technologies Inc.   \n",
       "31  Thu, Nov. 19, 11:34 PM            Public Joint Stock Company Gazprom Neft   \n",
       "32  Thu, Nov. 19, 11:31 PM                                          Halma plc   \n",
       "33  Thu, Nov. 19, 11:28 PM                        Beacon Roofing Supply, Inc.   \n",
       "34  Thu, Nov. 19, 11:26 PM                              Williams-Sonoma, Inc.   \n",
       "35  Thu, Nov. 19, 11:25 PM                                Delta Apparel, Inc.   \n",
       "36  Thu, Nov. 19, 11:21 PM                                     Woodward, Inc.   \n",
       "37  Thu, Nov. 19, 11:19 PM                             BioHiTech Global, Inc.   \n",
       "38  Thu, Nov. 19, 10:47 PM                                          111, Inc.   \n",
       "39  Thu, Nov. 19, 10:45 PM            Sociedad Química y Minera de Chile S.A.   \n",
       "40  Thu, Nov. 19, 10:43 PM                            Höegh LNG Holdings Ltd.   \n",
       "41  Thu, Nov. 19, 10:39 PM                             KGHM Polska Miedz S.A.   \n",
       "42  Thu, Nov. 19, 10:11 PM                                  Ross Stores, Inc.   \n",
       "43  Thu, Nov. 19,  9:59 PM                                   Biotricity, Inc.   \n",
       "44  Thu, Nov. 19,  9:43 PM                                     Precipio, Inc.   \n",
       "45  Thu, Nov. 19,  9:32 PM                 ClearSign Technologies Corporation   \n",
       "46  Thu, Nov. 19,  9:22 PM                    Automatic Data Processing, Inc.   \n",
       "47  Thu, Nov. 19,  9:18 PM                       Bausch Health Companies Inc.   \n",
       "48  Thu, Nov. 19,  9:00 PM                          Golden Leaf Holdings Ltd.   \n",
       "49  Thu, Nov. 19,  8:57 PM                               Amtech Systems, Inc.   \n",
       "\n",
       "                                                title  \\\n",
       "0   Helmerich & Payne, Inc. (HP) CEO John Lindsay ...   \n",
       "1   GSX Techedu's (GSX) CEO Larry Chen on Q3 2020 ...   \n",
       "2   Eli Lilly and Company (LLY) Presents Tirzepati...   \n",
       "3   Cresud SACIF y A (CRESY) CEO Alejandro Elsztai...   \n",
       "4   IRSA Inversiones y Representaciones Sociedad A...   \n",
       "5   Magellan Midstream Partners, L.P. (MMP) Presen...   \n",
       "6   Grupo Supervielle's (SUPV) CEO Patricio Superv...   \n",
       "7   PennantPark Investment Corporation (PNNT) CEO ...   \n",
       "8   Geospace Technologies Corporation (GEOS) CEO W...   \n",
       "9   The RMR Group's (RMR) CEO Adam Portnoy on Q4 2...   \n",
       "10  Sysco Corporation (SYY) 2020 Annual Meeting of...   \n",
       "11  Real Matters' (RLLMF) CEO Brian Lang on Q4 202...   \n",
       "12  Destination XL Group, Inc. (DXLG) CEO Harvey K...   \n",
       "13  Bellring Brands, Inc. (BRBR) CEO Darcy Davenpo...   \n",
       "14  Burning Rock Biotech Limited (BNR) CEO Yusheng...   \n",
       "15  The Buckle, Inc. (BKE) CEO Dennis Nelson on Q3...   \n",
       "16  HeadHunter Group's (HHR) CEO Mikhail Zhukov on...   \n",
       "17  Hibbett Sports, Inc.'s (HIBB) CEO Mike Longo o...   \n",
       "18  Foot Locker, Inc. (FL) CEO Dick Johnson on Q3 ...   \n",
       "19  IEC Electronics Corp (IEC) CEO Jeff Schlarbaum...   \n",
       "20  Matthews International Corp (MATW) CEO Joseph ...   \n",
       "21  AT&T, Inc. (T) Presents at Morgan Stanley TMT ...   \n",
       "22  i3 Verticals Inc (IIIV) CEO Gregory Daily on Q...   \n",
       "23  Post Holdings, Inc. (POST) CEO Rob Vitale on Q...   \n",
       "24  Ooma, Inc. (OOMA) CEO Eric Stang on Q3 2021 Re...   \n",
       "25  Eurobank Ergasias Services and Holding's (EGFE...   \n",
       "26  360 DigiTech, Inc. (QFIN) CEO Wu Haisheng on Q...   \n",
       "27  T-Mobile US, Inc. (TMUS) Management Presents a...   \n",
       "28  Altice Europe's (ALVVF) Management on Q3 2020 ...   \n",
       "29  Workday, Inc. (WDAY) CEO Aneel Bhusri on Q3 20...   \n",
       "30  ESCO Technologies Inc. (ESE) CEO Vic Richey on...   \n",
       "31  Public Joint Stock Company Gazprom Neft's (GZP...   \n",
       "32  Halma's (HLMAF) CEO Andrew Williams on Half Ye...   \n",
       "33  Beacon Roofing Supply, Inc. (BECN) CEO Julian ...   \n",
       "34  Williams-Sonoma, Inc. (WSM) CEO Laura Alber on...   \n",
       "35  Delta Apparel, Inc. (DLA) CEO Robert Humphreys...   \n",
       "36  Woodward, Inc. (WWD) CEO Tom Gendron on Q4 202...   \n",
       "37  BioHiTech Global, Inc. (BHTG) CEO Anthony Full...   \n",
       "38  111, Inc. (YI) CEO Junling Liu on Q3 2020 Resu...   \n",
       "39  Sociedad Química y Minera de Chile's (SQM) CEO...   \n",
       "40  Hoegh LNG Holdings Ltd. (HOLHF) CEO Sveinung S...   \n",
       "41  KGHM Polska Miedz S.A. (KGHPF) CEO Marcin Chlu...   \n",
       "42  Ross Stores' (ROST) CEO Barbara Rentler on Q3 ...   \n",
       "43  Biotricity, Inc. (BTCY) CEO Waqaas Al-Siddiq o...   \n",
       "44  Precipio, Inc. (PRPO) CEO Ilan Danieli on Q3 2...   \n",
       "45  ClearSign Technologies Corporation (CLIR) CEO ...   \n",
       "46  Automatic Data Processing, Inc. (ADP) Presents...   \n",
       "47  Bausch Health Companies, Inc. (BHC) Presents a...   \n",
       "48  Golden Leaf Holdings Ltd. (GLDFF) CEO Jeff Yap...   \n",
       "49  Amtech Systems' (ASYS) CEO Michael Whang on Q4...   \n",
       "\n",
       "                                                  url  \\\n",
       "0   https://seekingalpha.com/article/4390777-helme...   \n",
       "1   https://seekingalpha.com/article/4390776-gsx-t...   \n",
       "2   https://seekingalpha.com/article/4390771-eli-l...   \n",
       "3   https://seekingalpha.com/article/4390758-cresu...   \n",
       "4   https://seekingalpha.com/article/4390744-irsa-...   \n",
       "5   https://seekingalpha.com/article/4390740-magel...   \n",
       "6   https://seekingalpha.com/article/4390737-grupo...   \n",
       "7   https://seekingalpha.com/article/4390727-penna...   \n",
       "8   https://seekingalpha.com/article/4390719-geosp...   \n",
       "9   https://seekingalpha.com/article/4390712-rmr-g...   \n",
       "10  https://seekingalpha.com/article/4390698-sysco...   \n",
       "11  https://seekingalpha.com/article/4390697-real-...   \n",
       "12  https://seekingalpha.com/article/4390696-desti...   \n",
       "13  https://seekingalpha.com/article/4390695-bellr...   \n",
       "14  https://seekingalpha.com/article/4390693-burni...   \n",
       "15  https://seekingalpha.com/article/4390690-buckl...   \n",
       "16  https://seekingalpha.com/article/4390665-headh...   \n",
       "17  https://seekingalpha.com/article/4390662-hibbe...   \n",
       "18  https://seekingalpha.com/article/4390658-foot-...   \n",
       "19  https://seekingalpha.com/article/4390656-iec-e...   \n",
       "20  https://seekingalpha.com/article/4390645-matth...   \n",
       "21  https://seekingalpha.com/article/4390644-t-inc...   \n",
       "22  https://seekingalpha.com/article/4390634-i3-ve...   \n",
       "23  https://seekingalpha.com/article/4390626-post-...   \n",
       "24  https://seekingalpha.com/article/4390582-ooma-...   \n",
       "25  https://seekingalpha.com/article/4390564-eurob...   \n",
       "26  https://seekingalpha.com/article/4390543-360-d...   \n",
       "27  https://seekingalpha.com/article/4390537-t-mob...   \n",
       "28  https://seekingalpha.com/article/4390532-altic...   \n",
       "29  https://seekingalpha.com/article/4390527-workd...   \n",
       "30  https://seekingalpha.com/article/4390520-esco-...   \n",
       "31  https://seekingalpha.com/article/4390519-publi...   \n",
       "32  https://seekingalpha.com/article/4390518-halma...   \n",
       "33  https://seekingalpha.com/article/4390516-beaco...   \n",
       "34  https://seekingalpha.com/article/4390515-willi...   \n",
       "35  https://seekingalpha.com/article/4390514-delta...   \n",
       "36  https://seekingalpha.com/article/4390512-woodw...   \n",
       "37  https://seekingalpha.com/article/4390511-biohi...   \n",
       "38  https://seekingalpha.com/article/4390508-111-i...   \n",
       "39  https://seekingalpha.com/article/4390507-socie...   \n",
       "40  https://seekingalpha.com/article/4390506-hoegh...   \n",
       "41  https://seekingalpha.com/article/4390505-kghm-...   \n",
       "42  https://seekingalpha.com/article/4390502-ross-...   \n",
       "43  https://seekingalpha.com/article/4390501-biotr...   \n",
       "44  https://seekingalpha.com/article/4390499-preci...   \n",
       "45  https://seekingalpha.com/article/4390498-clear...   \n",
       "46  https://seekingalpha.com/article/4390496-autom...   \n",
       "47  https://seekingalpha.com/article/4390495-bausc...   \n",
       "48  https://seekingalpha.com/article/4390493-golde...   \n",
       "49  https://seekingalpha.com/article/4390492-amtec...   \n",
       "\n",
       "                                             filename  \n",
       "0         Helmerich-Payne-Inc_Fri-Nov-20-10-32-PM.txt  \n",
       "1              GSX-Techedu-Inc_Fri-Nov-20-9-54-PM.txt  \n",
       "2        Eli-Lilly-and-Company_Fri-Nov-20-6-28-PM.txt  \n",
       "3   Cresud-Sociedad-An-nima-Comercial-Inmobiliaria...  \n",
       "4   IRSA-Inversiones-y-Representaciones-Sociedad-A...  \n",
       "5   Magellan-Midstream-Partners-LP_Fri-Nov-20-4-01...  \n",
       "6         Grupo-Supervielle-SA_Fri-Nov-20-3-50-PM.txt  \n",
       "7       PennantPark-Investment_Fri-Nov-20-3-35-PM.txt  \n",
       "8   Geospace-Technologies-Corporation_Fri-Nov-20-3...  \n",
       "9            The-RMR-Group-Inc_Fri-Nov-20-3-25-PM.txt  \n",
       "10           Sysco-Corporation_Fri-Nov-20-3-02-PM.txt  \n",
       "11            Real-Matters-Inc_Fri-Nov-20-3-01-PM.txt  \n",
       "12    Destination-XL-Group-Inc_Fri-Nov-20-2-51-PM.txt  \n",
       "13         BellRing-Brands-Inc_Fri-Nov-20-2-51-PM.txt  \n",
       "14  Burning-Rock-Biotech-Limited_Fri-Nov-20-2-47-P...  \n",
       "15              The-Buckle-Inc_Fri-Nov-20-2-36-PM.txt  \n",
       "16        HeadHunter-Group-PLC_Fri-Nov-20-2-02-PM.txt  \n",
       "17          Hibbett-Sports-Inc_Fri-Nov-20-1-47-PM.txt  \n",
       "18             Foot-Locker-Inc_Fri-Nov-20-1-37-PM.txt  \n",
       "19        IEC-Electronics-Corp_Fri-Nov-20-1-20-PM.txt  \n",
       "20  Matthews-International-Corporation_Fri-Nov-20-...  \n",
       "21                   AT-T-Inc_Fri-Nov-20-12-49-PM.txt  \n",
       "22           i3-Verticals-Inc_Fri-Nov-20-12-03-PM.txt  \n",
       "23          Post-Holdings-Inc_Fri-Nov-20-11-42-AM.txt  \n",
       "24                    Ooma-Inc_Fri-Nov-20-8-13-AM.txt  \n",
       "25  Eurobank-Ergasias-Services-and-Holdings-SA_Fri...  \n",
       "26            360-DigiTech-Inc_Fri-Nov-20-3-40-AM.txt  \n",
       "27             T-Mobile-US-Inc_Fri-Nov-20-2-22-AM.txt  \n",
       "28            Altice-Europe-NV_Fri-Nov-20-1-32-AM.txt  \n",
       "29                Workday-Inc_Fri-Nov-20-12-46-AM.txt  \n",
       "30      ESCO-Technologies-Inc_Thu-Nov-19-11-40-PM.txt  \n",
       "31  Public-Joint-Stock-Company-Gazprom-Neft_Thu-No...  \n",
       "32                  Halma-plc_Thu-Nov-19-11-31-PM.txt  \n",
       "33  Beacon-Roofing-Supply-Inc_Thu-Nov-19-11-28-PM.txt  \n",
       "34        Williams-Sonoma-Inc_Thu-Nov-19-11-26-PM.txt  \n",
       "35          Delta-Apparel-Inc_Thu-Nov-19-11-25-PM.txt  \n",
       "36               Woodward-Inc_Thu-Nov-19-11-21-PM.txt  \n",
       "37       BioHiTech-Global-Inc_Thu-Nov-19-11-19-PM.txt  \n",
       "38                    111-Inc_Thu-Nov-19-10-47-PM.txt  \n",
       "39  Sociedad-Qu-mica-y-Minera-de-Chile-SA_Thu-Nov-...  \n",
       "40                                               None  \n",
       "41                                               None  \n",
       "42                                               None  \n",
       "43                                               None  \n",
       "44                                               None  \n",
       "45                                               None  \n",
       "46                                               None  \n",
       "47                                               None  \n",
       "48                                               None  \n",
       "49                                               None  "
      ]
     },
     "execution_count": 227,
     "metadata": {},
     "output_type": "execute_result"
    }
   ],
   "source": [
    "seeking_alpha_index.iloc[0:50]"
   ]
  },
  {
   "cell_type": "code",
   "execution_count": null,
   "metadata": {},
   "outputs": [],
   "source": []
  }
 ],
 "metadata": {
  "kernelspec": {
   "display_name": "Python 3",
   "language": "python",
   "name": "python3"
  },
  "language_info": {
   "codemirror_mode": {
    "name": "ipython",
    "version": 3
   },
   "file_extension": ".py",
   "mimetype": "text/x-python",
   "name": "python",
   "nbconvert_exporter": "python",
   "pygments_lexer": "ipython3",
   "version": "3.7.4"
  }
 },
 "nbformat": 4,
 "nbformat_minor": 4
}
