{
 "cells": [
  {
   "cell_type": "markdown",
   "metadata": {},
   "source": [
    "# Scrape How I Built This (Podcast)\n",
    "\n",
    "- code for pulling How I Built this transcripts from happyscribe.com\n",
    "- note: there are a lot more podcasts on the official how I built this website available for download, but they are audio files, not text, and would require an anditional transcription step."
   ]
  },
  {
   "cell_type": "code",
   "execution_count": null,
   "metadata": {
    "ExecuteTime": {
     "end_time": "2020-11-19T23:37:23.242159Z",
     "start_time": "2020-11-19T23:37:22.133223Z"
    }
   },
   "outputs": [],
   "source": [
    "# Jupyter magic\n",
    "%load_ext autoreload\n",
    "%autoreload 2\n",
    "%matplotlib inline"
   ]
  },
  {
   "cell_type": "code",
   "execution_count": null,
   "metadata": {
    "ExecuteTime": {
     "end_time": "2020-11-19T23:37:24.990553Z",
     "start_time": "2020-11-19T23:37:23.300915Z"
    }
   },
   "outputs": [],
   "source": [
    "# imports\n",
    "import requests\n",
    "from bs4 import BeautifulSoup\n",
    "import re\n",
    "import time\n",
    "import random\n",
    "import pandas as pd\n",
    "from seleniumrequests import Chrome\n",
    "import pathlib"
   ]
  },
  {
   "cell_type": "code",
   "execution_count": null,
   "metadata": {
    "ExecuteTime": {
     "end_time": "2020-11-19T23:37:25.116362Z",
     "start_time": "2020-11-19T23:37:25.091227Z"
    }
   },
   "outputs": [],
   "source": [
    "save_dir = \"../1_data/how_i_built_this\"\n",
    "url = \"https://www.happyscribe.com/public/how-i-built-this-with-guy-raz\""
   ]
  },
  {
   "cell_type": "code",
   "execution_count": null,
   "metadata": {
    "ExecuteTime": {
     "end_time": "2020-11-19T23:37:32.868801Z",
     "start_time": "2020-11-19T23:37:25.118888Z"
    },
    "scrolled": false
   },
   "outputs": [],
   "source": [
    "# Change this to where the chromedriver is in your environment\n",
    "path_to_chromedriver = '../chromedriver'\n",
    "\n",
    "driver = Chrome(executable_path=path_to_chromedriver)\n",
    "driver.get(url)"
   ]
  },
  {
   "cell_type": "markdown",
   "metadata": {
    "ExecuteTime": {
     "end_time": "2020-11-16T18:26:54.601299Z",
     "start_time": "2020-11-16T18:26:54.546918Z"
    }
   },
   "source": [
    "### Note: to get all the links, use the selinium window to scroll down repeatedly triggerint the \"load more\" action in the window"
   ]
  },
  {
   "cell_type": "code",
   "execution_count": null,
   "metadata": {
    "ExecuteTime": {
     "end_time": "2020-11-19T23:38:08.806980Z",
     "start_time": "2020-11-19T23:38:08.733600Z"
    }
   },
   "outputs": [],
   "source": [
    "links = driver.find_elements_by_class_name('hsp-card-episode')\n",
    "len(links)"
   ]
  },
  {
   "cell_type": "code",
   "execution_count": null,
   "metadata": {
    "ExecuteTime": {
     "end_time": "2020-11-19T23:38:25.545710Z",
     "start_time": "2020-11-19T23:38:25.012520Z"
    }
   },
   "outputs": [],
   "source": [
    "episode_urls = []\n",
    "for l in links:\n",
    "    episode_urls.append(l.get_property('href'))\n",
    "    \n",
    "episode_urls[:3]"
   ]
  },
  {
   "cell_type": "code",
   "execution_count": null,
   "metadata": {
    "ExecuteTime": {
     "end_time": "2020-11-19T23:38:27.957421Z",
     "start_time": "2020-11-19T23:38:26.423506Z"
    }
   },
   "outputs": [],
   "source": [
    "def clean_text(text):\n",
    "    drop_list = [\"NPR sponsor\", \n",
    "                 \"before we start\", \"support of this show\", \"support show\", \n",
    "                 \"how I built this book\", \"Support for NPR\", \"our full interview\",  \"That's an excerpt\", \n",
    "                 \"question from Facebook\", \"Stay with us\", \"I'm Guy\"]\n",
    "    clean = []\n",
    "    for t in text:\n",
    "        drop = False\n",
    "        for d in drop_list:\n",
    "            if d in t:\n",
    "                drop = True\n",
    "        if drop:\n",
    "            continue\n",
    "        clean.append(t)\n",
    "    return clean\n",
    "\n",
    "def parse_title(title):\n",
    "    \n",
    "    if 'How I Built Resilience:' in title:\n",
    "        t = title.split('How I Built Resilience:')[1]\n",
    "        if 'of' in t:\n",
    "            name =  t.split('of')[0]\n",
    "            org =  t.split('of')[-1]\n",
    "            return name.strip(), org.strip()\n",
    "        if 'Live with':\n",
    "            name = t.split('Live with')[-1]\n",
    "            org = \"\"\n",
    "    else:\n",
    "        t = title.split(':')[-1]\n",
    "        name = t.split('(')[0]\n",
    "        org = title.split(':')[0]\n",
    "    return name.strip(), org.strip()\n",
    "\n",
    "def get_episode(episode_url):\n",
    "    response = requests.get(episode_url)\n",
    "    print(response)\n",
    "    soup = BeautifulSoup(response.text, 'html.parser')\n",
    "    title = soup.find('h1').text\n",
    "    text = [t.text for t in soup.find('main').find_all('p')]\n",
    "    text = clean_text(text)\n",
    "    year = soup.find(id='date').text.split()[-1]\n",
    "    return title, text, year\n",
    "\n",
    "\n",
    "title, text, year = get_episode(episode_urls[2])\n"
   ]
  },
  {
   "cell_type": "code",
   "execution_count": null,
   "metadata": {
    "ExecuteTime": {
     "end_time": "2020-11-19T23:38:30.661487Z",
     "start_time": "2020-11-19T23:38:28.918922Z"
    }
   },
   "outputs": [],
   "source": [
    "episode_url = episode_urls[5]\n",
    "response = requests.get(episode_url)\n",
    "print(response)\n",
    "soup = BeautifulSoup(response.text, 'html.parser')\n",
    "episode_url"
   ]
  },
  {
   "cell_type": "code",
   "execution_count": null,
   "metadata": {
    "ExecuteTime": {
     "end_time": "2020-11-19T23:38:31.317991Z",
     "start_time": "2020-11-19T23:38:31.282179Z"
    }
   },
   "outputs": [],
   "source": [
    "parse_title(title)"
   ]
  },
  {
   "cell_type": "code",
   "execution_count": null,
   "metadata": {
    "ExecuteTime": {
     "end_time": "2020-11-19T23:38:41.667054Z",
     "start_time": "2020-11-19T23:38:41.621417Z"
    }
   },
   "outputs": [],
   "source": [
    "name, org = parse_title(title)\n",
    "name, org"
   ]
  },
  {
   "cell_type": "code",
   "execution_count": null,
   "metadata": {
    "ExecuteTime": {
     "end_time": "2020-11-19T23:40:56.333813Z",
     "start_time": "2020-11-19T23:38:44.495329Z"
    }
   },
   "outputs": [],
   "source": [
    "\n",
    "data = []\n",
    "for episode_url in episode_urls:\n",
    "    title, text, year = get_episode(episode_url)\n",
    "\n",
    "    \n",
    "    name, org = parse_title(title)\n",
    "    print(title)\n",
    "    print(len(text), 'lines')\n",
    "    \n",
    "    fname = f\"{name.split()[-1].lower()}_hibt_{year}\"\n",
    "    fpath = f\"{save_dir}/{fname}.txt\"\n",
    "    print(fname)\n",
    "    with open(fpath, 'w') as f:\n",
    "        f.write(\"\\n\".join(text))\n",
    "    d = {\n",
    "        'name': name,\n",
    "        'org': org,\n",
    "        'title': title,\n",
    "        'year': year,\n",
    "        'filename': fname,\n",
    "        'source': 'hibt',\n",
    "        'url': episode_url,\n",
    "    }\n",
    "    data.append(d)"
   ]
  },
  {
   "cell_type": "code",
   "execution_count": null,
   "metadata": {
    "ExecuteTime": {
     "end_time": "2020-11-19T23:40:56.413909Z",
     "start_time": "2020-11-19T23:40:56.337114Z"
    }
   },
   "outputs": [],
   "source": [
    "df = pd.DataFrame(data)\n",
    "df.to_csv(f\"{save_dir}/index.csv\")\n",
    "df"
   ]
  },
  {
   "cell_type": "code",
   "execution_count": null,
   "metadata": {},
   "outputs": [],
   "source": []
  }
 ],
 "metadata": {
  "kernelspec": {
   "display_name": "Python 3",
   "language": "python",
   "name": "python3"
  },
  "language_info": {
   "codemirror_mode": {
    "name": "ipython",
    "version": 3
   },
   "file_extension": ".py",
   "mimetype": "text/x-python",
   "name": "python",
   "nbconvert_exporter": "python",
   "pygments_lexer": "ipython3",
   "version": "3.7.4"
  }
 },
 "nbformat": 4,
 "nbformat_minor": 4
}
