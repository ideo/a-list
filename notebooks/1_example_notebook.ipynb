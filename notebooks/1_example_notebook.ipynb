{
 "cells": [
  {
   "cell_type": "markdown",
   "metadata": {},
   "source": [
    "# Example notebook for testing basics out"
   ]
  },
  {
   "cell_type": "code",
   "execution_count": 1,
   "metadata": {
    "ExecuteTime": {
     "end_time": "2020-11-10T19:57:59.891991Z",
     "start_time": "2020-11-10T19:57:59.035698Z"
    }
   },
   "outputs": [],
   "source": [
    "# Jupyter magic\n",
    "%load_ext autoreload\n",
    "%autoreload 2\n",
    "%matplotlib inline"
   ]
  },
  {
   "cell_type": "code",
   "execution_count": 2,
   "metadata": {
    "ExecuteTime": {
     "end_time": "2020-11-10T19:58:00.770729Z",
     "start_time": "2020-11-10T19:57:59.894548Z"
    },
    "jupyter": {
     "source_hidden": true
    }
   },
   "outputs": [
    {
     "ename": "ModuleNotFoundError",
     "evalue": "No module named 'spacy'",
     "output_type": "error",
     "traceback": [
      "\u001b[0;31m---------------------------------------------------------------------------\u001b[0m",
      "\u001b[0;31mModuleNotFoundError\u001b[0m                       Traceback (most recent call last)",
      "\u001b[0;32m<ipython-input-2-2683187bb380>\u001b[0m in \u001b[0;36m<module>\u001b[0;34m\u001b[0m\n\u001b[1;32m      2\u001b[0m \u001b[0;32mimport\u001b[0m \u001b[0mpandas\u001b[0m \u001b[0;32mas\u001b[0m \u001b[0mpd\u001b[0m\u001b[0;34m\u001b[0m\u001b[0;34m\u001b[0m\u001b[0m\n\u001b[1;32m      3\u001b[0m \u001b[0;32mimport\u001b[0m \u001b[0mpathlib\u001b[0m\u001b[0;34m\u001b[0m\u001b[0;34m\u001b[0m\u001b[0m\n\u001b[0;32m----> 4\u001b[0;31m \u001b[0;32mimport\u001b[0m \u001b[0mspacy\u001b[0m\u001b[0;34m\u001b[0m\u001b[0;34m\u001b[0m\u001b[0m\n\u001b[0m",
      "\u001b[0;31mModuleNotFoundError\u001b[0m: No module named 'spacy'"
     ]
    }
   ],
   "source": [
    "# imports\n",
    "import pandas as pd\n",
    "import pathlib\n",
    "import spacy"
   ]
  },
  {
   "cell_type": "markdown",
   "metadata": {
    "ExecuteTime": {
     "end_time": "2020-11-10T04:47:16.435835Z",
     "start_time": "2020-11-10T04:47:16.392190Z"
    }
   },
   "source": [
    "### Load sample articles \n",
    "\n",
    "These were mentioned by Kathy in the [brief](https://docs.google.com/document/d/1ncZfFND1ytnZ3kgMl8RC4GtBFkC3-tAlBDQxuFhRgAU/edit). I manually copied and pasted the text into dropbox to make some quick data."
   ]
  },
  {
   "cell_type": "code",
   "execution_count": 3,
   "metadata": {
    "ExecuteTime": {
     "end_time": "2020-11-10T19:58:00.817985Z",
     "start_time": "2020-11-10T19:58:00.773928Z"
    }
   },
   "outputs": [
    {
     "name": "stdout",
     "output_type": "stream",
     "text": [
      "orbia_2019_forbes    - has 6585 chars\n",
      "orbia_2019_howtolead    - has 6753 chars\n",
      "orbia_2018_reuters_businessnews    - has 2376 chars\n",
      "orbia_2019_quartzatwork    - has 20006 chars\n"
     ]
    },
    {
     "ename": "IsADirectoryError",
     "evalue": "[Errno 21] Is a directory: '../1_data/example_articles/.ipynb_checkpoints'",
     "output_type": "error",
     "traceback": [
      "\u001b[0;31m---------------------------------------------------------------------------\u001b[0m",
      "\u001b[0;31mIsADirectoryError\u001b[0m                         Traceback (most recent call last)",
      "\u001b[0;32m<ipython-input-3-b69690ef15cf>\u001b[0m in \u001b[0;36m<module>\u001b[0;34m\u001b[0m\n\u001b[1;32m      5\u001b[0m \u001b[0;32mfor\u001b[0m \u001b[0marticle_path\u001b[0m \u001b[0;32min\u001b[0m \u001b[0mp\u001b[0m\u001b[0;34m.\u001b[0m\u001b[0mglob\u001b[0m\u001b[0;34m(\u001b[0m\u001b[0;34m'*'\u001b[0m\u001b[0;34m)\u001b[0m\u001b[0;34m:\u001b[0m\u001b[0;34m\u001b[0m\u001b[0;34m\u001b[0m\u001b[0m\n\u001b[1;32m      6\u001b[0m     \u001b[0mname\u001b[0m \u001b[0;34m=\u001b[0m \u001b[0marticle_path\u001b[0m\u001b[0;34m.\u001b[0m\u001b[0mname\u001b[0m\u001b[0;34m\u001b[0m\u001b[0;34m\u001b[0m\u001b[0m\n\u001b[0;32m----> 7\u001b[0;31m     \u001b[0mtxt\u001b[0m \u001b[0;34m=\u001b[0m \u001b[0marticle_path\u001b[0m\u001b[0;34m.\u001b[0m\u001b[0mread_text\u001b[0m\u001b[0;34m(\u001b[0m\u001b[0;34m)\u001b[0m\u001b[0;34m\u001b[0m\u001b[0;34m\u001b[0m\u001b[0m\n\u001b[0m\u001b[1;32m      8\u001b[0m     \u001b[0marticles\u001b[0m\u001b[0;34m[\u001b[0m\u001b[0mname\u001b[0m\u001b[0;34m]\u001b[0m \u001b[0;34m=\u001b[0m \u001b[0mtxt\u001b[0m\u001b[0;34m\u001b[0m\u001b[0;34m\u001b[0m\u001b[0m\n\u001b[1;32m      9\u001b[0m \u001b[0;34m\u001b[0m\u001b[0m\n",
      "\u001b[0;32m//anaconda3/lib/python3.7/pathlib.py\u001b[0m in \u001b[0;36mread_text\u001b[0;34m(self, encoding, errors)\u001b[0m\n\u001b[1;32m   1197\u001b[0m         \u001b[0mOpen\u001b[0m \u001b[0mthe\u001b[0m \u001b[0mfile\u001b[0m \u001b[0;32min\u001b[0m \u001b[0mtext\u001b[0m \u001b[0mmode\u001b[0m\u001b[0;34m,\u001b[0m \u001b[0mread\u001b[0m \u001b[0mit\u001b[0m\u001b[0;34m,\u001b[0m \u001b[0;32mand\u001b[0m \u001b[0mclose\u001b[0m \u001b[0mthe\u001b[0m \u001b[0mfile\u001b[0m\u001b[0;34m.\u001b[0m\u001b[0;34m\u001b[0m\u001b[0;34m\u001b[0m\u001b[0m\n\u001b[1;32m   1198\u001b[0m         \"\"\"\n\u001b[0;32m-> 1199\u001b[0;31m         \u001b[0;32mwith\u001b[0m \u001b[0mself\u001b[0m\u001b[0;34m.\u001b[0m\u001b[0mopen\u001b[0m\u001b[0;34m(\u001b[0m\u001b[0mmode\u001b[0m\u001b[0;34m=\u001b[0m\u001b[0;34m'r'\u001b[0m\u001b[0;34m,\u001b[0m \u001b[0mencoding\u001b[0m\u001b[0;34m=\u001b[0m\u001b[0mencoding\u001b[0m\u001b[0;34m,\u001b[0m \u001b[0merrors\u001b[0m\u001b[0;34m=\u001b[0m\u001b[0merrors\u001b[0m\u001b[0;34m)\u001b[0m \u001b[0;32mas\u001b[0m \u001b[0mf\u001b[0m\u001b[0;34m:\u001b[0m\u001b[0;34m\u001b[0m\u001b[0;34m\u001b[0m\u001b[0m\n\u001b[0m\u001b[1;32m   1200\u001b[0m             \u001b[0;32mreturn\u001b[0m \u001b[0mf\u001b[0m\u001b[0;34m.\u001b[0m\u001b[0mread\u001b[0m\u001b[0;34m(\u001b[0m\u001b[0;34m)\u001b[0m\u001b[0;34m\u001b[0m\u001b[0;34m\u001b[0m\u001b[0m\n\u001b[1;32m   1201\u001b[0m \u001b[0;34m\u001b[0m\u001b[0m\n",
      "\u001b[0;32m//anaconda3/lib/python3.7/pathlib.py\u001b[0m in \u001b[0;36mopen\u001b[0;34m(self, mode, buffering, encoding, errors, newline)\u001b[0m\n\u001b[1;32m   1184\u001b[0m             \u001b[0mself\u001b[0m\u001b[0;34m.\u001b[0m\u001b[0m_raise_closed\u001b[0m\u001b[0;34m(\u001b[0m\u001b[0;34m)\u001b[0m\u001b[0;34m\u001b[0m\u001b[0;34m\u001b[0m\u001b[0m\n\u001b[1;32m   1185\u001b[0m         return io.open(self, mode, buffering, encoding, errors, newline,\n\u001b[0;32m-> 1186\u001b[0;31m                        opener=self._opener)\n\u001b[0m\u001b[1;32m   1187\u001b[0m \u001b[0;34m\u001b[0m\u001b[0m\n\u001b[1;32m   1188\u001b[0m     \u001b[0;32mdef\u001b[0m \u001b[0mread_bytes\u001b[0m\u001b[0;34m(\u001b[0m\u001b[0mself\u001b[0m\u001b[0;34m)\u001b[0m\u001b[0;34m:\u001b[0m\u001b[0;34m\u001b[0m\u001b[0;34m\u001b[0m\u001b[0m\n",
      "\u001b[0;31mIsADirectoryError\u001b[0m: [Errno 21] Is a directory: '../1_data/example_articles/.ipynb_checkpoints'"
     ]
    }
   ],
   "source": [
    "data_dir = '../1_data/example_articles/'\n",
    "p = pathlib.Path(data_dir)\n",
    "\n",
    "articles = {}\n",
    "for article_path in p.glob('*'):\n",
    "    name = article_path.name\n",
    "    txt = article_path.read_text()\n",
    "    articles[name] = txt\n",
    "    \n",
    "    print(f'{name}    - has {len(txt)} chars')"
   ]
  },
  {
   "cell_type": "code",
   "execution_count": 4,
   "metadata": {
    "ExecuteTime": {
     "end_time": "2020-11-10T19:58:00.866200Z",
     "start_time": "2020-11-10T19:58:00.821139Z"
    }
   },
   "outputs": [
    {
     "data": {
      "text/plain": [
       "'One of the biggest questions I get asked is whether companies who did not have an overarching purpose in the first place can find one and transform themselves into a purpose-driven one. The answer is yes–but it is extremely hard and takes time.\\n\\nOne person who has taken his company on such a journey is Daniel Martínez-Valle, CEO of Orbia, CEO of Orbia (formerly Mexichem). Almost two years ago, he took the helm of a company with disparate business groups, missions and purposes (if they existed at all.) In undergoing their transformation, Martínez-Valle, CEO of Orbia asked a couple key questions: why do we exist beyond profit and how do you unite 22,000 employees operating in 110 countries?\\n\\nThe company re-organized into five global business groups, each focused on responding to opportunities to address of the world’s biggest challenges including: food security, water scarcity, rapid urbanization, community access to global data infrastructure, and expanding access to health and wellness through advanced materials, innovation and customer-centricity.\\n\\nDaniel Martínez-Valle: The day I was appointed CEO of Orbia was one of those days. I has just become the CEO of a 22,000-person organization, I realized that we don’t just sell products, but have an impact on people and can change the way they live their lives today and in the future. It was an honor that came with a deep sense of responsibility, and a profound sense of opportunity. This was a day when I came to understand our daily work, the things we do when we show up at the office every day can make a profound difference in the world. In other words, this was the day I discovered my “Why.”\\n\\nAziz: How would you articulate the new purpose of Orbia? How does it manifest itself in your core business?\\n\\nMartínez-Valle: Orbia’s purpose is to “advance life around the world.” At the core of what we do, we keep things moving forward. We fulfill our purpose by addressing a few of the world’s biggest challenges, those that define how people live and thrive today and in the future: ensuring food security, reducing water scarcity, reinventing the future of cities and homes, connecting communities around the world to global data infrastructure, and expanding access to health and wellness with advanced materials. We have aligned our challenges with some of the UN Sustainable Development Goals and all of our solutions across our business groups ultimately collaborate to address these challenges.\\n\\nAziz: You’ve said “we shouldn’t be a company defined by what we make but by what problems we solved in the world.” Why is it so important to frame it this way for a company?\\n\\nMartínez-Valle: When you focus solely on the products you make or the services you offer, it is easy to forget that you are part of a larger, global community, and everything you do makes an impact. By framing our company’s purpose on the problems that we solve, we are not only reminding ourselves of the role we play in the world but are also holding ourselves accountable to making sure our impact is positive and changes lives for the better.\\n\\nIt also challenges us to be innovative, examining how we can develop targeted solutions based on specific needs, as opposed to just selling a product. This allows us to be truly customer centric as we focus our efforts on solving our customers’ needs; and future-fit as we make sure we develop resilient business models based on customer demand.\\n\\n Aziz: You’ve said, “we really wanted this to be a ‘we’ exercise, not a ‘me’ exercise”. Tell us why you think it was so important to engage all the employees in this discussion around purpose?\\n\\nMartínez-Valle: We consider Orbia to be a true global community, and our 22,000 employees are at the core of our growth and success. Our company transformation wouldn’t have been authentic or effective if we didn’t fully engage with our employees and understand what purpose meant to them. Their input and feedback, provided through survey responses and dozens of workshops, was instrumental in framing our mission and purpose, and how we execute against it. Without them, it would’ve been impossible to re-establish why we exist and surface the common thread between our business groups that ensures that reason manifests consistently.\\n\\n Aziz: What was the biggest challenge you faced in transforming your company into a purpose-led one?’\\n\\nMartínez-Valle: Our biggest challenge has been recognizing that this isn’t an overnight or singular transformation by any means. We needed to realize that a transformation like ours is a long-term corporate commitment, and we can’t rush the process if we really want to be a future-fit, human-centered company. We also can’t change the world alone. While our solutions to the world’s challenges are unique, the challenges themselves are not, and every member of the corporate community has to play a part in addressing them.\\n\\nIt’s important to us to not just solve problems but inspire other corporate citizens to do the same. It’s a lofty goal, but we believe that we can transcend the status quo and make a genuine difference and that others can do the same. The perfect representation of that is our ImpactMark, which is the first living logo of a large corporation. Our ImpactMark shows that life is never a perfect circle, just like us. But we also strive to be better and commit to be transparent even when things aren’t perfect.\\n\\n Aziz: Thank you. Finally, what advice do you have for other CEOs who wish to go on this journey?\\n\\nMartínez-Valle: Never underestimate the value of collective purpose in inspiring employees, stakeholders and customers. I would advise leaders to make their transformation journeys as collaborative as possible across their organizations. The size and breadth of a company shouldn’t discourage gathering as much feedback and insight from employees and other stakeholders as possible. No voice should go unheard, regardless of level or position.\\n\\nAlongside gathering internal feedback, they should consider that input from their perspectives, and alongside regional and cultural context that might explain where it’s coming from. Use these insights to inform strategy and demonstrate to your employees how their input manifested in the final result.\\n\\nFinally, CEOs shouldn’t rush through transformation. If they are pushing through a journey like this to address external pressure, it won’t be authentic, and is unlikely to work. The process takes time, and that time should be used to its fullest to ensure that all of the necessary preparation and work is fully complete.'"
      ]
     },
     "execution_count": 4,
     "metadata": {},
     "output_type": "execute_result"
    }
   ],
   "source": [
    "articles['orbia_2019_forbes']"
   ]
  },
  {
   "cell_type": "markdown",
   "metadata": {},
   "source": [
    "## Add some NLP\n",
    "\n",
    "Straight from [spacy's example page](https://nightly.spacy.io/)"
   ]
  },
  {
   "cell_type": "code",
   "execution_count": 5,
   "metadata": {
    "ExecuteTime": {
     "end_time": "2020-11-10T19:58:02.182374Z",
     "start_time": "2020-11-10T19:58:00.869414Z"
    }
   },
   "outputs": [],
   "source": [
    "# This command is going to fail if the \"en_core_web_sm\" corpus hasn't been installed yet.\n",
    "nlp = spacy.load(\"en_core_web_sm\")"
   ]
  },
  {
   "cell_type": "code",
   "execution_count": 8,
   "metadata": {
    "ExecuteTime": {
     "end_time": "2020-11-10T20:00:00.954941Z",
     "start_time": "2020-11-10T20:00:00.737167Z"
    }
   },
   "outputs": [
    {
     "name": "stdout",
     "output_type": "stream",
     "text": [
      "Noun phrases: ['the biggest questions', 'I', 'companies', 'who', 'an overarching purpose', 'the first place', 'themselves', 'The answer', 'it', 'time', 'One person', 'who', 'his company', 'such a journey', 'Daniel Martínez-Valle', 'CEO', 'Orbia', 'CEO', 'Orbia', 'formerly Mexichem', 'he', 'the helm', 'a company', 'disparate business groups', 'missions', 'purposes', 'they', 'their transformation', 'Martínez-Valle', 'CEO', 'Orbia', 'a couple key questions', 'we', 'profit', 'you', '22,000 employees', '110 countries', 'The company', 'five global business groups', 'opportunities', 'the world', 'biggest challenges', 'food security', 'water scarcity', 'rapid urbanization', 'community access', 'global data infrastructure', 'access', 'health', 'wellness', 'advanced materials', 'innovation', 'customer-centricity', 'Daniel Martínez-Valle', 'I', 'CEO', 'Orbia', 'those days', 'I', 'the CEO', 'a 22,000-person organization', 'I', 'we', 'products', 'an impact', 'people', 'the way', 'they', 'their lives', 'the future', 'It', 'an honor', 'a deep sense', 'responsibility', 'a profound sense', 'opportunity', 'a day', 'I', 'our daily work', 'the things', 'we', 'we', 'the office', 'a profound difference', 'the world', 'other words', 'the day', 'I', 'Aziz', 'you', 'the new purpose', 'Orbia', 'it', 'itself', 'your core business', 'Martínez-Valle', 'Orbia’s purpose', 'life', 'the world', 'the core', 'what', 'we', 'we', 'things', 'We', 'our purpose', 'the world', 'biggest challenges', 'people', 'the future', 'food security', 'water scarcity', 'the future', 'cities', 'homes', 'communities', 'the world', 'global data infrastructure', 'access', 'health', 'wellness', 'advanced materials', 'We', 'our challenges', 'the UN Sustainable Development Goals', 'our solutions', 'our business groups', 'these challenges', 'You', 'we', 'a company', 'what', 'we', 'what problems', 'we', 'the world', 'it', 'it', 'a company', 'you', 'the products', 'you', 'the services', 'you', 'it', 'you', 'part', 'a larger, global community', 'everything', 'you', 'an impact', 'our company', 'the problems', 'we', 'we', 'ourselves', 'the role', 'we', 'the world', 'ourselves', 'our impact', 'changes', 'It', 'us', 'we', 'targeted solutions', 'specific needs', 'a product', 'us', 'we', 'our efforts', 'our customers’ needs', 'future-fit', 'we', 'we', 'resilient business models', 'customer demand', 'Aziz', 'You', 'we', 'a ‘we’ exercise', ', not a ‘me’ exercise', 'us', 'you', 'it', 'all the employees', 'this discussion', 'purpose', 'We', 'Orbia', 'a true global community', 'our 22,000 employees', 'the core', 'our growth', 'success', 'Our company transformation', 'we', 'our employees', 'what purpose', 'them', 'Their input', 'feedback', 'survey responses', 'dozens', 'workshops', 'our mission', 'purpose', 'we', 'it', 'them', 'it', 'we', 'the common thread', 'our business groups', 'reason', 'What', 'the biggest challenge', 'you', 'your company', 'a purpose-led one', 'Martínez-Valle', 'Our biggest challenge', 'an overnight or singular transformation', 'any means', 'We', 'a transformation', 'ours', 'a long-term corporate commitment', 'we', 'the process', 'we', 'a future-fit, human-centered company', 'We', 'the world', 'our solutions', 'the world', 'challenges', 'the challenges', 'themselves', 'every member', 'the corporate community', 'a part', 'them', 'It', 'us', 'problems', 'other corporate citizens', 'It', 'a lofty goal', 'we', 'we', 'the status quo', 'a genuine difference', 'others', 'The perfect representation', 'our ImpactMark', 'the first living logo', 'a large corporation', 'Our ImpactMark', 'life', 'a perfect circle', 'us', 'we', 'things', 'Aziz', 'you', 'what advice', 'you', 'other CEOs', 'who', 'this journey', 'Martínez-Valle', 'the value', 'collective purpose', 'employees', 'stakeholders', 'customers', 'I', 'leaders', 'their transformation journeys', 'their organizations', 'The size', 'breadth', 'a company', 'as much feedback', 'insight', 'employees', 'other stakeholders', 'No voice', 'level', 'position', 'internal feedback', 'they', 'that input', 'their perspectives', 'regional and cultural context', 'it', 'these insights', 'strategy', 'your employees', 'their input', 'the final result', 'CEOs', 'transformation', 'they', 'a journey', 'external pressure', 'it', 'The process', 'time', 'that time', 'the necessary preparation', 'work']\n",
      "\n",
      "Verbs: ['get', 'ask', 'can', 'find', 'transform', 'drive', 'take', 'take', 'take', 'exist', 'undergo', 'ask', 'exist', 'unite', 'operate', 're', '-', 'organize', 'focus', 'respond', 'include', 'expand', 'appoint', 'become', 'realize', 'sell', 'can', 'change', 'live', 'come', 'come', 'understand', 'show', 'can', 'make', 'discover', 'would', 'articulate', 'manifest', 'advance', 'keep', 'move', 'fulfill', 'address', 'define', 'live', 'thrive', 'ensure', 'reduce', 'reinvent', 'connect', 'expand', 'align', 'collaborate', 'address', 'have', 'say', 'should', 'define', 'make', 'solve', 'frame', 'focus', 'make', 'offer', 'forget', 'make', 'frame', 'solve', 'remind', 'play', 'hold', 'make', 'challenge', 'examine', 'can', 'develop', 'target', 'base', 'oppose', 'sell', 'allow', 'focus', 'solve', 'make', 'develop', 'base', 'have', 'say', 'want', 'tell', 'think', 'engage', 'consider', 'would', 'engage', 'understand', 'mean', 'provide', 'frame', 'execute', 'would', 'have', 're', '-', 'establish', 'exist', 'surface', 'ensure', 'manifest', 'face', 'transform', 'lead', 'recognize', 'need', 'realize', 'can', 'rush', 'want', 'center', 'can', 'change', 'play', 'address', '’', 'solve', 'inspire', '’', 'believe', 'can', 'transcend', 'make', 'can', 'live', 'show', 'strive', 'commit', 'thank', 'wish', 'go', 'underestimate', 'inspire', 'would', 'advise', 'make', 'should', 'discourage', 'should', 'go', 'gather', 'should', 'consider', 'may', 'explain', '’', 'come', 'use', 'inform', 'manifest', 'should', 'rush', 'push', 'address', 'will', 'work', 'take', 'should', 'use', 'ensure']\n"
     ]
    }
   ],
   "source": [
    "doc = nlp(articles['orbia_2019_forbes'])\n",
    "\n",
    "# Analyze syntax\n",
    "print(\"Noun phrases:\", [chunk.text for chunk in doc.noun_chunks])\n",
    "print()\n",
    "print(\"Verbs:\", [token.lemma_ for token in doc if token.pos_ == \"VERB\"])\n"
   ]
  },
  {
   "cell_type": "code",
   "execution_count": 9,
   "metadata": {
    "ExecuteTime": {
     "end_time": "2020-11-10T20:00:03.500588Z",
     "start_time": "2020-11-10T20:00:03.463423Z"
    }
   },
   "outputs": [
    {
     "name": "stdout",
     "output_type": "stream",
     "text": [
      "One CARDINAL\n",
      "first ORDINAL\n",
      "Daniel Martínez-Valle PERSON\n",
      "Orbia GPE\n",
      "Orbia GPE\n",
      "Almost two years ago DATE\n",
      "Martínez-Valle PERSON\n",
      "Orbia GPE\n",
      "22,000 CARDINAL\n",
      "110 CARDINAL\n",
      "five CARDINAL\n",
      "Daniel Martínez-Valle PERSON\n",
      "Orbia GPE\n",
      "today DATE\n",
      "a day DATE\n",
      "daily DATE\n",
      "Orbia GPE\n",
      "Valle GPE\n",
      "Orbia GPE\n",
      "today DATE\n",
      "the UN Sustainable Development Goals ORG\n",
      "Valle GPE\n",
      "Valle GPE\n",
      "Orbia GPE\n",
      "22,000 CARDINAL\n",
      "dozens CARDINAL\n",
      "Martínez-Valle PERSON\n",
      "ImpactMark PERSON\n",
      "first ORDINAL\n",
      "ImpactMark PERSON\n",
      "Valle GPE\n"
     ]
    }
   ],
   "source": [
    "# Find named entities, phrases and concepts\n",
    "for entity in doc.ents:\n",
    "    print(entity.text, entity.label_)"
   ]
  },
  {
   "cell_type": "code",
   "execution_count": null,
   "metadata": {},
   "outputs": [],
   "source": []
  }
 ],
 "metadata": {
  "kernelspec": {
   "display_name": "Python 3",
   "language": "python",
   "name": "python3"
  },
  "language_info": {
   "codemirror_mode": {
    "name": "ipython",
    "version": 3
   },
   "file_extension": ".py",
   "mimetype": "text/x-python",
   "name": "python",
   "nbconvert_exporter": "python",
   "pygments_lexer": "ipython3",
   "version": "3.7.3"
  }
 },
 "nbformat": 4,
 "nbformat_minor": 4
}
